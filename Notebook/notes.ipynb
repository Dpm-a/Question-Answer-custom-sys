{
  "cells": [
    {
      "cell_type": "code",
      "execution_count": 1,
      "metadata": {
        "colab": {
          "base_uri": "https://localhost:8080/"
        },
        "id": "GJ_NrHvi4iJB",
        "outputId": "73b03a7f-1f50-49d9-e374-b0b50ab3e58f"
      },
      "outputs": [
        {
          "name": "stdout",
          "output_type": "stream",
          "text": [
            "Set up complete\n"
          ]
        }
      ],
      "source": [
        "!pip install openai\n",
        "!pip install tiktoken\n",
        "!pip install spacy\n",
        "!pip install gensim\n",
        "!pip install nltk\n",
        "\n",
        "!python -m spacy download it_core_news_sm\n",
        "\n",
        "!wget -O unk.csv \"UNK\"\n",
        "# to remove the output of the installation\n",
        "from IPython.display import clear_output\n",
        "clear_output(wait=True)\n",
        "print('Set up complete')"
      ]
    },
    {
      "cell_type": "code",
      "execution_count": 2,
      "metadata": {
        "id": "hMRnW94K9KPe"
      },
      "outputs": [],
      "source": [
        "import re\n",
        "import openai\n",
        "import pandas as pd\n",
        "import spacy\n",
        "import tiktoken\n",
        "from scipy import spatial\n",
        "\n",
        "# Load the Italian language model\n",
        "nlp = spacy.load('it_core_news_sm')\n",
        "\n",
        "import gensim\n",
        "import nltk\n",
        "from gensim import corpora\n",
        "\n",
        "nltk.download('stopwords')\n",
        "it_stop = set(nltk.corpus.stopwords.words('italian'))\n",
        "nltk.download('wordnet')\n",
        "from nltk.stem.wordnet import WordNetLemmatizer\n",
        "nltk.download('punkt')"
      ]
    },
    {
      "cell_type": "code",
      "execution_count": 3,
      "metadata": {
        "colab": {
          "base_uri": "https://localhost:8080/",
          "height": 476
        },
        "id": "ab7dWtP95nC2",
        "outputId": "da6e03cb-63ca-437c-c1a4-b186ec91f270"
      },
      "outputs": [
        {
          "data": {
            "text/html": [
              "\n",
              "  <div id=\"df-f60067bb-95a7-49e6-b24c-1f3d5cc3cabc\" class=\"colab-df-container\">\n",
              "    <div>\n",
              "<style scoped>\n",
              "    .dataframe tbody tr th:only-of-type {\n",
              "        vertical-align: middle;\n",
              "    }\n",
              "\n",
              "    .dataframe tbody tr th {\n",
              "        vertical-align: top;\n",
              "    }\n",
              "\n",
              "    .dataframe thead th {\n",
              "        text-align: right;\n",
              "    }\n",
              "</style>\n",
              "<table border=\"1\" class=\"dataframe\">\n",
              "  <thead>\n",
              "    <tr style=\"text-align: right;\">\n",
              "      <th></th>\n",
              "      <th>ID</th>\n",
              "      <th>Testo</th>\n",
              "      <th>Data</th>\n",
              "      <th>Categorie</th>\n",
              "      <th>Allegato</th>\n",
              "      <th>CNC</th>\n",
              "      <th>Sorgente</th>\n",
              "      <th>Canale</th>\n",
              "      <th>Risposta</th>\n",
              "      <th>CleanText</th>\n",
              "      <th>level_1</th>\n",
              "      <th>level_2</th>\n",
              "      <th>level_3</th>\n",
              "      <th>level_4</th>\n",
              "    </tr>\n",
              "  </thead>\n",
              "  <tbody>\n",
              "    <tr>\n",
              "      <th>0</th>\n",
              "      <td>4935171453181261_5071482946216777</td>\n",
              "      <td>Per piacere: il prezzo della scatola di “divin...</td>\n",
              "      <td>2022-01-07 09:59:00</td>\n",
              "      <td>SALES &amp; DISTRIBUTION -&gt; PREZZO -&gt; INFO (FB01)</td>\n",
              "      <td>NaN</td>\n",
              "      <td>caring</td>\n",
              "      <td>NaN</td>\n",
              "      <td>NaN</td>\n",
              "      <td>Ciao {customer_name}, il prezzo di ogni confez...</td>\n",
              "      <td>Per piacere: il prezzo della scatola di “divin...</td>\n",
              "      <td>SALES &amp; DISTRIBUTION</td>\n",
              "      <td>PREZZO</td>\n",
              "      <td>INFO (FB01)</td>\n",
              "      <td>NaN</td>\n",
              "    </tr>\n",
              "    <tr>\n",
              "      <th>1</th>\n",
              "      <td>4486011984763879_5010103639021375</td>\n",
              "      <td>Quando un cliente invia una email è cortesia r...</td>\n",
              "      <td>2021-12-21 10:27:00</td>\n",
              "      <td>no_cat</td>\n",
              "      <td>NaN</td>\n",
              "      <td>caring</td>\n",
              "      <td>NaN</td>\n",
              "      <td>NaN</td>\n",
              "      <td>Ciao Edoardo, ci dispiace per quanto ci hai se...</td>\n",
              "      <td>Quando un cliente invia una email è cortesia r...</td>\n",
              "      <td>no_cat</td>\n",
              "      <td>NaN</td>\n",
              "      <td>NaN</td>\n",
              "      <td>NaN</td>\n",
              "    </tr>\n",
              "    <tr>\n",
              "      <th>2</th>\n",
              "      <td>5090655194299552_5118963101468761</td>\n",
              "      <td>Salve, avete caffè  in chicchi?</td>\n",
              "      <td>2022-01-19 21:30:00</td>\n",
              "      <td>SALES &amp; DISTRIBUTION -&gt; VENDITA DIRETTA (E-COM...</td>\n",
              "      <td>NaN</td>\n",
              "      <td>caring</td>\n",
              "      <td>NaN</td>\n",
              "      <td>NaN</td>\n",
              "      <td>Ciao Massimo, puoi trovare la nostra selezione...</td>\n",
              "      <td>Salve avete caffè in chicchi?</td>\n",
              "      <td>SALES &amp; DISTRIBUTION</td>\n",
              "      <td>VENDITA DIRETTA (E-COMMERCE/TELEFONO)</td>\n",
              "      <td>INFO ASSORTIMENTO PRODOTTI FOOD (FD19)</td>\n",
              "      <td>NaN</td>\n",
              "    </tr>\n",
              "  </tbody>\n",
              "</table>\n",
              "</div>\n",
              "    <div class=\"colab-df-buttons\">\n",
              "\n",
              "  <div class=\"colab-df-container\">\n",
              "    <button class=\"colab-df-convert\" onclick=\"convertToInteractive('df-f60067bb-95a7-49e6-b24c-1f3d5cc3cabc')\"\n",
              "            title=\"Convert this dataframe to an interactive table.\"\n",
              "            style=\"display:none;\">\n",
              "\n",
              "  <svg xmlns=\"http://www.w3.org/2000/svg\" height=\"24px\" viewBox=\"0 -960 960 960\">\n",
              "    <path d=\"M120-120v-720h720v720H120Zm60-500h600v-160H180v160Zm220 220h160v-160H400v160Zm0 220h160v-160H400v160ZM180-400h160v-160H180v160Zm440 0h160v-160H620v160ZM180-180h160v-160H180v160Zm440 0h160v-160H620v160Z\"/>\n",
              "  </svg>\n",
              "    </button>\n",
              "\n",
              "  <style>\n",
              "    .colab-df-container {\n",
              "      display:flex;\n",
              "      gap: 12px;\n",
              "    }\n",
              "\n",
              "    .colab-df-convert {\n",
              "      background-color: #E8F0FE;\n",
              "      border: none;\n",
              "      border-radius: 50%;\n",
              "      cursor: pointer;\n",
              "      display: none;\n",
              "      fill: #1967D2;\n",
              "      height: 32px;\n",
              "      padding: 0 0 0 0;\n",
              "      width: 32px;\n",
              "    }\n",
              "\n",
              "    .colab-df-convert:hover {\n",
              "      background-color: #E2EBFA;\n",
              "      box-shadow: 0px 1px 2px rgba(60, 64, 67, 0.3), 0px 1px 3px 1px rgba(60, 64, 67, 0.15);\n",
              "      fill: #174EA6;\n",
              "    }\n",
              "\n",
              "    .colab-df-buttons div {\n",
              "      margin-bottom: 4px;\n",
              "    }\n",
              "\n",
              "    [theme=dark] .colab-df-convert {\n",
              "      background-color: #3B4455;\n",
              "      fill: #D2E3FC;\n",
              "    }\n",
              "\n",
              "    [theme=dark] .colab-df-convert:hover {\n",
              "      background-color: #434B5C;\n",
              "      box-shadow: 0px 1px 3px 1px rgba(0, 0, 0, 0.15);\n",
              "      filter: drop-shadow(0px 1px 2px rgba(0, 0, 0, 0.3));\n",
              "      fill: #FFFFFF;\n",
              "    }\n",
              "  </style>\n",
              "\n",
              "    <script>\n",
              "      const buttonEl =\n",
              "        document.querySelector('#df-f60067bb-95a7-49e6-b24c-1f3d5cc3cabc button.colab-df-convert');\n",
              "      buttonEl.style.display =\n",
              "        google.colab.kernel.accessAllowed ? 'block' : 'none';\n",
              "\n",
              "      async function convertToInteractive(key) {\n",
              "        const element = document.querySelector('#df-f60067bb-95a7-49e6-b24c-1f3d5cc3cabc');\n",
              "        const dataTable =\n",
              "          await google.colab.kernel.invokeFunction('convertToInteractive',\n",
              "                                                    [key], {});\n",
              "        if (!dataTable) return;\n",
              "\n",
              "        const docLinkHtml = 'Like what you see? Visit the ' +\n",
              "          '<a target=\"_blank\" href=https://colab.research.google.com/notebooks/data_table.ipynb>data table notebook</a>'\n",
              "          + ' to learn more about interactive tables.';\n",
              "        element.innerHTML = '';\n",
              "        dataTable['output_type'] = 'display_data';\n",
              "        await google.colab.output.renderOutput(dataTable, element);\n",
              "        const docLink = document.createElement('div');\n",
              "        docLink.innerHTML = docLinkHtml;\n",
              "        element.appendChild(docLink);\n",
              "      }\n",
              "    </script>\n",
              "  </div>\n",
              "\n",
              "\n",
              "<div id=\"df-a24765b2-2782-49f4-abdb-e4bc8e7b788a\">\n",
              "  <button class=\"colab-df-quickchart\" onclick=\"quickchart('df-a24765b2-2782-49f4-abdb-e4bc8e7b788a')\"\n",
              "            title=\"Suggest charts.\"\n",
              "            style=\"display:none;\">\n",
              "\n",
              "<svg xmlns=\"http://www.w3.org/2000/svg\" height=\"24px\"viewBox=\"0 0 24 24\"\n",
              "     width=\"24px\">\n",
              "    <g>\n",
              "        <path d=\"M19 3H5c-1.1 0-2 .9-2 2v14c0 1.1.9 2 2 2h14c1.1 0 2-.9 2-2V5c0-1.1-.9-2-2-2zM9 17H7v-7h2v7zm4 0h-2V7h2v10zm4 0h-2v-4h2v4z\"/>\n",
              "    </g>\n",
              "</svg>\n",
              "  </button>\n",
              "\n",
              "<style>\n",
              "  .colab-df-quickchart {\n",
              "      --bg-color: #E8F0FE;\n",
              "      --fill-color: #1967D2;\n",
              "      --hover-bg-color: #E2EBFA;\n",
              "      --hover-fill-color: #174EA6;\n",
              "      --disabled-fill-color: #AAA;\n",
              "      --disabled-bg-color: #DDD;\n",
              "  }\n",
              "\n",
              "  [theme=dark] .colab-df-quickchart {\n",
              "      --bg-color: #3B4455;\n",
              "      --fill-color: #D2E3FC;\n",
              "      --hover-bg-color: #434B5C;\n",
              "      --hover-fill-color: #FFFFFF;\n",
              "      --disabled-bg-color: #3B4455;\n",
              "      --disabled-fill-color: #666;\n",
              "  }\n",
              "\n",
              "  .colab-df-quickchart {\n",
              "    background-color: var(--bg-color);\n",
              "    border: none;\n",
              "    border-radius: 50%;\n",
              "    cursor: pointer;\n",
              "    display: none;\n",
              "    fill: var(--fill-color);\n",
              "    height: 32px;\n",
              "    padding: 0;\n",
              "    width: 32px;\n",
              "  }\n",
              "\n",
              "  .colab-df-quickchart:hover {\n",
              "    background-color: var(--hover-bg-color);\n",
              "    box-shadow: 0 1px 2px rgba(60, 64, 67, 0.3), 0 1px 3px 1px rgba(60, 64, 67, 0.15);\n",
              "    fill: var(--button-hover-fill-color);\n",
              "  }\n",
              "\n",
              "  .colab-df-quickchart-complete:disabled,\n",
              "  .colab-df-quickchart-complete:disabled:hover {\n",
              "    background-color: var(--disabled-bg-color);\n",
              "    fill: var(--disabled-fill-color);\n",
              "    box-shadow: none;\n",
              "  }\n",
              "\n",
              "  .colab-df-spinner {\n",
              "    border: 2px solid var(--fill-color);\n",
              "    border-color: transparent;\n",
              "    border-bottom-color: var(--fill-color);\n",
              "    animation:\n",
              "      spin 1s steps(1) infinite;\n",
              "  }\n",
              "\n",
              "  @keyframes spin {\n",
              "    0% {\n",
              "      border-color: transparent;\n",
              "      border-bottom-color: var(--fill-color);\n",
              "      border-left-color: var(--fill-color);\n",
              "    }\n",
              "    20% {\n",
              "      border-color: transparent;\n",
              "      border-left-color: var(--fill-color);\n",
              "      border-top-color: var(--fill-color);\n",
              "    }\n",
              "    30% {\n",
              "      border-color: transparent;\n",
              "      border-left-color: var(--fill-color);\n",
              "      border-top-color: var(--fill-color);\n",
              "      border-right-color: var(--fill-color);\n",
              "    }\n",
              "    40% {\n",
              "      border-color: transparent;\n",
              "      border-right-color: var(--fill-color);\n",
              "      border-top-color: var(--fill-color);\n",
              "    }\n",
              "    60% {\n",
              "      border-color: transparent;\n",
              "      border-right-color: var(--fill-color);\n",
              "    }\n",
              "    80% {\n",
              "      border-color: transparent;\n",
              "      border-right-color: var(--fill-color);\n",
              "      border-bottom-color: var(--fill-color);\n",
              "    }\n",
              "    90% {\n",
              "      border-color: transparent;\n",
              "      border-bottom-color: var(--fill-color);\n",
              "    }\n",
              "  }\n",
              "</style>\n",
              "\n",
              "  <script>\n",
              "    async function quickchart(key) {\n",
              "      const quickchartButtonEl =\n",
              "        document.querySelector('#' + key + ' button');\n",
              "      quickchartButtonEl.disabled = true;  // To prevent multiple clicks.\n",
              "      quickchartButtonEl.classList.add('colab-df-spinner');\n",
              "      try {\n",
              "        const charts = await google.colab.kernel.invokeFunction(\n",
              "            'suggestCharts', [key], {});\n",
              "      } catch (error) {\n",
              "        console.error('Error during call to suggestCharts:', error);\n",
              "      }\n",
              "      quickchartButtonEl.classList.remove('colab-df-spinner');\n",
              "      quickchartButtonEl.classList.add('colab-df-quickchart-complete');\n",
              "    }\n",
              "    (() => {\n",
              "      let quickchartButtonEl =\n",
              "        document.querySelector('#df-a24765b2-2782-49f4-abdb-e4bc8e7b788a button');\n",
              "      quickchartButtonEl.style.display =\n",
              "        google.colab.kernel.accessAllowed ? 'block' : 'none';\n",
              "    })();\n",
              "  </script>\n",
              "</div>\n",
              "    </div>\n",
              "  </div>\n"
            ],
            "text/plain": [
              "                                  ID  \\\n",
              "0  4935171453181261_5071482946216777   \n",
              "1  4486011984763879_5010103639021375   \n",
              "2  5090655194299552_5118963101468761   \n",
              "\n",
              "                                               Testo                 Data  \\\n",
              "0  Per piacere: il prezzo della scatola di “divin...  2022-01-07 09:59:00   \n",
              "1  Quando un cliente invia una email è cortesia r...  2021-12-21 10:27:00   \n",
              "2                    Salve, avete caffè  in chicchi?  2022-01-19 21:30:00   \n",
              "\n",
              "                                           Categorie  Allegato     CNC  \\\n",
              "0      SALES & DISTRIBUTION -> PREZZO -> INFO (FB01)       NaN  caring   \n",
              "1                                             no_cat       NaN  caring   \n",
              "2  SALES & DISTRIBUTION -> VENDITA DIRETTA (E-COM...       NaN  caring   \n",
              "\n",
              "   Sorgente  Canale                                           Risposta  \\\n",
              "0       NaN     NaN  Ciao {customer_name}, il prezzo di ogni confez...   \n",
              "1       NaN     NaN  Ciao Edoardo, ci dispiace per quanto ci hai se...   \n",
              "2       NaN     NaN  Ciao Massimo, puoi trovare la nostra selezione...   \n",
              "\n",
              "                                           CleanText               level_1  \\\n",
              "0  Per piacere: il prezzo della scatola di “divin...  SALES & DISTRIBUTION   \n",
              "1  Quando un cliente invia una email è cortesia r...                no_cat   \n",
              "2                      Salve avete caffè in chicchi?  SALES & DISTRIBUTION   \n",
              "\n",
              "                                 level_2  \\\n",
              "0                                 PREZZO   \n",
              "1                                    NaN   \n",
              "2  VENDITA DIRETTA (E-COMMERCE/TELEFONO)   \n",
              "\n",
              "                                  level_3 level_4  \n",
              "0                             INFO (FB01)     NaN  \n",
              "1                                     NaN     NaN  \n",
              "2  INFO ASSORTIMENTO PRODOTTI FOOD (FD19)     NaN  "
            ]
          },
          "execution_count": 3,
          "metadata": {},
          "output_type": "execute_result"
        }
      ],
      "source": [
        "df = pd.read_csv(\"unk.csv\").iloc[:, 1:]\n",
        "df.head(3)"
      ]
    },
    {
      "cell_type": "markdown",
      "metadata": {
        "id": "BwRRIEkv5lI7"
      },
      "source": [
        "# **Data Exploration**"
      ]
    },
    {
      "cell_type": "code",
      "execution_count": 164,
      "metadata": {
        "colab": {
          "base_uri": "https://localhost:8080/",
          "height": 0
        },
        "id": "fIQu9iC7Q23m",
        "outputId": "2bd2e87f-0c3e-4b98-be4f-17a0c98bef41"
      },
      "outputs": [
        {
          "data": {
            "text/plain": [
              "('Vorrei sapere per favore se esistono ancora le capsule per la macchinetta  espresso e cappuccino grazie',\n",
              " 'Ciao {customer_name}, riesci a darci qualche informazione aggiuntiva sui prodotti a cui sei interessata? Scrivici i dettagli e ti aiuteremo al più presto. Buona giornata!')"
            ]
          },
          "execution_count": 164,
          "metadata": {},
          "output_type": "execute_result"
        }
      ],
      "source": [
        "df.iloc[172].Testo, df.iloc[172].Risposta"
      ]
    },
    {
      "cell_type": "code",
      "execution_count": 165,
      "metadata": {
        "colab": {
          "base_uri": "https://localhost:8080/",
          "height": 35
        },
        "id": "r665IXt0QgRm",
        "outputId": "d7b3feee-f8a9-480a-a879-cef731886f18"
      },
      "outputs": [
        {
          "data": {
            "application/vnd.google.colaboratory.intrinsic+json": {
              "type": "string"
            },
            "text/plain": [
              "\"Antonio Semprevivo  compatibili con nespresso????? L'offerta è ancora valida ?\""
            ]
          },
          "execution_count": 165,
          "metadata": {},
          "output_type": "execute_result"
        }
      ],
      "source": [
        "df.iloc[420].Testo"
      ]
    },
    {
      "cell_type": "code",
      "execution_count": 166,
      "metadata": {
        "colab": {
          "base_uri": "https://localhost:8080/",
          "height": 53
        },
        "id": "FG8mvltFQgWL",
        "outputId": "266b7c6d-f886-40b3-bd94-e353f2e4da11"
      },
      "outputs": [
        {
          "data": {
            "application/vnd.google.colaboratory.intrinsic+json": {
              "type": "string"
            },
            "text/plain": [
              "'Carmen Ronchi bravo e quello che successo a me sotto Natale o preso anche x fare dei regali e x fortuna che mi serviva anche x me uno schifo o dovuto prendere  altro quindi un altra spesa x la mia pensione già misera'"
            ]
          },
          "execution_count": 166,
          "metadata": {},
          "output_type": "execute_result"
        }
      ],
      "source": [
        "df.iloc[937].Testo"
      ]
    },
    {
      "cell_type": "code",
      "execution_count": null,
      "metadata": {
        "colab": {
          "base_uri": "https://localhost:8080/"
        },
        "id": "QnJ3Dkrx5vNp",
        "outputId": "089b4d43-4544-4952-9c81-86229ac391b7"
      },
      "outputs": [],
      "source": [
        "print(df.iloc[0].Risposta)\n",
        "print(df.iloc[0].CleanText)"
      ]
    },
    {
      "cell_type": "code",
      "execution_count": null,
      "metadata": {
        "colab": {
          "base_uri": "https://localhost:8080/",
          "height": 0
        },
        "id": "_yw67Rku52Nk",
        "outputId": "784086bb-4520-4d22-e8f9-c5e81b6873b3"
      },
      "outputs": [],
      "source": [
        "idx = 2\n",
        "\n",
        "print(df.iloc[idx].Testo)\n",
        "print(df.iloc[idx].CleanText)\n",
        "print(df.iloc[idx].Risposta)\n",
        "print()\n",
        "print(df.iloc[idx].level_1)\n",
        "print(df.iloc[idx].level_2)\n",
        "print(df.iloc[idx].level_3)\n",
        "print(df.iloc[idx].level_4)"
      ]
    },
    {
      "cell_type": "code",
      "execution_count": 168,
      "metadata": {
        "colab": {
          "base_uri": "https://localhost:8080/",
          "height": 0
        },
        "id": "bIZMRQUu6Syn",
        "outputId": "4af2ae4f-eb8f-4aea-8d2c-bbc96c3bf8fd"
      },
      "outputs": [
        {
          "name": "stdout",
          "output_type": "stream",
          "text": [
            "<class 'pandas.core.frame.DataFrame'>\n",
            "RangeIndex: 976 entries, 0 to 975\n",
            "Data columns (total 14 columns):\n",
            " #   Column     Non-Null Count  Dtype  \n",
            "---  ------     --------------  -----  \n",
            " 0   ID         976 non-null    object \n",
            " 1   Testo      976 non-null    object \n",
            " 2   Data       976 non-null    object \n",
            " 3   Categorie  976 non-null    object \n",
            " 4   Allegato   0 non-null      float64\n",
            " 5   CNC        976 non-null    object \n",
            " 6   Sorgente   0 non-null      float64\n",
            " 7   Canale     0 non-null      float64\n",
            " 8   Risposta   976 non-null    object \n",
            " 9   CleanText  976 non-null    object \n",
            " 10  level_1    976 non-null    object \n",
            " 11  level_2    845 non-null    object \n",
            " 12  level_3    764 non-null    object \n",
            " 13  level_4    52 non-null     object \n",
            "dtypes: float64(3), object(11)\n",
            "memory usage: 106.9+ KB\n"
          ]
        }
      ],
      "source": [
        "df.info()"
      ]
    },
    {
      "cell_type": "code",
      "execution_count": 169,
      "metadata": {
        "colab": {
          "base_uri": "https://localhost:8080/",
          "height": 0
        },
        "id": "t65ZG57_78as",
        "outputId": "5f887da8-62ad-4549-cf2d-195d445a7c35"
      },
      "outputs": [
        {
          "data": {
            "text/plain": [
              "no_cat                                                                                                      131\n",
              "SALES & DISTRIBUTION -> PREZZO -> INFO (FB01)                                                               115\n",
              "SALES & DISTRIBUTION -> VENDITA DIRETTA (E-COMMERCE/TELEFONO) -> INFO (FD01)                                 57\n",
              "SALES & DISTRIBUTION -> REPERIBILITA' -> PRESSO PUNTI VENDITA (FA07)                                         57\n",
              "SALES & DISTRIBUTION -> ABBONAMENTI CRM COMMERCIALE -> INFO ABBONAMENTO (FE02)                               55\n",
              "                                                                                                           ... \n",
              "PRODOTTO -> ACCESSORI                                                                                         2\n",
              "SALES & DISTRIBUTION -> VENDITA DIRETTA (E-COMMERCE/TELEFONO) -> INFO ASSORTIM. ACCESSORI RICAMBI (FD20)      2\n",
              "COMUNICAZIONE & MARKETING -> CAMPIONATURE -> RICHIESTA CAMPIONI OMAGGIO/GADGET (CC01)                         2\n",
              "MACCHINA -> INFO, MANUTENZIONE, PULIZIA -> DECALCIFICAZIONE (EB01)                                            2\n",
              "MACCHINA -> INFO, MANUTENZIONE, PULIZIA                                                                       2\n",
              "Name: Categorie, Length: 62, dtype: int64"
            ]
          },
          "execution_count": 169,
          "metadata": {},
          "output_type": "execute_result"
        }
      ],
      "source": [
        "df.Categorie.value_counts()"
      ]
    },
    {
      "cell_type": "markdown",
      "metadata": {
        "id": "yhxPM5uXT1C-"
      },
      "source": [
        "## Check for Relationships among users and / or temporal space"
      ]
    },
    {
      "cell_type": "code",
      "execution_count": 170,
      "metadata": {
        "colab": {
          "base_uri": "https://localhost:8080/",
          "height": 0
        },
        "id": "ft3p0eZJE1p7",
        "outputId": "eb8b7fc6-59ed-4f32-f002-6f216bfb032a"
      },
      "outputs": [
        {
          "data": {
            "text/plain": [
              "<bound method Series.unique of 0      4935171453181261_5071482946216777\n",
              "1      4486011984763879_5010103639021375\n",
              "2      5090655194299552_5118963101468761\n",
              "3      5213603235338080_5295398937158509\n",
              "4      4447500738615004_4486390014726076\n",
              "                     ...                \n",
              "971    4725792457452496_4747731728591902\n",
              "972    4045062842238135_4262455037165580\n",
              "973     5678206848877714_593320969175770\n",
              "974    4486011984763879_5036772706354468\n",
              "975    5182012041830533_5208125325885871\n",
              "Name: ID, Length: 976, dtype: object>"
            ]
          },
          "execution_count": 170,
          "metadata": {},
          "output_type": "execute_result"
        }
      ],
      "source": [
        "# Check for multiple records from the same user\n",
        "df.ID.unique"
      ]
    },
    {
      "cell_type": "code",
      "execution_count": 95,
      "metadata": {
        "colab": {
          "base_uri": "https://localhost:8080/",
          "height": 0
        },
        "id": "Z1-NtF9aH1Yo",
        "outputId": "b8f61c61-9319-4607-a50b-055d2cb19155"
      },
      "outputs": [
        {
          "data": {
            "text/plain": [
              "(1948, 1137)"
            ]
          },
          "execution_count": 95,
          "metadata": {},
          "output_type": "execute_result"
        }
      ],
      "source": [
        "# since there are no dusplicated with raw IDS,\n",
        "# split them to check for duplicates\n",
        "\n",
        "from itertools import chain\n",
        "\n",
        "all_ids = [el.split(\"_\")for el in df.ID.value_counts().index.to_list()]\n",
        "flattened_list = list(chain(*all_ids))\n",
        "\n",
        "len(flattened_list), len(set(flattened_list))"
      ]
    },
    {
      "cell_type": "code",
      "execution_count": 171,
      "metadata": {
        "colab": {
          "base_uri": "https://localhost:8080/",
          "height": 0
        },
        "id": "WX5zASYHJcuY",
        "outputId": "adcdc799-f2cc-4617-fe5d-3903b8520290"
      },
      "outputs": [
        {
          "name": "stdout",
          "output_type": "stream",
          "text": [
            "['4935171453181261', '4375651735799905', '5006874296010976', '5213603195338084', '5172449782786759', '4486011984763879', '5172508956114175', '4904798249551915', '5172449969453407', '5172508682780869', '5213603235338080', '4533449463353464', '5216730985025305', '5006794076018998', '4375595062472239', '4895923760439364', '4895923930439347', '4283773734975548', '5078983188784788', '734995519865563', '5145237012174703', '4895923807106026', '4447475885284156', '5083510461680692', '4993360154029057', '5179569132074824', '5678206848877714', '5090655194299552', '4725741460790929', '4447505861947825', '4375624192469326', '5083510418347363', '5182012041830533', '4842712945760446', '5449523978412670', '5192243150807422', '4245054502192963', '4459292567435821', '5172377389460665', '4935171283181278', '4895923360439404', '4974819629216443', '4975770072454732', '5356196371078765', '5449948241703577', '5471927892838945', '4553357328029344', '4553243514707392', '4301728536525559', '4842712912427116', '4447509285280816', '5662342020464197', '4813823851982689', '4375614162470329', '5213603852004685', '4470412399657171', '5613874991977567', '5192179414147129', '5662333083798424', '5681410638557335', '5678205982211134', '5356067437758325', '5278435962188140', '4447421538622924', '5356196227745446', '4112388568827165', '4842712845760456', '5006874432677629', '5449523351746066', '4725740587457683', '4375651659133246', '4447478655283879', '5558654120832988', '4882138991817841', '4630630683637638', '6981787945196395', '4747628241935584', '4473257159372695', '4842712812427126', '7484249544950695', '4045062842238135', '5196277653737305', '5281899335175136', '4286417711443764', '5982493731824668', '2190187941012973', '5558653617499705', '4447438341954577', '5449523408412727', '4882138971817843', '2920468781318215', '4479943215370756', '5493493277349073', '4447500738615004', '5558666794165054', '5449505451747856', '4895563947142012', '4435338926497852', '5192179747480429', '5182012158497188', '4435339223164489', '4798846746813733', '5438017902896611']\n"
          ]
        }
      ],
      "source": [
        "# there are few duplicates,\n",
        "# extract them\n",
        "\n",
        "from collections import Counter\n",
        "\n",
        "def find_duplicates(lst):\n",
        "    counter = Counter(lst)\n",
        "    duplicates = [item for item, count in counter.items() if count > 1]\n",
        "    return duplicates\n",
        "\n",
        "duplicate_elements = find_duplicates(flattened_list)\n",
        "print(duplicate_elements)"
      ]
    },
    {
      "cell_type": "code",
      "execution_count": 172,
      "metadata": {
        "colab": {
          "base_uri": "https://localhost:8080/",
          "height": 660
        },
        "id": "zjBolXKcJiBn",
        "outputId": "76f0922b-51e0-4463-95af-af195a72c618"
      },
      "outputs": [
        {
          "data": {
            "text/html": [
              "\n",
              "  <div id=\"df-76fa0069-0a10-4291-bab5-c461a40eb7c6\" class=\"colab-df-container\">\n",
              "    <div>\n",
              "<style scoped>\n",
              "    .dataframe tbody tr th:only-of-type {\n",
              "        vertical-align: middle;\n",
              "    }\n",
              "\n",
              "    .dataframe tbody tr th {\n",
              "        vertical-align: top;\n",
              "    }\n",
              "\n",
              "    .dataframe thead th {\n",
              "        text-align: right;\n",
              "    }\n",
              "</style>\n",
              "<table border=\"1\" class=\"dataframe\">\n",
              "  <thead>\n",
              "    <tr style=\"text-align: right;\">\n",
              "      <th></th>\n",
              "      <th>ID</th>\n",
              "      <th>Testo</th>\n",
              "      <th>Data</th>\n",
              "      <th>Categorie</th>\n",
              "      <th>Allegato</th>\n",
              "      <th>CNC</th>\n",
              "      <th>Sorgente</th>\n",
              "      <th>Canale</th>\n",
              "      <th>Risposta</th>\n",
              "      <th>CleanText</th>\n",
              "      <th>level_1</th>\n",
              "      <th>level_2</th>\n",
              "      <th>level_3</th>\n",
              "      <th>level_4</th>\n",
              "    </tr>\n",
              "  </thead>\n",
              "  <tbody>\n",
              "    <tr>\n",
              "      <th>119</th>\n",
              "      <td>4375651735799905_4776450609053347</td>\n",
              "      <td>Quale è la macchina che fa anche zabaione?</td>\n",
              "      <td>2021-10-13 13:24:00</td>\n",
              "      <td>SALES &amp; DISTRIBUTION -&gt; ABBONAMENTI CRM COMMER...</td>\n",
              "      <td>NaN</td>\n",
              "      <td>caring</td>\n",
              "      <td>NaN</td>\n",
              "      <td>NaN</td>\n",
              "      <td>Ciao Arianna, la macchina a cui sei interessat...</td>\n",
              "      <td>Quale è la macchina che fa anche zabaione?</td>\n",
              "      <td>SALES &amp; DISTRIBUTION</td>\n",
              "      <td>ABBONAMENTI CRM COMMERCIALE</td>\n",
              "      <td>INFO ABBONAMENTO (FE02)</td>\n",
              "      <td>NaN</td>\n",
              "    </tr>\n",
              "    <tr>\n",
              "      <th>123</th>\n",
              "      <td>4375651735799905_4596119277086482</td>\n",
              "      <td>Quanto costano le capsule ?</td>\n",
              "      <td>2021-08-17 11:54:00</td>\n",
              "      <td>SALES &amp; DISTRIBUTION -&gt; ABBONAMENTI CRM COMMER...</td>\n",
              "      <td>NaN</td>\n",
              "      <td>caring</td>\n",
              "      <td>NaN</td>\n",
              "      <td>NaN</td>\n",
              "      <td>Ciao Loris, non c’è un prezzo fisso dell’abbon...</td>\n",
              "      <td>Quanto costano le capsule ?</td>\n",
              "      <td>SALES &amp; DISTRIBUTION</td>\n",
              "      <td>ABBONAMENTI CRM COMMERCIALE</td>\n",
              "      <td>INFO ABBONAMENTO (FE02)</td>\n",
              "      <td>NaN</td>\n",
              "    </tr>\n",
              "    <tr>\n",
              "      <th>275</th>\n",
              "      <td>4375651735799905_4442329565798788</td>\n",
              "      <td>Info per favore</td>\n",
              "      <td>2021-06-26 18:35:00</td>\n",
              "      <td>SALES &amp; DISTRIBUTION -&gt; ABBONAMENTI CRM COMMER...</td>\n",
              "      <td>NaN</td>\n",
              "      <td>caring</td>\n",
              "      <td>NaN</td>\n",
              "      <td>NaN</td>\n",
              "      <td>Ciao Antonio, la nuova macchina Lavazza A Modo...</td>\n",
              "      <td>Info per favore</td>\n",
              "      <td>SALES &amp; DISTRIBUTION</td>\n",
              "      <td>ABBONAMENTI CRM COMMERCIALE</td>\n",
              "      <td>INFO ABBONAMENTO (FE02)</td>\n",
              "      <td>NaN</td>\n",
              "    </tr>\n",
              "    <tr>\n",
              "      <th>315</th>\n",
              "      <td>4375651735799905_4411038145594597</td>\n",
              "      <td>alexa se io voglio metter musica oltre a dirgl...</td>\n",
              "      <td>2021-06-15 20:52:00</td>\n",
              "      <td>MACCHINA -&gt; SUGGERIMENTI ED ELOGI -&gt;  NUOVA FU...</td>\n",
              "      <td>NaN</td>\n",
              "      <td>caring</td>\n",
              "      <td>NaN</td>\n",
              "      <td>NaN</td>\n",
              "      <td>Ciao Alessio, grazie all’integrazione di Alexa...</td>\n",
              "      <td>alexa se io voglio metter musica oltre a dirgl...</td>\n",
              "      <td>MACCHINA</td>\n",
              "      <td>SUGGERIMENTI ED ELOGI</td>\n",
              "      <td>NUOVA FUNZIONALITA' (ED02)</td>\n",
              "      <td>NaN</td>\n",
              "    </tr>\n",
              "    <tr>\n",
              "      <th>350</th>\n",
              "      <td>4375651735799905_4722957537735988</td>\n",
              "      <td>Si può sapere quante capsule al mese si devono...</td>\n",
              "      <td>2021-09-26 16:20:00</td>\n",
              "      <td>SALES &amp; DISTRIBUTION -&gt; ABBONAMENTI CRM COMMER...</td>\n",
              "      <td>NaN</td>\n",
              "      <td>caring</td>\n",
              "      <td>NaN</td>\n",
              "      <td>NaN</td>\n",
              "      <td>Ciao Mauro, con l’abbonamento macchina e capsu...</td>\n",
              "      <td>Si può sapere quante capsule al mese si devono...</td>\n",
              "      <td>SALES &amp; DISTRIBUTION</td>\n",
              "      <td>ABBONAMENTI CRM COMMERCIALE</td>\n",
              "      <td>INFO ABBONAMENTO (FE02)</td>\n",
              "      <td>NaN</td>\n",
              "    </tr>\n",
              "  </tbody>\n",
              "</table>\n",
              "</div>\n",
              "    <div class=\"colab-df-buttons\">\n",
              "\n",
              "  <div class=\"colab-df-container\">\n",
              "    <button class=\"colab-df-convert\" onclick=\"convertToInteractive('df-76fa0069-0a10-4291-bab5-c461a40eb7c6')\"\n",
              "            title=\"Convert this dataframe to an interactive table.\"\n",
              "            style=\"display:none;\">\n",
              "\n",
              "  <svg xmlns=\"http://www.w3.org/2000/svg\" height=\"24px\" viewBox=\"0 -960 960 960\">\n",
              "    <path d=\"M120-120v-720h720v720H120Zm60-500h600v-160H180v160Zm220 220h160v-160H400v160Zm0 220h160v-160H400v160ZM180-400h160v-160H180v160Zm440 0h160v-160H620v160ZM180-180h160v-160H180v160Zm440 0h160v-160H620v160Z\"/>\n",
              "  </svg>\n",
              "    </button>\n",
              "\n",
              "  <style>\n",
              "    .colab-df-container {\n",
              "      display:flex;\n",
              "      gap: 12px;\n",
              "    }\n",
              "\n",
              "    .colab-df-convert {\n",
              "      background-color: #E8F0FE;\n",
              "      border: none;\n",
              "      border-radius: 50%;\n",
              "      cursor: pointer;\n",
              "      display: none;\n",
              "      fill: #1967D2;\n",
              "      height: 32px;\n",
              "      padding: 0 0 0 0;\n",
              "      width: 32px;\n",
              "    }\n",
              "\n",
              "    .colab-df-convert:hover {\n",
              "      background-color: #E2EBFA;\n",
              "      box-shadow: 0px 1px 2px rgba(60, 64, 67, 0.3), 0px 1px 3px 1px rgba(60, 64, 67, 0.15);\n",
              "      fill: #174EA6;\n",
              "    }\n",
              "\n",
              "    .colab-df-buttons div {\n",
              "      margin-bottom: 4px;\n",
              "    }\n",
              "\n",
              "    [theme=dark] .colab-df-convert {\n",
              "      background-color: #3B4455;\n",
              "      fill: #D2E3FC;\n",
              "    }\n",
              "\n",
              "    [theme=dark] .colab-df-convert:hover {\n",
              "      background-color: #434B5C;\n",
              "      box-shadow: 0px 1px 3px 1px rgba(0, 0, 0, 0.15);\n",
              "      filter: drop-shadow(0px 1px 2px rgba(0, 0, 0, 0.3));\n",
              "      fill: #FFFFFF;\n",
              "    }\n",
              "  </style>\n",
              "\n",
              "    <script>\n",
              "      const buttonEl =\n",
              "        document.querySelector('#df-76fa0069-0a10-4291-bab5-c461a40eb7c6 button.colab-df-convert');\n",
              "      buttonEl.style.display =\n",
              "        google.colab.kernel.accessAllowed ? 'block' : 'none';\n",
              "\n",
              "      async function convertToInteractive(key) {\n",
              "        const element = document.querySelector('#df-76fa0069-0a10-4291-bab5-c461a40eb7c6');\n",
              "        const dataTable =\n",
              "          await google.colab.kernel.invokeFunction('convertToInteractive',\n",
              "                                                    [key], {});\n",
              "        if (!dataTable) return;\n",
              "\n",
              "        const docLinkHtml = 'Like what you see? Visit the ' +\n",
              "          '<a target=\"_blank\" href=https://colab.research.google.com/notebooks/data_table.ipynb>data table notebook</a>'\n",
              "          + ' to learn more about interactive tables.';\n",
              "        element.innerHTML = '';\n",
              "        dataTable['output_type'] = 'display_data';\n",
              "        await google.colab.output.renderOutput(dataTable, element);\n",
              "        const docLink = document.createElement('div');\n",
              "        docLink.innerHTML = docLinkHtml;\n",
              "        element.appendChild(docLink);\n",
              "      }\n",
              "    </script>\n",
              "  </div>\n",
              "\n",
              "\n",
              "<div id=\"df-80d3d3e6-674e-4e83-8cb7-72c3e29bd999\">\n",
              "  <button class=\"colab-df-quickchart\" onclick=\"quickchart('df-80d3d3e6-674e-4e83-8cb7-72c3e29bd999')\"\n",
              "            title=\"Suggest charts.\"\n",
              "            style=\"display:none;\">\n",
              "\n",
              "<svg xmlns=\"http://www.w3.org/2000/svg\" height=\"24px\"viewBox=\"0 0 24 24\"\n",
              "     width=\"24px\">\n",
              "    <g>\n",
              "        <path d=\"M19 3H5c-1.1 0-2 .9-2 2v14c0 1.1.9 2 2 2h14c1.1 0 2-.9 2-2V5c0-1.1-.9-2-2-2zM9 17H7v-7h2v7zm4 0h-2V7h2v10zm4 0h-2v-4h2v4z\"/>\n",
              "    </g>\n",
              "</svg>\n",
              "  </button>\n",
              "\n",
              "<style>\n",
              "  .colab-df-quickchart {\n",
              "      --bg-color: #E8F0FE;\n",
              "      --fill-color: #1967D2;\n",
              "      --hover-bg-color: #E2EBFA;\n",
              "      --hover-fill-color: #174EA6;\n",
              "      --disabled-fill-color: #AAA;\n",
              "      --disabled-bg-color: #DDD;\n",
              "  }\n",
              "\n",
              "  [theme=dark] .colab-df-quickchart {\n",
              "      --bg-color: #3B4455;\n",
              "      --fill-color: #D2E3FC;\n",
              "      --hover-bg-color: #434B5C;\n",
              "      --hover-fill-color: #FFFFFF;\n",
              "      --disabled-bg-color: #3B4455;\n",
              "      --disabled-fill-color: #666;\n",
              "  }\n",
              "\n",
              "  .colab-df-quickchart {\n",
              "    background-color: var(--bg-color);\n",
              "    border: none;\n",
              "    border-radius: 50%;\n",
              "    cursor: pointer;\n",
              "    display: none;\n",
              "    fill: var(--fill-color);\n",
              "    height: 32px;\n",
              "    padding: 0;\n",
              "    width: 32px;\n",
              "  }\n",
              "\n",
              "  .colab-df-quickchart:hover {\n",
              "    background-color: var(--hover-bg-color);\n",
              "    box-shadow: 0 1px 2px rgba(60, 64, 67, 0.3), 0 1px 3px 1px rgba(60, 64, 67, 0.15);\n",
              "    fill: var(--button-hover-fill-color);\n",
              "  }\n",
              "\n",
              "  .colab-df-quickchart-complete:disabled,\n",
              "  .colab-df-quickchart-complete:disabled:hover {\n",
              "    background-color: var(--disabled-bg-color);\n",
              "    fill: var(--disabled-fill-color);\n",
              "    box-shadow: none;\n",
              "  }\n",
              "\n",
              "  .colab-df-spinner {\n",
              "    border: 2px solid var(--fill-color);\n",
              "    border-color: transparent;\n",
              "    border-bottom-color: var(--fill-color);\n",
              "    animation:\n",
              "      spin 1s steps(1) infinite;\n",
              "  }\n",
              "\n",
              "  @keyframes spin {\n",
              "    0% {\n",
              "      border-color: transparent;\n",
              "      border-bottom-color: var(--fill-color);\n",
              "      border-left-color: var(--fill-color);\n",
              "    }\n",
              "    20% {\n",
              "      border-color: transparent;\n",
              "      border-left-color: var(--fill-color);\n",
              "      border-top-color: var(--fill-color);\n",
              "    }\n",
              "    30% {\n",
              "      border-color: transparent;\n",
              "      border-left-color: var(--fill-color);\n",
              "      border-top-color: var(--fill-color);\n",
              "      border-right-color: var(--fill-color);\n",
              "    }\n",
              "    40% {\n",
              "      border-color: transparent;\n",
              "      border-right-color: var(--fill-color);\n",
              "      border-top-color: var(--fill-color);\n",
              "    }\n",
              "    60% {\n",
              "      border-color: transparent;\n",
              "      border-right-color: var(--fill-color);\n",
              "    }\n",
              "    80% {\n",
              "      border-color: transparent;\n",
              "      border-right-color: var(--fill-color);\n",
              "      border-bottom-color: var(--fill-color);\n",
              "    }\n",
              "    90% {\n",
              "      border-color: transparent;\n",
              "      border-bottom-color: var(--fill-color);\n",
              "    }\n",
              "  }\n",
              "</style>\n",
              "\n",
              "  <script>\n",
              "    async function quickchart(key) {\n",
              "      const quickchartButtonEl =\n",
              "        document.querySelector('#' + key + ' button');\n",
              "      quickchartButtonEl.disabled = true;  // To prevent multiple clicks.\n",
              "      quickchartButtonEl.classList.add('colab-df-spinner');\n",
              "      try {\n",
              "        const charts = await google.colab.kernel.invokeFunction(\n",
              "            'suggestCharts', [key], {});\n",
              "      } catch (error) {\n",
              "        console.error('Error during call to suggestCharts:', error);\n",
              "      }\n",
              "      quickchartButtonEl.classList.remove('colab-df-spinner');\n",
              "      quickchartButtonEl.classList.add('colab-df-quickchart-complete');\n",
              "    }\n",
              "    (() => {\n",
              "      let quickchartButtonEl =\n",
              "        document.querySelector('#df-80d3d3e6-674e-4e83-8cb7-72c3e29bd999 button');\n",
              "      quickchartButtonEl.style.display =\n",
              "        google.colab.kernel.accessAllowed ? 'block' : 'none';\n",
              "    })();\n",
              "  </script>\n",
              "</div>\n",
              "    </div>\n",
              "  </div>\n"
            ],
            "text/plain": [
              "                                    ID  \\\n",
              "119  4375651735799905_4776450609053347   \n",
              "123  4375651735799905_4596119277086482   \n",
              "275  4375651735799905_4442329565798788   \n",
              "315  4375651735799905_4411038145594597   \n",
              "350  4375651735799905_4722957537735988   \n",
              "\n",
              "                                                 Testo                 Data  \\\n",
              "119         Quale è la macchina che fa anche zabaione?  2021-10-13 13:24:00   \n",
              "123                        Quanto costano le capsule ?  2021-08-17 11:54:00   \n",
              "275                                    Info per favore  2021-06-26 18:35:00   \n",
              "315  alexa se io voglio metter musica oltre a dirgl...  2021-06-15 20:52:00   \n",
              "350  Si può sapere quante capsule al mese si devono...  2021-09-26 16:20:00   \n",
              "\n",
              "                                             Categorie  Allegato     CNC  \\\n",
              "119  SALES & DISTRIBUTION -> ABBONAMENTI CRM COMMER...       NaN  caring   \n",
              "123  SALES & DISTRIBUTION -> ABBONAMENTI CRM COMMER...       NaN  caring   \n",
              "275  SALES & DISTRIBUTION -> ABBONAMENTI CRM COMMER...       NaN  caring   \n",
              "315  MACCHINA -> SUGGERIMENTI ED ELOGI ->  NUOVA FU...       NaN  caring   \n",
              "350  SALES & DISTRIBUTION -> ABBONAMENTI CRM COMMER...       NaN  caring   \n",
              "\n",
              "     Sorgente  Canale                                           Risposta  \\\n",
              "119       NaN     NaN  Ciao Arianna, la macchina a cui sei interessat...   \n",
              "123       NaN     NaN  Ciao Loris, non c’è un prezzo fisso dell’abbon...   \n",
              "275       NaN     NaN  Ciao Antonio, la nuova macchina Lavazza A Modo...   \n",
              "315       NaN     NaN  Ciao Alessio, grazie all’integrazione di Alexa...   \n",
              "350       NaN     NaN  Ciao Mauro, con l’abbonamento macchina e capsu...   \n",
              "\n",
              "                                             CleanText               level_1  \\\n",
              "119         Quale è la macchina che fa anche zabaione?  SALES & DISTRIBUTION   \n",
              "123                        Quanto costano le capsule ?  SALES & DISTRIBUTION   \n",
              "275                                    Info per favore  SALES & DISTRIBUTION   \n",
              "315  alexa se io voglio metter musica oltre a dirgl...              MACCHINA   \n",
              "350  Si può sapere quante capsule al mese si devono...  SALES & DISTRIBUTION   \n",
              "\n",
              "                         level_2                     level_3 level_4  \n",
              "119  ABBONAMENTI CRM COMMERCIALE     INFO ABBONAMENTO (FE02)     NaN  \n",
              "123  ABBONAMENTI CRM COMMERCIALE     INFO ABBONAMENTO (FE02)     NaN  \n",
              "275  ABBONAMENTI CRM COMMERCIALE     INFO ABBONAMENTO (FE02)     NaN  \n",
              "315        SUGGERIMENTI ED ELOGI  NUOVA FUNZIONALITA' (ED02)     NaN  \n",
              "350  ABBONAMENTI CRM COMMERCIALE     INFO ABBONAMENTO (FE02)     NaN  "
            ]
          },
          "execution_count": 172,
          "metadata": {},
          "output_type": "execute_result"
        }
      ],
      "source": [
        "#quick look to check if duplicates can create a more discorsive assistant-user chat\n",
        "df[df['ID'].str.contains(duplicate_elements[1])].head()"
      ]
    },
    {
      "cell_type": "code",
      "execution_count": 173,
      "metadata": {
        "colab": {
          "base_uri": "https://localhost:8080/",
          "height": 0
        },
        "id": "2GYRdG02PR4b",
        "outputId": "4db62f9f-b581-4381-8454-d14864c321d7"
      },
      "outputs": [
        {
          "data": {
            "text/plain": [
              "[]"
            ]
          },
          "execution_count": 173,
          "metadata": {},
          "output_type": "execute_result"
        }
      ],
      "source": [
        "# check if there is any consecutive message in the dataset,\n",
        "# to futherly investigate the aforementioned reasoning\n",
        "\n",
        "def find_consecutive_messages(data: pd.DataFrame,\n",
        "                              threshold_minutes: int = 5) -> list:\n",
        "\n",
        "    # Convert 'Data' column to datetime format\n",
        "    data['Data'] = pd.to_datetime(data['Data'], errors='coerce')\n",
        "\n",
        "    # Sort the dataset by the 'Data' column\n",
        "    data_sorted = data.sort_values(by='Data')\n",
        "\n",
        "    # Calculate the time difference between consecutive messages\n",
        "    data_sorted['time_diff'] = data_sorted['Data'].diff().dt.total_seconds() / 60  # time difference in minutes\n",
        "\n",
        "    # Reset time difference when the day changes\n",
        "    data_sorted['day_diff'] = data_sorted['Data'].dt.date.diff().ne(0)\n",
        "    data_sorted.loc[data_sorted['day_diff'], 'time_diff'] = None\n",
        "\n",
        "    # Find consecutive messages within the threshold\n",
        "    consecutive_messages = data_sorted[data_sorted['time_diff'] <= threshold_minutes]\n",
        "\n",
        "    return consecutive_messages if len(consecutive_messages) else []\n",
        "\n",
        "\n",
        "find_consecutive_messages(data = df, threshold_minutes = 5)"
      ]
    },
    {
      "cell_type": "markdown",
      "metadata": {
        "id": "h8r-qwmnNEAl"
      },
      "source": [
        "Altough the codes contained inside IDs are replicated, theres no trace of useful insights w.r.t. other columns apart from the `Testo` and `Risposte` ones.\n",
        "More precisely:\n",
        " - There are no user replicated user_ids\n",
        " - There are not consecutive messages by means of temporal reasoning"
      ]
    },
    {
      "cell_type": "markdown",
      "metadata": {
        "id": "b58hlniOYTZl"
      },
      "source": [
        "# **Cleaning Text**\n",
        "\n",
        "We are going to clean up `Testo` column and drop it's variance the more we can.\n",
        "\n",
        "Specifically we will deal with:\n",
        " - Casing\n",
        " - Symbols\n",
        " - Emoticons\n",
        " - Punctuation\n",
        " - Not informative questions/answers to eventually drop\n",
        "\n",
        "while still mantaining the text fluidity intact.\n",
        "\n",
        "Therefore the `CleanText` column will anyway dropped since our preprocessing will be little bit more aggressive."
      ]
    },
    {
      "cell_type": "code",
      "execution_count": null,
      "metadata": {
        "colab": {
          "base_uri": "https://localhost:8080/",
          "height": 206
        },
        "id": "dmlcARqr7SkO",
        "outputId": "5f9a76d6-c189-419b-9f7e-e1ee2b117823"
      },
      "outputs": [],
      "source": [
        "df2 = df[[\"Data\", \"Testo\", \"Risposta\", \"level_1\"]]\n",
        "df2.head()"
      ]
    },
    {
      "cell_type": "code",
      "execution_count": 237,
      "metadata": {
        "colab": {
          "base_uri": "https://localhost:8080/",
          "height": 658
        },
        "id": "meu_hyLg85KE",
        "outputId": "f54707d8-e414-4033-dfe7-db2ab7d2be89"
      },
      "outputs": [
        {
          "name": "stdout",
          "output_type": "stream",
          "text": [
            "['Fabio Fraccalvieri']\n",
            "['Elena Tincuta Lungociu']\n",
            "['Enzo Serio']\n",
            "['Antonio Semprevivo']\n",
            "['Mimmo Pascali']\n",
            "['Luigi Gennari']\n",
            "['Avete Bidose']\n",
            "['Francesco Troia']\n",
            "['Paolo Campagnolo']\n",
            "['Sig Fabio']\n",
            "['Manuela Quaggiotto']\n",
            "['Rolando Dotti']\n",
            "['Rosa Falcone']\n",
            "['Carmen Ronchi']\n"
          ]
        },
        {
          "name": "stderr",
          "output_type": "stream",
          "text": [
            "<ipython-input-237-dcc4bf3813ea>:38: SettingWithCopyWarning: \n",
            "A value is trying to be set on a copy of a slice from a DataFrame.\n",
            "Try using .loc[row_indexer,col_indexer] = value instead\n",
            "\n",
            "See the caveats in the documentation: https://pandas.pydata.org/pandas-docs/stable/user_guide/indexing.html#returning-a-view-versus-a-copy\n",
            "  df2['Testo'] = df2['Testo'].apply(lambda x: preprocess_text(str(x),train_data=True))\n",
            "<ipython-input-237-dcc4bf3813ea>:39: SettingWithCopyWarning: \n",
            "A value is trying to be set on a copy of a slice from a DataFrame.\n",
            "Try using .loc[row_indexer,col_indexer] = value instead\n",
            "\n",
            "See the caveats in the documentation: https://pandas.pydata.org/pandas-docs/stable/user_guide/indexing.html#returning-a-view-versus-a-copy\n",
            "  df2['Risposta'] = df2['Risposta'].apply(lambda x: preprocess_text(str(x), answer = True))\n"
          ]
        },
        {
          "data": {
            "text/html": [
              "\n",
              "  <div id=\"df-809e00a3-4e67-443e-a70e-c2d0338e1a19\" class=\"colab-df-container\">\n",
              "    <div>\n",
              "<style scoped>\n",
              "    .dataframe tbody tr th:only-of-type {\n",
              "        vertical-align: middle;\n",
              "    }\n",
              "\n",
              "    .dataframe tbody tr th {\n",
              "        vertical-align: top;\n",
              "    }\n",
              "\n",
              "    .dataframe thead th {\n",
              "        text-align: right;\n",
              "    }\n",
              "</style>\n",
              "<table border=\"1\" class=\"dataframe\">\n",
              "  <thead>\n",
              "    <tr style=\"text-align: right;\">\n",
              "      <th></th>\n",
              "      <th>Data</th>\n",
              "      <th>Testo</th>\n",
              "      <th>Risposta</th>\n",
              "      <th>level_1</th>\n",
              "    </tr>\n",
              "  </thead>\n",
              "  <tbody>\n",
              "    <tr>\n",
              "      <th>0</th>\n",
              "      <td>2022-01-07 09:59:00</td>\n",
              "      <td>per piacere il prezzo della scatola di divino ...</td>\n",
              "      <td>il prezzo di ogni confezione di Lavazza A Mod...</td>\n",
              "      <td>SALES &amp; DISTRIBUTION</td>\n",
              "    </tr>\n",
              "    <tr>\n",
              "      <th>1</th>\n",
              "      <td>2021-12-21 10:27:00</td>\n",
              "      <td>quando un cliente invia una email e cortesia r...</td>\n",
              "      <td>ci dispiace per quanto ci hai segnalato. Ci p...</td>\n",
              "      <td>no_cat</td>\n",
              "    </tr>\n",
              "    <tr>\n",
              "      <th>2</th>\n",
              "      <td>2022-01-19 21:30:00</td>\n",
              "      <td>salve avete caffe in chicchi</td>\n",
              "      <td>puoi trovare la nostra selezione Lavazza in g...</td>\n",
              "      <td>SALES &amp; DISTRIBUTION</td>\n",
              "    </tr>\n",
              "    <tr>\n",
              "      <th>3</th>\n",
              "      <td>2022-03-13 18:01:00</td>\n",
              "      <td>io invece per una riparazione e dopo numero la...</td>\n",
              "      <td>ci dispiace per quanto ci segnali e ci piacer...</td>\n",
              "      <td>no_cat</td>\n",
              "    </tr>\n",
              "    <tr>\n",
              "      <th>4</th>\n",
              "      <td>2021-07-12 01:21:00</td>\n",
              "      <td>si ma spedirli anche a bergamo e dintorni cosa...</td>\n",
              "      <td>i nuovi prodotti Lavazza Iced Coffee Cappucci...</td>\n",
              "      <td>SALES &amp; DISTRIBUTION</td>\n",
              "    </tr>\n",
              "  </tbody>\n",
              "</table>\n",
              "</div>\n",
              "    <div class=\"colab-df-buttons\">\n",
              "\n",
              "  <div class=\"colab-df-container\">\n",
              "    <button class=\"colab-df-convert\" onclick=\"convertToInteractive('df-809e00a3-4e67-443e-a70e-c2d0338e1a19')\"\n",
              "            title=\"Convert this dataframe to an interactive table.\"\n",
              "            style=\"display:none;\">\n",
              "\n",
              "  <svg xmlns=\"http://www.w3.org/2000/svg\" height=\"24px\" viewBox=\"0 -960 960 960\">\n",
              "    <path d=\"M120-120v-720h720v720H120Zm60-500h600v-160H180v160Zm220 220h160v-160H400v160Zm0 220h160v-160H400v160ZM180-400h160v-160H180v160Zm440 0h160v-160H620v160ZM180-180h160v-160H180v160Zm440 0h160v-160H620v160Z\"/>\n",
              "  </svg>\n",
              "    </button>\n",
              "\n",
              "  <style>\n",
              "    .colab-df-container {\n",
              "      display:flex;\n",
              "      gap: 12px;\n",
              "    }\n",
              "\n",
              "    .colab-df-convert {\n",
              "      background-color: #E8F0FE;\n",
              "      border: none;\n",
              "      border-radius: 50%;\n",
              "      cursor: pointer;\n",
              "      display: none;\n",
              "      fill: #1967D2;\n",
              "      height: 32px;\n",
              "      padding: 0 0 0 0;\n",
              "      width: 32px;\n",
              "    }\n",
              "\n",
              "    .colab-df-convert:hover {\n",
              "      background-color: #E2EBFA;\n",
              "      box-shadow: 0px 1px 2px rgba(60, 64, 67, 0.3), 0px 1px 3px 1px rgba(60, 64, 67, 0.15);\n",
              "      fill: #174EA6;\n",
              "    }\n",
              "\n",
              "    .colab-df-buttons div {\n",
              "      margin-bottom: 4px;\n",
              "    }\n",
              "\n",
              "    [theme=dark] .colab-df-convert {\n",
              "      background-color: #3B4455;\n",
              "      fill: #D2E3FC;\n",
              "    }\n",
              "\n",
              "    [theme=dark] .colab-df-convert:hover {\n",
              "      background-color: #434B5C;\n",
              "      box-shadow: 0px 1px 3px 1px rgba(0, 0, 0, 0.15);\n",
              "      filter: drop-shadow(0px 1px 2px rgba(0, 0, 0, 0.3));\n",
              "      fill: #FFFFFF;\n",
              "    }\n",
              "  </style>\n",
              "\n",
              "    <script>\n",
              "      const buttonEl =\n",
              "        document.querySelector('#df-809e00a3-4e67-443e-a70e-c2d0338e1a19 button.colab-df-convert');\n",
              "      buttonEl.style.display =\n",
              "        google.colab.kernel.accessAllowed ? 'block' : 'none';\n",
              "\n",
              "      async function convertToInteractive(key) {\n",
              "        const element = document.querySelector('#df-809e00a3-4e67-443e-a70e-c2d0338e1a19');\n",
              "        const dataTable =\n",
              "          await google.colab.kernel.invokeFunction('convertToInteractive',\n",
              "                                                    [key], {});\n",
              "        if (!dataTable) return;\n",
              "\n",
              "        const docLinkHtml = 'Like what you see? Visit the ' +\n",
              "          '<a target=\"_blank\" href=https://colab.research.google.com/notebooks/data_table.ipynb>data table notebook</a>'\n",
              "          + ' to learn more about interactive tables.';\n",
              "        element.innerHTML = '';\n",
              "        dataTable['output_type'] = 'display_data';\n",
              "        await google.colab.output.renderOutput(dataTable, element);\n",
              "        const docLink = document.createElement('div');\n",
              "        docLink.innerHTML = docLinkHtml;\n",
              "        element.appendChild(docLink);\n",
              "      }\n",
              "    </script>\n",
              "  </div>\n",
              "\n",
              "\n",
              "<div id=\"df-bd8184d0-547e-469c-89b5-4f6e54aa35e4\">\n",
              "  <button class=\"colab-df-quickchart\" onclick=\"quickchart('df-bd8184d0-547e-469c-89b5-4f6e54aa35e4')\"\n",
              "            title=\"Suggest charts.\"\n",
              "            style=\"display:none;\">\n",
              "\n",
              "<svg xmlns=\"http://www.w3.org/2000/svg\" height=\"24px\"viewBox=\"0 0 24 24\"\n",
              "     width=\"24px\">\n",
              "    <g>\n",
              "        <path d=\"M19 3H5c-1.1 0-2 .9-2 2v14c0 1.1.9 2 2 2h14c1.1 0 2-.9 2-2V5c0-1.1-.9-2-2-2zM9 17H7v-7h2v7zm4 0h-2V7h2v10zm4 0h-2v-4h2v4z\"/>\n",
              "    </g>\n",
              "</svg>\n",
              "  </button>\n",
              "\n",
              "<style>\n",
              "  .colab-df-quickchart {\n",
              "      --bg-color: #E8F0FE;\n",
              "      --fill-color: #1967D2;\n",
              "      --hover-bg-color: #E2EBFA;\n",
              "      --hover-fill-color: #174EA6;\n",
              "      --disabled-fill-color: #AAA;\n",
              "      --disabled-bg-color: #DDD;\n",
              "  }\n",
              "\n",
              "  [theme=dark] .colab-df-quickchart {\n",
              "      --bg-color: #3B4455;\n",
              "      --fill-color: #D2E3FC;\n",
              "      --hover-bg-color: #434B5C;\n",
              "      --hover-fill-color: #FFFFFF;\n",
              "      --disabled-bg-color: #3B4455;\n",
              "      --disabled-fill-color: #666;\n",
              "  }\n",
              "\n",
              "  .colab-df-quickchart {\n",
              "    background-color: var(--bg-color);\n",
              "    border: none;\n",
              "    border-radius: 50%;\n",
              "    cursor: pointer;\n",
              "    display: none;\n",
              "    fill: var(--fill-color);\n",
              "    height: 32px;\n",
              "    padding: 0;\n",
              "    width: 32px;\n",
              "  }\n",
              "\n",
              "  .colab-df-quickchart:hover {\n",
              "    background-color: var(--hover-bg-color);\n",
              "    box-shadow: 0 1px 2px rgba(60, 64, 67, 0.3), 0 1px 3px 1px rgba(60, 64, 67, 0.15);\n",
              "    fill: var(--button-hover-fill-color);\n",
              "  }\n",
              "\n",
              "  .colab-df-quickchart-complete:disabled,\n",
              "  .colab-df-quickchart-complete:disabled:hover {\n",
              "    background-color: var(--disabled-bg-color);\n",
              "    fill: var(--disabled-fill-color);\n",
              "    box-shadow: none;\n",
              "  }\n",
              "\n",
              "  .colab-df-spinner {\n",
              "    border: 2px solid var(--fill-color);\n",
              "    border-color: transparent;\n",
              "    border-bottom-color: var(--fill-color);\n",
              "    animation:\n",
              "      spin 1s steps(1) infinite;\n",
              "  }\n",
              "\n",
              "  @keyframes spin {\n",
              "    0% {\n",
              "      border-color: transparent;\n",
              "      border-bottom-color: var(--fill-color);\n",
              "      border-left-color: var(--fill-color);\n",
              "    }\n",
              "    20% {\n",
              "      border-color: transparent;\n",
              "      border-left-color: var(--fill-color);\n",
              "      border-top-color: var(--fill-color);\n",
              "    }\n",
              "    30% {\n",
              "      border-color: transparent;\n",
              "      border-left-color: var(--fill-color);\n",
              "      border-top-color: var(--fill-color);\n",
              "      border-right-color: var(--fill-color);\n",
              "    }\n",
              "    40% {\n",
              "      border-color: transparent;\n",
              "      border-right-color: var(--fill-color);\n",
              "      border-top-color: var(--fill-color);\n",
              "    }\n",
              "    60% {\n",
              "      border-color: transparent;\n",
              "      border-right-color: var(--fill-color);\n",
              "    }\n",
              "    80% {\n",
              "      border-color: transparent;\n",
              "      border-right-color: var(--fill-color);\n",
              "      border-bottom-color: var(--fill-color);\n",
              "    }\n",
              "    90% {\n",
              "      border-color: transparent;\n",
              "      border-bottom-color: var(--fill-color);\n",
              "    }\n",
              "  }\n",
              "</style>\n",
              "\n",
              "  <script>\n",
              "    async function quickchart(key) {\n",
              "      const quickchartButtonEl =\n",
              "        document.querySelector('#' + key + ' button');\n",
              "      quickchartButtonEl.disabled = true;  // To prevent multiple clicks.\n",
              "      quickchartButtonEl.classList.add('colab-df-spinner');\n",
              "      try {\n",
              "        const charts = await google.colab.kernel.invokeFunction(\n",
              "            'suggestCharts', [key], {});\n",
              "      } catch (error) {\n",
              "        console.error('Error during call to suggestCharts:', error);\n",
              "      }\n",
              "      quickchartButtonEl.classList.remove('colab-df-spinner');\n",
              "      quickchartButtonEl.classList.add('colab-df-quickchart-complete');\n",
              "    }\n",
              "    (() => {\n",
              "      let quickchartButtonEl =\n",
              "        document.querySelector('#df-bd8184d0-547e-469c-89b5-4f6e54aa35e4 button');\n",
              "      quickchartButtonEl.style.display =\n",
              "        google.colab.kernel.accessAllowed ? 'block' : 'none';\n",
              "    })();\n",
              "  </script>\n",
              "</div>\n",
              "    </div>\n",
              "  </div>\n"
            ],
            "text/plain": [
              "                  Data                                              Testo  \\\n",
              "0  2022-01-07 09:59:00  per piacere il prezzo della scatola di divino ...   \n",
              "1  2021-12-21 10:27:00  quando un cliente invia una email e cortesia r...   \n",
              "2  2022-01-19 21:30:00                       salve avete caffe in chicchi   \n",
              "3  2022-03-13 18:01:00  io invece per una riparazione e dopo numero la...   \n",
              "4  2021-07-12 01:21:00  si ma spedirli anche a bergamo e dintorni cosa...   \n",
              "\n",
              "                                            Risposta               level_1  \n",
              "0   il prezzo di ogni confezione di Lavazza A Mod...  SALES & DISTRIBUTION  \n",
              "1   ci dispiace per quanto ci hai segnalato. Ci p...                no_cat  \n",
              "2   puoi trovare la nostra selezione Lavazza in g...  SALES & DISTRIBUTION  \n",
              "3   ci dispiace per quanto ci segnali e ci piacer...                no_cat  \n",
              "4   i nuovi prodotti Lavazza Iced Coffee Cappucci...  SALES & DISTRIBUTION  "
            ]
          },
          "execution_count": 237,
          "metadata": {},
          "output_type": "execute_result"
        }
      ],
      "source": [
        "# create a function to clean text column\n",
        "\n",
        "def preprocess_text(text: str, answer: bool = False, train_data: bool = False):\n",
        "    if answer:\n",
        "        text = re.sub(r'Ciao ({customer_name}|\\w+)(?: |,)', '', text)\n",
        "        return text\n",
        "\n",
        "    # Remove emoticons\n",
        "    text = re.sub(r'[\\U0001F600-\\U0001F64F\\U0001F300-\\U0001F5FF\\U0001F680-\\U0001F6FF\\U0001F1E0-\\U0001F1FF]', '', text)\n",
        "    text = re.sub(r'http\\S+', 'url', text) # Replace or remove URLs\n",
        "    text = re.sub(r'\\S+@\\S+', 'email', text) # Replace or remove email addresses\n",
        "\n",
        "    # Remove unnecessary characters and whitespace\n",
        "    text = re.sub(r'\\s+', ' ', text)  # replace multiple whitespaces with a single space\n",
        "    text = re.sub(r'[^\\w\\s]', ' ', text)  # remove punctuation\n",
        "    text = re.sub(r'\\s+', ' ', text) # clean up multiple spaces\n",
        "    text = re.sub(r'x|X', 'per', text)\n",
        "\n",
        "    if train_data:\n",
        "        if text.startswith(\"UNK\"):\n",
        "            text = text[8:]\n",
        "\n",
        "        names = []\n",
        "        # Process the text with the NER model\n",
        "        doc = nlp(text)\n",
        "        for entity in doc.ents:\n",
        "            if entity.label_ == \"PER\" and text.startswith(entity.text) and len(entity.text.split()) > 1 and \"UNK\" not in entity.text:\n",
        "                text = re.sub(entity.text, '', text)\n",
        "                names.append(entity.text)\n",
        "        if names:\n",
        "            print(names)\n",
        "\n",
        "    return text.lower().strip()\n",
        "\n",
        "# Apply the updated preprocessing function to the 'Testo' column\n",
        "df2['Testo'] = df2['Testo'].apply(lambda x: preprocess_text(str(x),train_data=True))\n",
        "df2['Risposta'] = df2['Risposta'].apply(lambda x: preprocess_text(str(x), answer = True))\n",
        "\n",
        "df2.head()"
      ]
    },
    {
      "cell_type": "code",
      "execution_count": 238,
      "metadata": {
        "colab": {
          "base_uri": "https://localhost:8080/"
        },
        "id": "ZpGMRyRipeY5",
        "outputId": "cb24cb13-8149-477b-8cdd-d074aa924c46"
      },
      "outputs": [
        {
          "name": "stderr",
          "output_type": "stream",
          "text": [
            "<ipython-input-238-1f34aa287177>:5: SettingWithCopyWarning: \n",
            "A value is trying to be set on a copy of a slice from a DataFrame.\n",
            "Try using .loc[row_indexer,col_indexer] = value instead\n",
            "\n",
            "See the caveats in the documentation: https://pandas.pydata.org/pandas-docs/stable/user_guide/indexing.html#returning-a-view-versus-a-copy\n",
            "  df2[\"Data\"] = pd.to_datetime(df2[\"Data\"], errors='coerce')\n",
            "<ipython-input-238-1f34aa287177>:6: SettingWithCopyWarning: \n",
            "A value is trying to be set on a copy of a slice from a DataFrame.\n",
            "Try using .loc[row_indexer,col_indexer] = value instead\n",
            "\n",
            "See the caveats in the documentation: https://pandas.pydata.org/pandas-docs/stable/user_guide/indexing.html#returning-a-view-versus-a-copy\n",
            "  df2[\"Data\"] = df2[\"Data\"].dt.date\n"
          ]
        }
      ],
      "source": [
        "# There are a moltitute of informations for the same product.\n",
        "# e.g. \"qualità rossa\" prices are provided few times, where prices change.\n",
        "# We will be adding the temporal info to the text, so we save few tokens by retrieving only the date.\n",
        "\n",
        "df2[\"Data\"] = pd.to_datetime(df2[\"Data\"], errors='coerce')\n",
        "df2[\"Data\"] = df2[\"Data\"].dt.date"
      ]
    },
    {
      "cell_type": "markdown",
      "metadata": {
        "id": "Q0Wlh-M4yKts"
      },
      "source": [
        "## To skip"
      ]
    },
    {
      "cell_type": "code",
      "execution_count": 52,
      "metadata": {
        "colab": {
          "base_uri": "https://localhost:8080/"
        },
        "id": "NsFU6Ku685Qd",
        "outputId": "e3010266-5656-454b-acc6-5e03b35182fa"
      },
      "outputs": [
        {
          "name": "stdout",
          "output_type": "stream",
          "text": [
            "Unique values before cleaning: Text: 976, Answer: 943\n",
            "Unique values after  cleaning: Text: 960, Answer: 874\n"
          ]
        }
      ],
      "source": [
        "print(f\"Unique values before cleaning: Text: {df.Testo.nunique()}, Answer: {df.Risposta.nunique()}\")\n",
        "print(f\"Unique values after  cleaning: Text: {df2.Testo.nunique()}, Answer: {df2.Risposta.nunique()}\")"
      ]
    },
    {
      "cell_type": "code",
      "execution_count": null,
      "metadata": {
        "colab": {
          "base_uri": "https://localhost:8080/",
          "height": 0
        },
        "id": "gNCgmBL-85Uo",
        "outputId": "0c21bb17-233d-42f9-c80e-df6b1b3b452f"
      },
      "outputs": [],
      "source": [
        "df2[df2['Testo'].str.contains('UNK', case=False)][\"Testo\"].values[:5]"
      ]
    },
    {
      "cell_type": "code",
      "execution_count": 105,
      "metadata": {
        "colab": {
          "base_uri": "https://localhost:8080/"
        },
        "id": "yrUAZnyz8J4E",
        "outputId": "d79acaa4-e2fa-4efc-c60e-ef7f93b7fffe"
      },
      "outputs": [
        {
          "data": {
            "text/plain": [
              "(959, 873)"
            ]
          },
          "execution_count": 105,
          "metadata": {},
          "output_type": "execute_result"
        }
      ],
      "source": [
        "# Look for dupicated couples\n",
        "df2.Testo.nunique(), df2.Risposta.nunique()"
      ]
    },
    {
      "cell_type": "code",
      "execution_count": null,
      "metadata": {
        "colab": {
          "base_uri": "https://localhost:8080/",
          "height": 927
        },
        "id": "u4xF4g9ZAzaS",
        "outputId": "efea3345-a4e8-414d-f5c5-447dd19c9ee5"
      },
      "outputs": [],
      "source": [
        "# There are 33 repeated answers\n",
        "duplicates = df2[df2.duplicated(subset=[\"Testo\"], keep = False)].sort_values(by=\"Testo\")\n",
        "duplicates[[\"Testo\", \"Risposta\", \"level_1\"]]"
      ]
    },
    {
      "cell_type": "code",
      "execution_count": 7,
      "metadata": {
        "colab": {
          "base_uri": "https://localhost:8080/"
        },
        "id": "zhQmZLkXTcI6",
        "outputId": "34c685db-3423-4107-c4cd-e5a2916241e8"
      },
      "outputs": [
        {
          "name": "stdout",
          "output_type": "stream",
          "text": [
            "342\n",
            "553\n"
          ]
        }
      ],
      "source": [
        "for index, row in df2.iterrows():\n",
        "    if len(row['Testo'].split()) < 1:\n",
        "        print(index)\n",
        "\n",
        "df2 = df2.drop([342, 553])"
      ]
    },
    {
      "cell_type": "code",
      "execution_count": 16,
      "metadata": {
        "colab": {
          "base_uri": "https://localhost:8080/"
        },
        "id": "QA4cTDHdkEM8",
        "outputId": "b900a9bb-3d94-4abb-8377-68c3b58618da"
      },
      "outputs": [
        {
          "name": "stdout",
          "output_type": "stream",
          "text": [
            "Collecting language_tool_python\n",
            "  Downloading language_tool_python-2.7.1-py3-none-any.whl (34 kB)\n",
            "Requirement already satisfied: requests in /usr/local/lib/python3.10/dist-packages (from language_tool_python) (2.31.0)\n",
            "Requirement already satisfied: tqdm in /usr/local/lib/python3.10/dist-packages (from language_tool_python) (4.66.1)\n",
            "Requirement already satisfied: charset-normalizer<4,>=2 in /usr/local/lib/python3.10/dist-packages (from requests->language_tool_python) (3.3.1)\n",
            "Requirement already satisfied: idna<4,>=2.5 in /usr/local/lib/python3.10/dist-packages (from requests->language_tool_python) (3.4)\n",
            "Requirement already satisfied: urllib3<3,>=1.21.1 in /usr/local/lib/python3.10/dist-packages (from requests->language_tool_python) (2.0.7)\n",
            "Requirement already satisfied: certifi>=2017.4.17 in /usr/local/lib/python3.10/dist-packages (from requests->language_tool_python) (2023.7.22)\n",
            "Installing collected packages: language_tool_python\n",
            "Successfully installed language_tool_python-2.7.1\n"
          ]
        }
      ],
      "source": [
        "!pip install language_tool_python"
      ]
    },
    {
      "cell_type": "code",
      "execution_count": 23,
      "metadata": {
        "id": "TyQC8_4laULc"
      },
      "outputs": [],
      "source": [
        "import language_tool_python\n",
        "tool = language_tool_python.LanguageTool('it')  # Italian language"
      ]
    },
    {
      "cell_type": "code",
      "execution_count": null,
      "metadata": {
        "colab": {
          "base_uri": "https://localhost:8080/"
        },
        "id": "IoNZT0BlajKx",
        "outputId": "c37c590c-8f25-4ec1-c5f0-82c1e7498f16"
      },
      "outputs": [],
      "source": [
        "text = 'buonasera vorreile cialdi UNK intensocome posso ordinaregrazie'\n",
        "text = \"dovetrovo le capsuleUNK caffèmio\"\n",
        "matches = tool.check(text)\n",
        "corrected_text = language_tool_python.utils.correct(text, matches)\n",
        "print(corrected_text)"
      ]
    },
    {
      "cell_type": "code",
      "execution_count": null,
      "metadata": {
        "colab": {
          "base_uri": "https://localhost:8080/",
          "height": 35
        },
        "id": "6rZVjGtNaWE9",
        "outputId": "4b8a8ba5-71cf-4fb4-ceff-802f0cb11bd3"
      },
      "outputs": [],
      "source": [
        "from autocorrect import Speller\n",
        "\n",
        "# spell = Speller(lang='en' if language == 'en' else 'it')\n",
        "spell = Speller(lang='it')\n",
        "correct_text = spell(text)\n",
        "correct_text"
      ]
    },
    {
      "cell_type": "markdown",
      "metadata": {
        "id": "nL1yYldGWZXY"
      },
      "source": [
        "# **Q&A w/ Embeddings**\n"
      ]
    },
    {
      "cell_type": "code",
      "execution_count": 239,
      "metadata": {
        "id": "xMBUYd1FXomp"
      },
      "outputs": [],
      "source": [
        "df3 = df2.copy().drop([342, 553])"
      ]
    },
    {
      "cell_type": "code",
      "execution_count": 240,
      "metadata": {
        "id": "hi-LQ8CQbFfL"
      },
      "outputs": [],
      "source": [
        "# imports\n",
        "import pandas as pd\n",
        "import tiktoken\n",
        "import openai\n",
        "from scipy import spatial  # for calculating vector similarities for search\n",
        "\n",
        "# models\n",
        "EMBEDDING_MODEL = \"text-embedding-ada-002\"\n",
        "GPT_MODEL = \"gpt-3.5-turbo\"\n",
        "\n",
        "from openai.embeddings_utils import get_embedding\n",
        "openai.api_key = \"INSERT OPENAI KEY HERE\""
      ]
    },
    {
      "cell_type": "code",
      "execution_count": 241,
      "metadata": {
        "id": "yf1tGTzEWfPk"
      },
      "outputs": [],
      "source": [
        "# embedding model parameters\n",
        "embedding_encoding = \"cl100k_base\"  # this the encoding for text-embedding-ada-002\n",
        "max_tokens = 8150  # the maximum for text-embedding-ada-002 is 8191"
      ]
    },
    {
      "cell_type": "code",
      "execution_count": 242,
      "metadata": {
        "colab": {
          "base_uri": "https://localhost:8080/"
        },
        "id": "32NjDU_4WiB-",
        "outputId": "1137b4cc-e299-451c-f18a-ea73004a9bbf"
      },
      "outputs": [
        {
          "data": {
            "text/plain": [
              "974"
            ]
          },
          "execution_count": 242,
          "metadata": {},
          "output_type": "execute_result"
        }
      ],
      "source": [
        "encoding = tiktoken.get_encoding(embedding_encoding)\n",
        "\n",
        "# omit reviews that are too long to embed\n",
        "df3[\"n_tokens\"] = df3[\"Testo\"].apply(lambda x: len(encoding.encode(x)))\n",
        "df3 = df3[df3.n_tokens <= max_tokens]\n",
        "len(df3)"
      ]
    },
    {
      "cell_type": "code",
      "execution_count": 244,
      "metadata": {
        "id": "1wHorRI7wsoI"
      },
      "outputs": [],
      "source": [
        "import spacy\n",
        "# Load the Italian language model\n",
        "nlp = spacy.load('it_core_news_sm')\n",
        "# Process the text with spaCy\n",
        "doc = nlp(text)\n",
        "\n",
        "df3[\"text_answer\"] = [ \"Domanda: \" + t + \" Risposta: \" + a for t,a in zip(df3.Testo.values, df3.Risposta.values)]"
      ]
    },
    {
      "cell_type": "code",
      "execution_count": null,
      "metadata": {
        "id": "_dgG8dnGjby8"
      },
      "outputs": [],
      "source": [
        "def get_lemma_sentence(sentence):\n",
        "    return \" \".join(token.lemma_ for token in nlp(sentence))\n",
        "\n",
        "df3[\"text_answer_lemmatized\"] = [ get_lemma_sentence(sentence) for sentence in df3.text_answer.values]"
      ]
    },
    {
      "cell_type": "code",
      "execution_count": 245,
      "metadata": {
        "colab": {
          "base_uri": "https://localhost:8080/",
          "height": 87
        },
        "id": "NhM8tkYFzxx-",
        "outputId": "bdabdb43-d543-4586-c759-d9a0883bf1f8"
      },
      "outputs": [
        {
          "data": {
            "application/vnd.google.colaboratory.intrinsic+json": {
              "type": "string"
            },
            "text/plain": [
              "'Domanda: io invece per una riparazione e dopo numero lamentele mi hanno scritto via mail che mi avrebbero sostituito la macchinetta hanno ritirato la vecchia e della nuova non si hanno notizie aspetto dal 9 febbraio grazie per la serieta lavazza p s intanto mi sono rivolta a una associazione di consumatori chissa che non riescano a risolvere Risposta:  ci dispiace per quanto ci segnali e ci piacerebbe approfondire. Scrivici in privato il tuo indirizzo e-mail, un recapito telefonico ed una fascia oraria in cui preferisci essere contattata. Il nostro Servizio Consumatori ti chiamera al piu presto per offrirti supporto. Buona giornata!'"
            ]
          },
          "execution_count": 245,
          "metadata": {},
          "output_type": "execute_result"
        }
      ],
      "source": [
        "idx = 3\n",
        "df3.iloc[idx][\"text_answer\"]"
      ]
    },
    {
      "cell_type": "code",
      "execution_count": 169,
      "metadata": {
        "colab": {
          "base_uri": "https://localhost:8080/",
          "height": 87
        },
        "id": "ezKft_3lzkG8",
        "outputId": "3d99c938-b7c6-48e6-fe6f-5f00322a9728"
      },
      "outputs": [
        {
          "data": {
            "application/vnd.google.colaboratory.intrinsic+json": {
              "type": "string"
            },
            "text/plain": [
              "'Domanda : io invece per uno riparazione e dopo numero lamentelo mi avere scrivere via mail che mi avere sostituire il macchinetta avere ritirare il vecchio e di il nuovo non si avere notizia aspettare da il 9 febbraio grazie per il serietà lavazzo p s intanto mi essere rivolgere a uno associazione di consumatore chissà che non riescare a risolvere Risposta :   ci dispiacere per quanto ci segnale e ci piacere approfondire . Scrivici in privato il tuo indirizzo e-mail , uno recapito telefonico e uno fascia orario in cui preferire essere contattare . il nostro Servizio Consumatori ti chiamare a il più presto per offrirto supporto . Buona giornata !'"
            ]
          },
          "execution_count": 169,
          "metadata": {},
          "output_type": "execute_result"
        }
      ],
      "source": [
        "df3.iloc[idx][\"text_answer_lemmatized\"]"
      ]
    },
    {
      "cell_type": "code",
      "execution_count": 246,
      "metadata": {
        "id": "ln0KTFjfYMWf"
      },
      "outputs": [],
      "source": [
        "df3[\"embedding_text\"] = df3[\"Testo\"].apply(lambda x: get_embedding(x, engine=EMBEDDING_MODEL))"
      ]
    },
    {
      "cell_type": "code",
      "execution_count": 247,
      "metadata": {
        "id": "dTKDE2lXIJD3"
      },
      "outputs": [],
      "source": [
        "df3[\"embedding_answer\"] = df3[\"Risposta\"].apply(lambda x: get_embedding(x, engine=EMBEDDING_MODEL))"
      ]
    },
    {
      "cell_type": "code",
      "execution_count": 248,
      "metadata": {
        "id": "NV8bS_O_OFxQ"
      },
      "outputs": [],
      "source": [
        "df3[\"embedding_text_answer\"] = df3[\"text_answer\"].apply(lambda x: get_embedding(x, engine=EMBEDDING_MODEL))"
      ]
    },
    {
      "cell_type": "code",
      "execution_count": 173,
      "metadata": {
        "id": "aIykhP0j8U_H"
      },
      "outputs": [],
      "source": [
        "df3[\"embedding_text_answer_lemmatized\"] = df3[\"text_answer_lemmatized\"].apply(lambda x: get_embedding(x, engine=EMBEDDING_MODEL))"
      ]
    },
    {
      "cell_type": "code",
      "execution_count": 249,
      "metadata": {
        "id": "93TMlGo-Jq6w"
      },
      "outputs": [],
      "source": [
        "df3.to_csv('embedded_UNK.csv', index=False)"
      ]
    },
    {
      "cell_type": "code",
      "execution_count": null,
      "metadata": {
        "colab": {
          "base_uri": "https://localhost:8080/",
          "height": 182
        },
        "id": "C72I90J8AqyP",
        "outputId": "a931d1af-746e-4999-f15d-3e8979728980"
      },
      "outputs": [],
      "source": [
        "df3.head(2)"
      ]
    },
    {
      "cell_type": "code",
      "execution_count": 251,
      "metadata": {
        "colab": {
          "base_uri": "https://localhost:8080/"
        },
        "id": "d_ZO6mqnYX_X",
        "outputId": "d38e9cce-cab1-4bd0-cc5a-4d6b5081ac84"
      },
      "outputs": [
        {
          "name": "stdout",
          "output_type": "stream",
          "text": [
            "<class 'pandas.core.frame.DataFrame'>\n",
            "Int64Index: 974 entries, 0 to 975\n",
            "Data columns (total 9 columns):\n",
            " #   Column                 Non-Null Count  Dtype \n",
            "---  ------                 --------------  ----- \n",
            " 0   Data                   974 non-null    object\n",
            " 1   Testo                  974 non-null    object\n",
            " 2   Risposta               974 non-null    object\n",
            " 3   level_1                974 non-null    object\n",
            " 4   n_tokens               974 non-null    int64 \n",
            " 5   text_answer            974 non-null    object\n",
            " 6   embedding_text         974 non-null    object\n",
            " 7   embedding_answer       974 non-null    object\n",
            " 8   embedding_text_answer  974 non-null    object\n",
            "dtypes: int64(1), object(8)\n",
            "memory usage: 76.1+ KB\n"
          ]
        }
      ],
      "source": [
        "df3.info()"
      ]
    },
    {
      "cell_type": "code",
      "execution_count": 257,
      "metadata": {
        "id": "wgNYOX50_V_E"
      },
      "outputs": [],
      "source": [
        "# search function\n",
        "def strings_ranked_by_relatedness(\n",
        "        query: str,\n",
        "        df: pd.DataFrame,\n",
        "        relatedness_fn=lambda x, y: 1 - spatial.distance.cosine(x, y),\n",
        "        top_n: int = 100) -> tuple[list[str], list[float]]:\n",
        "\n",
        "    \"\"\"\n",
        "    Returns a list of strings and relatednesses,\n",
        "    sorted from most related to least.\n",
        "    \"\"\"\n",
        "\n",
        "    query = preprocess_text(query)\n",
        "    #print(query)\n",
        "    query_embedding_response = openai.Embedding.create(\n",
        "        model=EMBEDDING_MODEL,\n",
        "        input=query,\n",
        "    )\n",
        "\n",
        "    query_embedding = query_embedding_response[\"data\"][0][\"embedding\"]\n",
        "    strings_and_relatednesses = [\n",
        "        (row[\"Data\"], row[\"Testo\"], row[\"Risposta\"], relatedness_fn(query_embedding, row[\"embedding_text_answer\"]))\n",
        "        for i, row in df.iterrows()\n",
        "    ]\n",
        "\n",
        "    strings_and_relatednesses.sort(key=lambda x: x[3], reverse=True)\n",
        "    data, testo, risposta, relatednesses = zip(*strings_and_relatednesses)\n",
        "\n",
        "    return data[:top_n], testo[:top_n], risposta[:top_n], relatednesses[:top_n]\n"
      ]
    },
    {
      "cell_type": "code",
      "execution_count": 253,
      "metadata": {
        "id": "3ibLcEGvRBPW"
      },
      "outputs": [],
      "source": [
        "# examples\n",
        "t1 = \"dove posso trovare delle capsule oro?\"\n",
        "t3 = \"dove trovo UNK a modo mio\"\n",
        "t4 = \"quanto costa divino?\"\n",
        "t5 = \"che tempo fa domani?\"\n",
        "t6 = \"dv pss acquistar le cilde per il dekaffeinato?\"\n",
        "t7 = \"quando saranno disponibili nuovamente le jolie milk?\"\n",
        "t8 = \"prezzo qualità rossa\"\n",
        "t9 = \"Uno dei vostri prodotti fa il cappuccino?\"\n",
        "t10 = \"Si può fare caffè senza capsule? \"\n",
        "t11 = \"come butto le capsule?\"\n",
        "t12 = \"quanto costano le vostre capsule rosse?\"\n",
        "t_n = \"il caffè sarà anche ottimo ma l assistenza lascia proprio desiderare più volte ho inviato l email e i miei problemi non sono stati risolti un premio ordinato il 20 dicembre e ancora non è stato spedito e una milk up di 2000 punti che non prepara la cioccolata calda come dovrebbe ma rimane liquida e fredda\""
      ]
    },
    {
      "cell_type": "code",
      "execution_count": null,
      "metadata": {
        "colab": {
          "base_uri": "https://localhost:8080/",
          "height": 687
        },
        "id": "HpPGedqnCB9h",
        "outputId": "7049d172-94dd-4506-b7c4-4f28eaef4f58"
      },
      "outputs": [],
      "source": [
        "date, testi, risposte, relatednesses = strings_ranked_by_relatedness(t3, df3, top_n=5)\n",
        "for data, testo, risposta, relatedness in zip(date, testi, risposte, relatednesses):\n",
        "    print(f\"{relatedness=:.4f}\")\n",
        "    display(testo)\n",
        "    display(risposta)\n",
        "    print()"
      ]
    },
    {
      "cell_type": "code",
      "execution_count": 279,
      "metadata": {
        "id": "q2CxR70eCE7J"
      },
      "outputs": [],
      "source": [
        "def num_tokens(text: str, model: str = GPT_MODEL) -> int:\n",
        "    \"\"\"Return the number of tokens in a string.\"\"\"\n",
        "    encoding = tiktoken.encoding_for_model(model)\n",
        "    return len(encoding.encode(text))\n",
        "\n",
        "\n",
        "def query_message(\n",
        "        query: str,\n",
        "        df: pd.DataFrame,\n",
        "        model: str,\n",
        "        token_budget: int\n",
        "    ) -> str:\n",
        "\n",
        "    \"\"\"\n",
        "    Return a message for GPT,\n",
        "    with relevant source texts pulled from a dataframe.\n",
        "    \"\"\"\n",
        "    query_lemma = get_lemma_sentence(query)\n",
        "    print(\"QUERY\", query)\n",
        "    dates, strings, answers, relatednesses = strings_ranked_by_relatedness(query_lemma, df)\n",
        "    #print(strings[0])\n",
        "    #print(answers[0])\n",
        "    introduction = \"\"\"\n",
        "        Sei un chatbot gentile che risponde ai clienti di UNK per assisterli sui suoi prodotti.\n",
        "        Per rispondere, utilizza le seguenti coppie di domande e risposte fatte dai clienti algi assistenti che lavorano per l'azienda UNK.\n",
        "        Se hai a disposizione molte informazioni, preferisci rispondere basandoti sulla data più recente.\n",
        "        Sii il più specifico possibile, fornisci links e/o numero di telefono se necessario.\n",
        "        Se non trovi una risposta specifica vai sul sito ufficiale \"https://www.UNK.it/it/\" e cerca il prodotto che viene richiesto, fornendo il link completo al cliente.\n",
        "        Se la domanda/affermazione fa emergere delle complicanze rispondi scusandoti ed invitando a contattare il servizio clienti al\n",
        "        Numero Verde 800124535 o all'indirizzo e-mail info@UNK.it\"\n",
        "        Se non trovi risposta rispondi 'Non trovo una risposta, puoi essere più specifico?'\n",
        "        \"\"\"\n",
        "\n",
        "    question = f\"\\n\\nQuestion: {query}\"\n",
        "    message = introduction\n",
        "\n",
        "    #for string in strings:\n",
        "    distinct_answers = set()\n",
        "    for data, string, answer in zip(dates, strings ,answers):\n",
        "        if (\n",
        "            num_tokens(message + f\"Data: {data}\" + f\"n\\Domanda: {string}\" + f\"\\nRisposta: {answer}\\n\" + question, model=model)\n",
        "            > token_budget\n",
        "        ) or answer.lower() in distinct_answers:\n",
        "            break\n",
        "        else:\n",
        "            message += \"\\n\" + f\"Data: {data}\" + f\"\\nDomanda: {string}\" + f\"\\nRisposta: {answer}\\n\"\n",
        "            distinct_answers.update(answer.lower())\n",
        "    return message + \"\\n\" + question\n",
        "\n",
        "\n",
        "def ask(\n",
        "        query: str,\n",
        "        df: pd.DataFrame = df3,\n",
        "        model: str = GPT_MODEL,\n",
        "        token_budget: int = 4096 - 200,\n",
        "        print_message: bool = False,\n",
        "    ) -> str:\n",
        "\n",
        "    \"\"\"Answers a query using GPT and a dataframe of relevant texts and embeddings.\"\"\"\n",
        "\n",
        "    message = query_message(query, df, model=model, token_budget=token_budget)\n",
        "    if print_message:\n",
        "        print(message)\n",
        "\n",
        "    messages = [\n",
        "        {\"role\": \"system\", \"content\": \"Sei un chatbot che risponde ai clienti di UNK per assisterli sui suoi prodotti.\"},\n",
        "        {\"role\": \"user\", \"content\": message},\n",
        "    ]\n",
        "\n",
        "    response = openai.ChatCompletion.create(\n",
        "        model=model,\n",
        "        messages=messages,\n",
        "        temperature=0\n",
        "    )\n",
        "    response_message = response[\"choices\"][0][\"message\"][\"content\"]\n",
        "    return response_message\n",
        "\n"
      ]
    },
    {
      "cell_type": "code",
      "execution_count": null,
      "metadata": {
        "id": "WlrQM_gJQ_eO"
      },
      "outputs": [],
      "source": [
        "ask(t11, print_message=True)"
      ]
    },
    {
      "cell_type": "code",
      "execution_count": 255,
      "metadata": {
        "id": "TH8UvWgVuXRK"
      },
      "outputs": [],
      "source": [
        "t12 = \"quanto costa le vostre capsule qualità rossa?\"\n",
        "t13= \"in che città posso trovare la desea e in quale rivenditore\""
      ]
    },
    {
      "cell_type": "code",
      "execution_count": null,
      "metadata": {
        "colab": {
          "base_uri": "https://localhost:8080/",
          "height": 1000
        },
        "id": "ofVFcl1qzR20",
        "outputId": "c2dc75a3-5f30-4623-cabd-c088e04d9135"
      },
      "outputs": [],
      "source": [
        "ask(\"qual'è stato l'ultimo presidente d'italia\", print_message=True)"
      ]
    },
    {
      "cell_type": "markdown",
      "metadata": {
        "id": "SIxVl15XzWP8"
      },
      "source": [
        "# Topic Modeling"
      ]
    },
    {
      "cell_type": "code",
      "execution_count": 142,
      "metadata": {
        "id": "SzURNHYd0mps"
      },
      "outputs": [],
      "source": [
        "def tokenize(text):\n",
        "    tokens = nltk.word_tokenize(text)\n",
        "    return tokens\n",
        "\n",
        "def is_stopwords(token):\n",
        "    if token in it_stop:\n",
        "        return True\n",
        "    return False\n",
        "\n",
        "def get_lemma(token):\n",
        "    return WordNetLemmatizer().lemmatize(token)\n",
        "\n",
        "def transform(text):\n",
        "    tokens = tokenize(text)\n",
        "    tokens = [token.lower() for token in tokens]\n",
        "    tokens = [token for token in tokens if len(token) > 3]\n",
        "    tokens = [token for token in tokens if token not in it_stop]\n",
        "    tokens = [get_lemma(token) for token in tokens]\n",
        "    return tokens"
      ]
    },
    {
      "cell_type": "code",
      "execution_count": null,
      "metadata": {
        "id": "Q8c8O0HLSyIT"
      },
      "outputs": [],
      "source": [
        "#Trying to retrieve products by means of SPACY NER\n",
        "\n",
        "products = []\n",
        "for i,el in df2.iterrows():\n",
        "    text = el[\"Testo\"] + el[\"Risposta\"]\n",
        "    doc = nlp(text)\n",
        "\n",
        "    for entity in doc.ents:\n",
        "        if (len(entity.text.split()) > 1 and len(entity.text.split()) < 4) and (\n",
        "                not any(el for el in entity.text.lower().split() if el in [\"ciao\", \"UNK\", \"buona\", \"numero\", \"servizio\", \"buongiorno\", \"amazon\", \"assistenza\", \"europei\" \"vorrei\"]\n",
        "                or \"http\" in el or \"www\" in el)\n",
        "            ) and entity.label_ != \"LOC\":\n",
        "\n",
        "            products.append((entity.text, entity.label_))\n",
        "\n",
        "products"
      ]
    },
    {
      "cell_type": "code",
      "execution_count": null,
      "metadata": {
        "id": "cGdweTijX2td"
      },
      "outputs": [],
      "source": [
        "list(set([preprocess_text(el) for el, _ in products]))"
      ]
    },
    {
      "cell_type": "code",
      "execution_count": 169,
      "metadata": {
        "colab": {
          "base_uri": "https://localhost:8080/"
        },
        "id": "GXjPbWlSbRZg",
        "outputId": "62df868a-967c-4a00-fa8c-2a4fce69b4b0"
      },
      "outputs": [
        {
          "name": "stdout",
          "output_type": "stream",
          "text": [
            "('dek classico', 'gusto classico', 'gusto forte', 'gusto ricco')\n",
            "('cialde al ginseng', 'cialde compatibile', 'cialde crema', 'cialde ese', 'dek cremoso', 'dek intenso', 'gusto compatibili')\n",
            "('a modo mio', 'mod tiny', 'modo mio', 'modo mio dek', 'modo mio desèa', 'modo mio deséa', 'modo mio suerte')\n",
            "('jolie ke', 'jolie milk', 'jolie plus')\n",
            "('dek espresso', 'ese crema gusto', 'espresso bio', 'espresso cremoso', 'espresso dek gentile', 'espresso intenso', 'espresso milk', 'espresso point', 'gusto espresso', 'l espresso', 'linea espresso point', 'macchinetta espresso', 'nescafè dolcegusto', 'nescafé dolce gusto', 'nespresso dolce gusto', 'nespresso orginal', 'nespresso original', 'nespresso vertuo', 'qualità oro espresso')\n",
            "('cappuccino compatibili', 'cappuccino ginseng', 'cappuccino large', 'coffee cappuccino')\n",
            "('qualità oro', 'qualità rossa', 'qualità rossa dek')\n",
            "('nescafè dolce gusto', 'nescafé dolce')\n",
            "('gran cafè paulista', 'gran café paulista')\n",
            "('brasile cerrado', 'brasile mia terra')\n",
            "10\n"
          ]
        }
      ],
      "source": [
        "from collections import Counter\n",
        "from difflib import SequenceMatcher\n",
        "\n",
        "# Lista di stringhe da raggruppare\n",
        "stringhe = list(set([preprocess_text(el) for el, _ in products]))\n",
        "\n",
        "# Funzione per calcolare la similarità tra due stringhe\n",
        "def similarita(s1, s2):\n",
        "    return SequenceMatcher(None, s1, s2).ratio()\n",
        "\n",
        "# Raggruppare le stringhe simili\n",
        "gruppi = []\n",
        "for stringa in stringhe:\n",
        "    aggiunto = False\n",
        "    for gruppo in gruppi:\n",
        "        if any(similarita(stringa, s) > 0.6 for s in gruppo):\n",
        "            gruppo.append(stringa)\n",
        "            aggiunto = True\n",
        "            break\n",
        "    if not aggiunto:\n",
        "        gruppi.append([stringa])\n",
        "\n",
        "# Contare le occorrenze di ogni gruppo\n",
        "conteggio_gruppi = Counter([tuple(sorted(gruppo)) for gruppo in gruppi])\n",
        "\n",
        "# Ordinare i gruppi in base alla frequenza di comparsa\n",
        "gruppi_ordinati = sorted(conteggio_gruppi.items(), key=lambda x: x[1], reverse=True)\n",
        "\n",
        "# Stampare i gruppi in ordine di frequenza\n",
        "res = []\n",
        "for gruppo, _ in gruppi_ordinati:\n",
        "    if len(gruppo) > 1 and not any( any( token in [\"vorrei\", \"vs\", \"vostro\"] for token in el.split()) for el in gruppo):\n",
        "        print(gruppo)\n",
        "        res.append(gruppo)\n",
        "\n",
        "print(len(res))\n",
        "res = [item for el in res for item in el if \"vorrei\" not in item]\n"
      ]
    },
    {
      "cell_type": "code",
      "execution_count": 171,
      "metadata": {
        "id": "rbeYp38908TW"
      },
      "outputs": [],
      "source": [
        "#cleaned_docs = [transform(row[\"Risposta\"]) for _, row in df3.iterrows()]\n",
        "cleaned_docs = [transform(el) for el in res]"
      ]
    },
    {
      "cell_type": "code",
      "execution_count": 172,
      "metadata": {
        "colab": {
          "base_uri": "https://localhost:8080/"
        },
        "id": "nn2jBefzz5FX",
        "outputId": "94db7c65-d48e-41f7-853a-cb6a46d944cd"
      },
      "outputs": [
        {
          "name": "stdout",
          "output_type": "stream",
          "text": [
            "(0, '0.178*\"gusto\" + 0.178*\"dolce\"')\n",
            "(1, '0.223*\"milk\" + 0.223*\"jolie\"')\n",
            "(2, '0.284*\"cremoso\" + 0.149*\"espresso\"')\n",
            "(3, '0.236*\"gusto\" + 0.120*\"classico\"')\n",
            "(4, '0.343*\"espresso\" + 0.071*\"point\"')\n",
            "(5, '0.266*\"qualità\" + 0.136*\"rossa\"')\n",
            "(6, '0.396*\"modo\" + 0.071*\"cappuccino\"')\n",
            "(7, '0.250*\"brasile\" + 0.131*\"cerrado\"')\n",
            "(8, '0.202*\"intenso\" + 0.106*\"cappuccino\"')\n",
            "(9, '0.330*\"cialde\" + 0.089*\"nespresso\"')\n"
          ]
        }
      ],
      "source": [
        "# Crea un dizionario e un corpus\n",
        "\n",
        "dictionary = corpora.Dictionary(cleaned_docs)\n",
        "corpus = [dictionary.doc2bow(text) for text in cleaned_docs]\n",
        "\n",
        "# Allenamento del modello LDA\n",
        "lda_model = gensim.models.LdaModel(corpus, num_topics=10, id2word=dictionary, passes=20)\n",
        "\n",
        "# Visualizza i topic\n",
        "topics = lda_model.print_topics(num_words=2)\n",
        "for topic in topics:\n",
        "    print(topic)"
      ]
    },
    {
      "cell_type": "code",
      "execution_count": 154,
      "metadata": {
        "colab": {
          "base_uri": "https://localhost:8080/"
        },
        "id": "LP3Qhxitz8Br",
        "outputId": "bec13fa2-e0b4-4662-812f-97a2b7707d3d"
      },
      "outputs": [
        {
          "name": "stdout",
          "output_type": "stream",
          "text": [
            "(4, 0.5384609)\n"
          ]
        }
      ],
      "source": [
        "# Prepara il nuovo documento\n",
        "new_document = \"quanto costano le capsule rossa.\"\n",
        "new_text = transform(new_document)\n",
        "\n",
        "# Trasforma il nuovo documento in un corpus\n",
        "new_corpus = dictionary.doc2bow(new_text)\n",
        "\n",
        "# Ottieni la distribuzione dei topic per il nuovo documento\n",
        "topic_distribution = max(lda_model.get_document_topics(new_corpus), key=lambda x:x[1])\n",
        "\n",
        "# Visualizza la distribuzione dei topic\n",
        "print(topic_distribution)"
      ]
    },
    {
      "cell_type": "markdown",
      "metadata": {
        "id": "ZjlFfie5c5UG"
      },
      "source": [
        "# **Finetuning**"
      ]
    },
    {
      "cell_type": "markdown",
      "metadata": {
        "id": "9kdzCcl2dDlH"
      },
      "source": [
        "## Split Train/Val"
      ]
    },
    {
      "cell_type": "code",
      "execution_count": null,
      "metadata": {
        "colab": {
          "base_uri": "https://localhost:8080/",
          "height": 0
        },
        "id": "6x4zzGKL2pSD",
        "outputId": "1a85ffbc-24c9-483e-83dd-3da636168893"
      },
      "outputs": [],
      "source": [
        "df_ft = df3[[\"Data\",\"Testo\", \"Risposta\", \"level_1\"]]\n",
        "df_ft.head()"
      ]
    },
    {
      "cell_type": "code",
      "execution_count": null,
      "metadata": {
        "colab": {
          "base_uri": "https://localhost:8080/",
          "height": 0
        },
        "id": "MJxg8ohVddWX",
        "outputId": "5606391c-1426-41c1-8e08-c7e16e480865"
      },
      "outputs": [],
      "source": [
        "df.level_1.value_counts()"
      ]
    },
    {
      "cell_type": "code",
      "execution_count": 46,
      "metadata": {
        "colab": {
          "base_uri": "https://localhost:8080/",
          "height": 0
        },
        "id": "F2R4QR4XdsP6",
        "outputId": "345ae9da-931e-49e2-8e54-018c6ade951d"
      },
      "outputs": [
        {
          "name": "stderr",
          "output_type": "stream",
          "text": [
            "<ipython-input-46-7a57553fe788>:6: SettingWithCopyWarning: \n",
            "A value is trying to be set on a copy of a slice from a DataFrame.\n",
            "Try using .loc[row_indexer,col_indexer] = value instead\n",
            "\n",
            "See the caveats in the documentation: https://pandas.pydata.org/pandas-docs/stable/user_guide/indexing.html#returning-a-view-versus-a-copy\n",
            "  df_ft[\"level_1\"] = enc.fit_transform(y)\n"
          ]
        },
        {
          "data": {
            "text/plain": [
              "5    512\n",
              "4    205\n",
              "7    130\n",
              "3     53\n",
              "0     37\n",
              "2     16\n",
              "1     13\n",
              "6      8\n",
              "Name: level_1, dtype: int64"
            ]
          },
          "execution_count": 46,
          "metadata": {},
          "output_type": "execute_result"
        }
      ],
      "source": [
        "from sklearn.preprocessing import LabelEncoder\n",
        "\n",
        "enc = LabelEncoder()\n",
        "df_ft[\"level_1\"] = enc.fit_transform(y)\n",
        "\n",
        "df_ft[\"level_1\"].value_counts()"
      ]
    },
    {
      "cell_type": "code",
      "execution_count": 87,
      "metadata": {
        "id": "0TEuuUiEfJlY"
      },
      "outputs": [],
      "source": [
        "from sklearn.model_selection import train_test_split\n",
        "\n",
        "\n",
        "X, y = df_ft.iloc[:, :-1], df_ft.iloc[:, -1]\n",
        "\n",
        "X_train, X_val, y_train, y_val = train_test_split(X,y, test_size=.1, random_state=0, stratify=y)"
      ]
    },
    {
      "cell_type": "code",
      "execution_count": 88,
      "metadata": {
        "colab": {
          "base_uri": "https://localhost:8080/",
          "height": 0
        },
        "id": "B3fvpbXUgsqO",
        "outputId": "dce05b1f-a7ad-4cb9-9627-63cf21874707"
      },
      "outputs": [
        {
          "data": {
            "image/png": "[encoded data removed]",
            "text/plain": [
              "<Figure size 640x480 with 1 Axes>"
            ]
          },
          "metadata": {},
          "output_type": "display_data"
        }
      ],
      "source": [
        "import numpy as np\n",
        "import matplotlib.pyplot as plt\n",
        "\n",
        "s1, s2 = np.array(y_train.value_counts().values), np.array(y_val.value_counts().values)\n",
        "x = np.arange(max(set(y_val)) + 1)\n",
        "s1p, s2p = (s1 / s1.sum()) * 100, (s2 / s2.sum()) * 100\n",
        "bw = 0.35\n",
        "\n",
        "fig, ax = plt.subplots()\n",
        "ax.bar(x - bw/2, s1p, bw, label='Series 1')\n",
        "ax.bar(x + bw/2, s2p, bw, label='Series 2')\n",
        "ax.set_xlabel('X Values'); ax.set_ylabel('Percentage')\n",
        "ax.set_title('Comparison of Two Series')\n",
        "ax.set_xticks(x); ax.set_xticklabels(x); ax.legend()\n",
        "plt.show()\n"
      ]
    },
    {
      "cell_type": "markdown",
      "metadata": {
        "id": "kR0aSXFOjBQh"
      },
      "source": [
        "## Train-Val Data processing"
      ]
    },
    {
      "cell_type": "code",
      "execution_count": 209,
      "metadata": {
        "id": "4Uop7Qw6iqG9"
      },
      "outputs": [],
      "source": [
        "from pprint import pprint\n",
        "training_data = []\n",
        "\n",
        "system_message = \"\"\"\n",
        "    Sei un chatbot gentile che risponde ai clienti di UNK per assisterli sui suoi prodotti.\n",
        "    Per rispondere, utilizza le seguenti coppie di domande e risposte fatte dai clienti algi assistenti che lavorano per l'azienda UNK.\n",
        "    Sii il più specifico possibile, fornisci links e/o numero di telefono se necessario.\n",
        "    Se non trovi una risposta specifica vai sul sito ufficiale \"https://www.UNK.it/it/\" e cerca il prodotto che viene richiesto, fornendo il link completo al cliente.\n",
        "    Se la domanda/affermazione fa emergere delle complicanze rispondi scusandoti ed invitando a contattare il servizio clienti al\n",
        "    Numero Verde 800124535 o all'indirizzo e-mail info@UNK.it\".\n",
        "    Se hai a disposizione molte informazioni, preferisci rispondere basandoti sulla data più recente, ed inizia la frase senza inserire la data.\n",
        "    Se la domanda non riguarda i prodotti UNK rispondi 'Non trovo una risposta, puoi essere più specifico?'\n",
        "    \"\"\"\n",
        "\n",
        "def prepare_example_conversation(row):\n",
        "    messages = []\n",
        "    messages.append({\"role\": \"system\",\n",
        "                     \"content\": \"Sei un chatbot gentile che risponde ai clienti di UNK per assisterli sui suoi prodotti.\"})\n",
        "\n",
        "    #user_message = create_user_message(row)\n",
        "    messages.append({\"role\": \"user\",\n",
        "                     \"content\": row[\"Testo\"]})\n",
        "\n",
        "    messages.append({\"role\": \"assistant\",\n",
        "                     \"content\": str(row[\"Data\"]) + \": \" + row[\"Risposta\"]})\n",
        "\n",
        "    return {\"messages\": messages}"
      ]
    },
    {
      "cell_type": "code",
      "execution_count": null,
      "metadata": {
        "colab": {
          "base_uri": "https://localhost:8080/"
        },
        "id": "N8fWRuaaj7LP",
        "outputId": "a9b4ece6-04ef-41c2-e20a-cdd7cde93faf"
      },
      "outputs": [],
      "source": [
        "# Formatting for OPEN-AI FT engine\n",
        "train_data = X_train.apply(prepare_example_conversation, axis=1).to_list()\n",
        "validation_data = X_val.apply(prepare_example_conversation, axis=1).tolist()\n",
        "\n",
        "print(len(train_data), len(validation_data))\n",
        "train_data[0]"
      ]
    },
    {
      "cell_type": "code",
      "execution_count": 146,
      "metadata": {
        "id": "RAGpCafZmD9o"
      },
      "outputs": [],
      "source": [
        "import json\n",
        "\n",
        "def write_jsonl(data_list: list, filename: str) -> None:\n",
        "    with open(filename, \"w\") as out:\n",
        "        for ddict in data_list:\n",
        "            jout = json.dumps(ddict) + \"\\n\"\n",
        "            out.write(jout)\n",
        "\n",
        "training_file_name = \"training_ft_date.jsonl\"\n",
        "write_jsonl(train_data, training_file_name)\n",
        "\n",
        "validation_file_name = \"validation_ft_date.jsonl\"\n",
        "write_jsonl(validation_data, validation_file_name)"
      ]
    },
    {
      "cell_type": "code",
      "execution_count": 147,
      "metadata": {
        "colab": {
          "base_uri": "https://localhost:8080/"
        },
        "id": "9_fWsgcRmT9D",
        "outputId": "42127b40-4954-4824-f471-f3b3dba8fbd3"
      },
      "outputs": [
        {
          "name": "stdout",
          "output_type": "stream",
          "text": [
            "Training file ID: file-s3iF6Sg15xsih2NG4pzlSYf7\n",
            "Validation file ID: file-C71cmLzG0NOIM6slRnfRhTEA\n"
          ]
        }
      ],
      "source": [
        "training_response = openai.File.create(\n",
        "    file=open(training_file_name, \"rb\"), purpose=\"fine-tune\"\n",
        ")\n",
        "\n",
        "validation_response = openai.File.create(\n",
        "    file=open(validation_file_name, \"rb\"), purpose=\"fine-tune\"\n",
        ")\n",
        "\n",
        "training_file_id = training_response[\"id\"]\n",
        "validation_file_id = validation_response[\"id\"]\n",
        "\n",
        "print(\"Training file ID:\", training_file_id)\n",
        "print(\"Validation file ID:\", validation_file_id)"
      ]
    },
    {
      "cell_type": "markdown",
      "metadata": {
        "id": "fwp6QE5Kmc7g"
      },
      "source": [
        "## FineTuning"
      ]
    },
    {
      "cell_type": "code",
      "execution_count": null,
      "metadata": {
        "id": "-84F0FQYmaI4"
      },
      "outputs": [],
      "source": [
        "response = openai.FineTuningJob.create(\n",
        "    training_file=training_file_id,\n",
        "    validation_file=validation_file_id,\n",
        "    model=\"gpt-3.5-turbo\",\n",
        "    suffix=\"UNK_FT_2\",\n",
        ")\n",
        "\n",
        "job_id = response[\"id\"]\n",
        "\n",
        "print(\"Job ID:\", response[\"id\"])\n",
        "print(\"Status:\", response[\"status\"])"
      ]
    },
    {
      "cell_type": "code",
      "execution_count": null,
      "metadata": {
        "id": "iAU945LomvgX"
      },
      "outputs": [],
      "source": [
        "response = openai.FineTuningJob.retrieve(job_id)\n",
        "\n",
        "print(\"Job ID:\", response[\"id\"])\n",
        "print(\"Status:\", response[\"status\"])\n",
        "print(\"Trained Tokens:\", response[\"trained_tokens\"])"
      ]
    },
    {
      "cell_type": "code",
      "execution_count": null,
      "metadata": {
        "id": "T0Q6nwtG2iQf"
      },
      "outputs": [],
      "source": [
        "#1st fine-tuned model created: ft:gpt-3.5-turbo-0613:UNK:UNK-ft:8G9cCh9V\n",
        "#2nd fine-tuned model created: ft:gpt-3.5-turbo-0613:UNK:UNK-ft-2:8GAqmpJf"
      ]
    },
    {
      "cell_type": "code",
      "execution_count": null,
      "metadata": {
        "id": "xILi9P-r3IG_"
      },
      "outputs": [],
      "source": [
        "response = openai.FineTuningJob.list_events(id=job_id, limit=50)\n",
        "\n",
        "events = response[\"data\"]\n",
        "events.reverse()\n",
        "\n",
        "for event in events:\n",
        "    print(event[\"message\"])"
      ]
    },
    {
      "cell_type": "markdown",
      "metadata": {
        "id": "MPOrnqlyTA6_"
      },
      "source": [
        "### Comparison"
      ]
    },
    {
      "cell_type": "code",
      "execution_count": null,
      "metadata": {
        "colab": {
          "base_uri": "https://localhost:8080/",
          "height": 1000
        },
        "id": "rz7oOMwsQvJM",
        "outputId": "4905dcd9-529a-4dd5-fc1a-f467c1a27fad"
      },
      "outputs": [],
      "source": [
        "ask(t4, print_message=True)"
      ]
    },
    {
      "cell_type": "code",
      "execution_count": null,
      "metadata": {
        "colab": {
          "base_uri": "https://localhost:8080/"
        },
        "id": "My48MCypJByi",
        "outputId": "d9d70dab-a67b-4ef5-8b49-f68f744abb81"
      },
      "outputs": [],
      "source": [
        "response = openai.FineTuningJob.retrieve(job_id)\n",
        "fine_tuned_model_id = response[\"fine_tuned_model\"]\n",
        "\n",
        "model1 = \"ft:gpt-3.5-turbo-0613:UNK:UNK-ft:8G9cCh9V\"\n",
        "model2 = \"ft:gpt-3.5-turbo-0613:UNK:UNK-ft-2:8GAqmpJf\"\n",
        "\n",
        "test_messages = []\n",
        "test_messages.append({\"role\": \"system\", \"content\": \"Sei un chatbot gentile che risponde ai clienti di UNK per assisterli sui suoi prodotti.\"})\n",
        "test_messages.append({\"role\": \"user\", \"content\": system_message + \"\\n\" + t4})\n",
        "\n",
        "response = openai.ChatCompletion.create(\n",
        "    model=model1,\n",
        "    messages=test_messages,\n",
        "    temperature=0,\n",
        "    max_tokens=500\n",
        ")\n",
        "\n",
        "print(response[\"choices\"][0][\"message\"][\"content\"])"
      ]
    },
    {
      "cell_type": "code",
      "execution_count": null,
      "metadata": {
        "id": "5jmdCygr25Tp"
      },
      "outputs": [],
      "source": [
        "# List 10 fine-tuning jobs\n",
        "openai.FineTuningJob.list(limit=10)"
      ]
    }
  ],
  "metadata": {
    "colab": {
      "collapsed_sections": [
        "BwRRIEkv5lI7",
        "SIxVl15XzWP8",
        "9kdzCcl2dDlH",
        "kR0aSXFOjBQh"
      ],
      "provenance": []
    },
    "kernelspec": {
      "display_name": "Python 3",
      "name": "python3"
    },
    "language_info": {
      "name": "python"
    }
  },
  "nbformat": 4,
  "nbformat_minor": 0
}
