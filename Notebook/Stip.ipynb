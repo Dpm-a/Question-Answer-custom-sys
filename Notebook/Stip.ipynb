{
  "nbformat": 4,
  "nbformat_minor": 0,
  "metadata": {
    "colab": {
      "provenance": [],
      "collapsed_sections": [
        "BwRRIEkv5lI7",
        "SIxVl15XzWP8",
        "9kdzCcl2dDlH",
        "kR0aSXFOjBQh"
      ]
    },
    "kernelspec": {
      "name": "python3",
      "display_name": "Python 3"
    },
    "language_info": {
      "name": "python"
    }
  },
  "cells": [
    {
      "cell_type": "code",
      "execution_count": 1,
      "metadata": {
        "colab": {
          "base_uri": "https://localhost:8080/"
        },
        "id": "GJ_NrHvi4iJB",
        "outputId": "73b03a7f-1f50-49d9-e374-b0b50ab3e58f"
      },
      "outputs": [
        {
          "output_type": "stream",
          "name": "stdout",
          "text": [
            "Set up complete\n"
          ]
        }
      ],
      "source": [
        "!pip install openai\n",
        "!pip install tiktoken\n",
        "!pip install spacy\n",
        "!pip install gensim\n",
        "!pip install nltk\n",
        "\n",
        "!python -m spacy download it_core_news_sm\n",
        "\n",
        "!wget -O stip.csv \"https://www.dropbox.com/scl/fi/8gwhmw70fh350bvb4p0ty/application_data.csv?rlkey=svaxjg2me5zbtf8m11gqep8ab&dl=0\"\n",
        "# to remove the output of the installation\n",
        "from IPython.display import clear_output\n",
        "clear_output(wait=True)\n",
        "print('Set up complete')"
      ]
    },
    {
      "cell_type": "code",
      "source": [
        "import re\n",
        "import openai\n",
        "import pandas as pd\n",
        "import spacy\n",
        "import tiktoken\n",
        "from scipy import spatial\n",
        "\n",
        "# Load the Italian language model\n",
        "nlp = spacy.load('it_core_news_sm')\n",
        "\n",
        "import gensim\n",
        "import nltk\n",
        "from gensim import corpora\n",
        "\n",
        "nltk.download('stopwords')\n",
        "it_stop = set(nltk.corpus.stopwords.words('italian'))\n",
        "nltk.download('wordnet')\n",
        "from nltk.stem.wordnet import WordNetLemmatizer\n",
        "nltk.download('punkt')"
      ],
      "metadata": {
        "id": "hMRnW94K9KPe"
      },
      "execution_count": 2,
      "outputs": []
    },
    {
      "cell_type": "code",
      "source": [
        "df = pd.read_csv(\"stip.csv\").iloc[:, 1:]\n",
        "df.head(3)"
      ],
      "metadata": {
        "colab": {
          "base_uri": "https://localhost:8080/",
          "height": 476
        },
        "id": "ab7dWtP95nC2",
        "outputId": "da6e03cb-63ca-437c-c1a4-b186ec91f270"
      },
      "execution_count": 3,
      "outputs": [
        {
          "output_type": "execute_result",
          "data": {
            "text/plain": [
              "                                  ID  \\\n",
              "0  4935171453181261_5071482946216777   \n",
              "1  4486011984763879_5010103639021375   \n",
              "2  5090655194299552_5118963101468761   \n",
              "\n",
              "                                               Testo                 Data  \\\n",
              "0  Per piacere: il prezzo della scatola di “divin...  2022-01-07 09:59:00   \n",
              "1  Quando un cliente invia una email è cortesia r...  2021-12-21 10:27:00   \n",
              "2                    Salve, avete caffè  in chicchi?  2022-01-19 21:30:00   \n",
              "\n",
              "                                           Categorie  Allegato     CNC  \\\n",
              "0      SALES & DISTRIBUTION -> PREZZO -> INFO (FB01)       NaN  caring   \n",
              "1                                             no_cat       NaN  caring   \n",
              "2  SALES & DISTRIBUTION -> VENDITA DIRETTA (E-COM...       NaN  caring   \n",
              "\n",
              "   Sorgente  Canale                                           Risposta  \\\n",
              "0       NaN     NaN  Ciao {customer_name}, il prezzo di ogni confez...   \n",
              "1       NaN     NaN  Ciao Edoardo, ci dispiace per quanto ci hai se...   \n",
              "2       NaN     NaN  Ciao Massimo, puoi trovare la nostra selezione...   \n",
              "\n",
              "                                           CleanText               level_1  \\\n",
              "0  Per piacere: il prezzo della scatola di “divin...  SALES & DISTRIBUTION   \n",
              "1  Quando un cliente invia una email è cortesia r...                no_cat   \n",
              "2                      Salve avete caffè in chicchi?  SALES & DISTRIBUTION   \n",
              "\n",
              "                                 level_2  \\\n",
              "0                                 PREZZO   \n",
              "1                                    NaN   \n",
              "2  VENDITA DIRETTA (E-COMMERCE/TELEFONO)   \n",
              "\n",
              "                                  level_3 level_4  \n",
              "0                             INFO (FB01)     NaN  \n",
              "1                                     NaN     NaN  \n",
              "2  INFO ASSORTIMENTO PRODOTTI FOOD (FD19)     NaN  "
            ],
            "text/html": [
              "\n",
              "  <div id=\"df-f60067bb-95a7-49e6-b24c-1f3d5cc3cabc\" class=\"colab-df-container\">\n",
              "    <div>\n",
              "<style scoped>\n",
              "    .dataframe tbody tr th:only-of-type {\n",
              "        vertical-align: middle;\n",
              "    }\n",
              "\n",
              "    .dataframe tbody tr th {\n",
              "        vertical-align: top;\n",
              "    }\n",
              "\n",
              "    .dataframe thead th {\n",
              "        text-align: right;\n",
              "    }\n",
              "</style>\n",
              "<table border=\"1\" class=\"dataframe\">\n",
              "  <thead>\n",
              "    <tr style=\"text-align: right;\">\n",
              "      <th></th>\n",
              "      <th>ID</th>\n",
              "      <th>Testo</th>\n",
              "      <th>Data</th>\n",
              "      <th>Categorie</th>\n",
              "      <th>Allegato</th>\n",
              "      <th>CNC</th>\n",
              "      <th>Sorgente</th>\n",
              "      <th>Canale</th>\n",
              "      <th>Risposta</th>\n",
              "      <th>CleanText</th>\n",
              "      <th>level_1</th>\n",
              "      <th>level_2</th>\n",
              "      <th>level_3</th>\n",
              "      <th>level_4</th>\n",
              "    </tr>\n",
              "  </thead>\n",
              "  <tbody>\n",
              "    <tr>\n",
              "      <th>0</th>\n",
              "      <td>4935171453181261_5071482946216777</td>\n",
              "      <td>Per piacere: il prezzo della scatola di “divin...</td>\n",
              "      <td>2022-01-07 09:59:00</td>\n",
              "      <td>SALES &amp; DISTRIBUTION -&gt; PREZZO -&gt; INFO (FB01)</td>\n",
              "      <td>NaN</td>\n",
              "      <td>caring</td>\n",
              "      <td>NaN</td>\n",
              "      <td>NaN</td>\n",
              "      <td>Ciao {customer_name}, il prezzo di ogni confez...</td>\n",
              "      <td>Per piacere: il prezzo della scatola di “divin...</td>\n",
              "      <td>SALES &amp; DISTRIBUTION</td>\n",
              "      <td>PREZZO</td>\n",
              "      <td>INFO (FB01)</td>\n",
              "      <td>NaN</td>\n",
              "    </tr>\n",
              "    <tr>\n",
              "      <th>1</th>\n",
              "      <td>4486011984763879_5010103639021375</td>\n",
              "      <td>Quando un cliente invia una email è cortesia r...</td>\n",
              "      <td>2021-12-21 10:27:00</td>\n",
              "      <td>no_cat</td>\n",
              "      <td>NaN</td>\n",
              "      <td>caring</td>\n",
              "      <td>NaN</td>\n",
              "      <td>NaN</td>\n",
              "      <td>Ciao Edoardo, ci dispiace per quanto ci hai se...</td>\n",
              "      <td>Quando un cliente invia una email è cortesia r...</td>\n",
              "      <td>no_cat</td>\n",
              "      <td>NaN</td>\n",
              "      <td>NaN</td>\n",
              "      <td>NaN</td>\n",
              "    </tr>\n",
              "    <tr>\n",
              "      <th>2</th>\n",
              "      <td>5090655194299552_5118963101468761</td>\n",
              "      <td>Salve, avete caffè  in chicchi?</td>\n",
              "      <td>2022-01-19 21:30:00</td>\n",
              "      <td>SALES &amp; DISTRIBUTION -&gt; VENDITA DIRETTA (E-COM...</td>\n",
              "      <td>NaN</td>\n",
              "      <td>caring</td>\n",
              "      <td>NaN</td>\n",
              "      <td>NaN</td>\n",
              "      <td>Ciao Massimo, puoi trovare la nostra selezione...</td>\n",
              "      <td>Salve avete caffè in chicchi?</td>\n",
              "      <td>SALES &amp; DISTRIBUTION</td>\n",
              "      <td>VENDITA DIRETTA (E-COMMERCE/TELEFONO)</td>\n",
              "      <td>INFO ASSORTIMENTO PRODOTTI FOOD (FD19)</td>\n",
              "      <td>NaN</td>\n",
              "    </tr>\n",
              "  </tbody>\n",
              "</table>\n",
              "</div>\n",
              "    <div class=\"colab-df-buttons\">\n",
              "\n",
              "  <div class=\"colab-df-container\">\n",
              "    <button class=\"colab-df-convert\" onclick=\"convertToInteractive('df-f60067bb-95a7-49e6-b24c-1f3d5cc3cabc')\"\n",
              "            title=\"Convert this dataframe to an interactive table.\"\n",
              "            style=\"display:none;\">\n",
              "\n",
              "  <svg xmlns=\"http://www.w3.org/2000/svg\" height=\"24px\" viewBox=\"0 -960 960 960\">\n",
              "    <path d=\"M120-120v-720h720v720H120Zm60-500h600v-160H180v160Zm220 220h160v-160H400v160Zm0 220h160v-160H400v160ZM180-400h160v-160H180v160Zm440 0h160v-160H620v160ZM180-180h160v-160H180v160Zm440 0h160v-160H620v160Z\"/>\n",
              "  </svg>\n",
              "    </button>\n",
              "\n",
              "  <style>\n",
              "    .colab-df-container {\n",
              "      display:flex;\n",
              "      gap: 12px;\n",
              "    }\n",
              "\n",
              "    .colab-df-convert {\n",
              "      background-color: #E8F0FE;\n",
              "      border: none;\n",
              "      border-radius: 50%;\n",
              "      cursor: pointer;\n",
              "      display: none;\n",
              "      fill: #1967D2;\n",
              "      height: 32px;\n",
              "      padding: 0 0 0 0;\n",
              "      width: 32px;\n",
              "    }\n",
              "\n",
              "    .colab-df-convert:hover {\n",
              "      background-color: #E2EBFA;\n",
              "      box-shadow: 0px 1px 2px rgba(60, 64, 67, 0.3), 0px 1px 3px 1px rgba(60, 64, 67, 0.15);\n",
              "      fill: #174EA6;\n",
              "    }\n",
              "\n",
              "    .colab-df-buttons div {\n",
              "      margin-bottom: 4px;\n",
              "    }\n",
              "\n",
              "    [theme=dark] .colab-df-convert {\n",
              "      background-color: #3B4455;\n",
              "      fill: #D2E3FC;\n",
              "    }\n",
              "\n",
              "    [theme=dark] .colab-df-convert:hover {\n",
              "      background-color: #434B5C;\n",
              "      box-shadow: 0px 1px 3px 1px rgba(0, 0, 0, 0.15);\n",
              "      filter: drop-shadow(0px 1px 2px rgba(0, 0, 0, 0.3));\n",
              "      fill: #FFFFFF;\n",
              "    }\n",
              "  </style>\n",
              "\n",
              "    <script>\n",
              "      const buttonEl =\n",
              "        document.querySelector('#df-f60067bb-95a7-49e6-b24c-1f3d5cc3cabc button.colab-df-convert');\n",
              "      buttonEl.style.display =\n",
              "        google.colab.kernel.accessAllowed ? 'block' : 'none';\n",
              "\n",
              "      async function convertToInteractive(key) {\n",
              "        const element = document.querySelector('#df-f60067bb-95a7-49e6-b24c-1f3d5cc3cabc');\n",
              "        const dataTable =\n",
              "          await google.colab.kernel.invokeFunction('convertToInteractive',\n",
              "                                                    [key], {});\n",
              "        if (!dataTable) return;\n",
              "\n",
              "        const docLinkHtml = 'Like what you see? Visit the ' +\n",
              "          '<a target=\"_blank\" href=https://colab.research.google.com/notebooks/data_table.ipynb>data table notebook</a>'\n",
              "          + ' to learn more about interactive tables.';\n",
              "        element.innerHTML = '';\n",
              "        dataTable['output_type'] = 'display_data';\n",
              "        await google.colab.output.renderOutput(dataTable, element);\n",
              "        const docLink = document.createElement('div');\n",
              "        docLink.innerHTML = docLinkHtml;\n",
              "        element.appendChild(docLink);\n",
              "      }\n",
              "    </script>\n",
              "  </div>\n",
              "\n",
              "\n",
              "<div id=\"df-a24765b2-2782-49f4-abdb-e4bc8e7b788a\">\n",
              "  <button class=\"colab-df-quickchart\" onclick=\"quickchart('df-a24765b2-2782-49f4-abdb-e4bc8e7b788a')\"\n",
              "            title=\"Suggest charts.\"\n",
              "            style=\"display:none;\">\n",
              "\n",
              "<svg xmlns=\"http://www.w3.org/2000/svg\" height=\"24px\"viewBox=\"0 0 24 24\"\n",
              "     width=\"24px\">\n",
              "    <g>\n",
              "        <path d=\"M19 3H5c-1.1 0-2 .9-2 2v14c0 1.1.9 2 2 2h14c1.1 0 2-.9 2-2V5c0-1.1-.9-2-2-2zM9 17H7v-7h2v7zm4 0h-2V7h2v10zm4 0h-2v-4h2v4z\"/>\n",
              "    </g>\n",
              "</svg>\n",
              "  </button>\n",
              "\n",
              "<style>\n",
              "  .colab-df-quickchart {\n",
              "      --bg-color: #E8F0FE;\n",
              "      --fill-color: #1967D2;\n",
              "      --hover-bg-color: #E2EBFA;\n",
              "      --hover-fill-color: #174EA6;\n",
              "      --disabled-fill-color: #AAA;\n",
              "      --disabled-bg-color: #DDD;\n",
              "  }\n",
              "\n",
              "  [theme=dark] .colab-df-quickchart {\n",
              "      --bg-color: #3B4455;\n",
              "      --fill-color: #D2E3FC;\n",
              "      --hover-bg-color: #434B5C;\n",
              "      --hover-fill-color: #FFFFFF;\n",
              "      --disabled-bg-color: #3B4455;\n",
              "      --disabled-fill-color: #666;\n",
              "  }\n",
              "\n",
              "  .colab-df-quickchart {\n",
              "    background-color: var(--bg-color);\n",
              "    border: none;\n",
              "    border-radius: 50%;\n",
              "    cursor: pointer;\n",
              "    display: none;\n",
              "    fill: var(--fill-color);\n",
              "    height: 32px;\n",
              "    padding: 0;\n",
              "    width: 32px;\n",
              "  }\n",
              "\n",
              "  .colab-df-quickchart:hover {\n",
              "    background-color: var(--hover-bg-color);\n",
              "    box-shadow: 0 1px 2px rgba(60, 64, 67, 0.3), 0 1px 3px 1px rgba(60, 64, 67, 0.15);\n",
              "    fill: var(--button-hover-fill-color);\n",
              "  }\n",
              "\n",
              "  .colab-df-quickchart-complete:disabled,\n",
              "  .colab-df-quickchart-complete:disabled:hover {\n",
              "    background-color: var(--disabled-bg-color);\n",
              "    fill: var(--disabled-fill-color);\n",
              "    box-shadow: none;\n",
              "  }\n",
              "\n",
              "  .colab-df-spinner {\n",
              "    border: 2px solid var(--fill-color);\n",
              "    border-color: transparent;\n",
              "    border-bottom-color: var(--fill-color);\n",
              "    animation:\n",
              "      spin 1s steps(1) infinite;\n",
              "  }\n",
              "\n",
              "  @keyframes spin {\n",
              "    0% {\n",
              "      border-color: transparent;\n",
              "      border-bottom-color: var(--fill-color);\n",
              "      border-left-color: var(--fill-color);\n",
              "    }\n",
              "    20% {\n",
              "      border-color: transparent;\n",
              "      border-left-color: var(--fill-color);\n",
              "      border-top-color: var(--fill-color);\n",
              "    }\n",
              "    30% {\n",
              "      border-color: transparent;\n",
              "      border-left-color: var(--fill-color);\n",
              "      border-top-color: var(--fill-color);\n",
              "      border-right-color: var(--fill-color);\n",
              "    }\n",
              "    40% {\n",
              "      border-color: transparent;\n",
              "      border-right-color: var(--fill-color);\n",
              "      border-top-color: var(--fill-color);\n",
              "    }\n",
              "    60% {\n",
              "      border-color: transparent;\n",
              "      border-right-color: var(--fill-color);\n",
              "    }\n",
              "    80% {\n",
              "      border-color: transparent;\n",
              "      border-right-color: var(--fill-color);\n",
              "      border-bottom-color: var(--fill-color);\n",
              "    }\n",
              "    90% {\n",
              "      border-color: transparent;\n",
              "      border-bottom-color: var(--fill-color);\n",
              "    }\n",
              "  }\n",
              "</style>\n",
              "\n",
              "  <script>\n",
              "    async function quickchart(key) {\n",
              "      const quickchartButtonEl =\n",
              "        document.querySelector('#' + key + ' button');\n",
              "      quickchartButtonEl.disabled = true;  // To prevent multiple clicks.\n",
              "      quickchartButtonEl.classList.add('colab-df-spinner');\n",
              "      try {\n",
              "        const charts = await google.colab.kernel.invokeFunction(\n",
              "            'suggestCharts', [key], {});\n",
              "      } catch (error) {\n",
              "        console.error('Error during call to suggestCharts:', error);\n",
              "      }\n",
              "      quickchartButtonEl.classList.remove('colab-df-spinner');\n",
              "      quickchartButtonEl.classList.add('colab-df-quickchart-complete');\n",
              "    }\n",
              "    (() => {\n",
              "      let quickchartButtonEl =\n",
              "        document.querySelector('#df-a24765b2-2782-49f4-abdb-e4bc8e7b788a button');\n",
              "      quickchartButtonEl.style.display =\n",
              "        google.colab.kernel.accessAllowed ? 'block' : 'none';\n",
              "    })();\n",
              "  </script>\n",
              "</div>\n",
              "    </div>\n",
              "  </div>\n"
            ]
          },
          "metadata": {},
          "execution_count": 3
        }
      ]
    },
    {
      "cell_type": "markdown",
      "source": [
        "# **Data Exploration**"
      ],
      "metadata": {
        "id": "BwRRIEkv5lI7"
      }
    },
    {
      "cell_type": "code",
      "source": [
        "df.iloc[172].Testo, df.iloc[172].Risposta"
      ],
      "metadata": {
        "colab": {
          "base_uri": "https://localhost:8080/",
          "height": 0
        },
        "id": "fIQu9iC7Q23m",
        "outputId": "2bd2e87f-0c3e-4b98-be4f-17a0c98bef41"
      },
      "execution_count": 164,
      "outputs": [
        {
          "output_type": "execute_result",
          "data": {
            "text/plain": [
              "('Vorrei sapere per favore se esistono ancora le capsule per la macchinetta  espresso e cappuccino grazie',\n",
              " 'Ciao {customer_name}, riesci a darci qualche informazione aggiuntiva sui prodotti a cui sei interessata? Scrivici i dettagli e ti aiuteremo al più presto. Buona giornata!')"
            ]
          },
          "metadata": {},
          "execution_count": 164
        }
      ]
    },
    {
      "cell_type": "code",
      "source": [
        "df.iloc[420].Testo"
      ],
      "metadata": {
        "colab": {
          "base_uri": "https://localhost:8080/",
          "height": 35
        },
        "id": "r665IXt0QgRm",
        "outputId": "d7b3feee-f8a9-480a-a879-cef731886f18"
      },
      "execution_count": 165,
      "outputs": [
        {
          "output_type": "execute_result",
          "data": {
            "text/plain": [
              "\"Antonio Semprevivo  compatibili con nespresso????? L'offerta è ancora valida ?\""
            ],
            "application/vnd.google.colaboratory.intrinsic+json": {
              "type": "string"
            }
          },
          "metadata": {},
          "execution_count": 165
        }
      ]
    },
    {
      "cell_type": "code",
      "source": [
        "df.iloc[937].Testo"
      ],
      "metadata": {
        "colab": {
          "base_uri": "https://localhost:8080/",
          "height": 53
        },
        "id": "FG8mvltFQgWL",
        "outputId": "266b7c6d-f886-40b3-bd94-e353f2e4da11"
      },
      "execution_count": 166,
      "outputs": [
        {
          "output_type": "execute_result",
          "data": {
            "text/plain": [
              "'Carmen Ronchi bravo e quello che successo a me sotto Natale o preso anche x fare dei regali e x fortuna che mi serviva anche x me uno schifo o dovuto prendere  altro quindi un altra spesa x la mia pensione già misera'"
            ],
            "application/vnd.google.colaboratory.intrinsic+json": {
              "type": "string"
            }
          },
          "metadata": {},
          "execution_count": 166
        }
      ]
    },
    {
      "cell_type": "code",
      "source": [
        "print(df.iloc[0].Risposta)\n",
        "print(df.iloc[0].CleanText)"
      ],
      "metadata": {
        "colab": {
          "base_uri": "https://localhost:8080/"
        },
        "id": "QnJ3Dkrx5vNp",
        "outputId": "089b4d43-4544-4952-9c81-86229ac391b7"
      },
      "execution_count": null,
      "outputs": [
        {
          "output_type": "stream",
          "name": "stdout",
          "text": [
            "Ciao {customer_name}, il prezzo di ogni confezione di Lavazza A Modo Mio Divino è di 5,29 €. Per scoprire di più clicca qui: https://www.lavazza.it/it/caffe/capsule/a-modo-mio/divino.html Buona giornata!\n",
            "Per piacere: il prezzo della scatola di “divino” Grazie\n"
          ]
        }
      ]
    },
    {
      "cell_type": "code",
      "source": [
        "idx = 2\n",
        "\n",
        "print(df.iloc[idx].Testo)\n",
        "print(df.iloc[idx].CleanText)\n",
        "print(df.iloc[idx].Risposta)\n",
        "print()\n",
        "print(df.iloc[idx].level_1)\n",
        "print(df.iloc[idx].level_2)\n",
        "print(df.iloc[idx].level_3)\n",
        "print(df.iloc[idx].level_4)"
      ],
      "metadata": {
        "colab": {
          "base_uri": "https://localhost:8080/",
          "height": 0
        },
        "id": "_yw67Rku52Nk",
        "outputId": "784086bb-4520-4d22-e8f9-c5e81b6873b3"
      },
      "execution_count": 167,
      "outputs": [
        {
          "output_type": "stream",
          "name": "stdout",
          "text": [
            "Salve, avete caffè  in chicchi?\n",
            "Salve avete caffè in chicchi?\n",
            "Ciao Massimo, puoi trovare la nostra selezione Lavazza in grani al seguente link: https://www.lavazza.it/it/caffe/grani.html Buona giornata!\n",
            "\n",
            "SALES & DISTRIBUTION\n",
            "VENDITA DIRETTA (E-COMMERCE/TELEFONO)\n",
            "INFO ASSORTIMENTO PRODOTTI FOOD (FD19)\n",
            "nan\n"
          ]
        }
      ]
    },
    {
      "cell_type": "code",
      "source": [
        "df.info()"
      ],
      "metadata": {
        "colab": {
          "base_uri": "https://localhost:8080/",
          "height": 0
        },
        "id": "bIZMRQUu6Syn",
        "outputId": "4af2ae4f-eb8f-4aea-8d2c-bbc96c3bf8fd"
      },
      "execution_count": 168,
      "outputs": [
        {
          "output_type": "stream",
          "name": "stdout",
          "text": [
            "<class 'pandas.core.frame.DataFrame'>\n",
            "RangeIndex: 976 entries, 0 to 975\n",
            "Data columns (total 14 columns):\n",
            " #   Column     Non-Null Count  Dtype  \n",
            "---  ------     --------------  -----  \n",
            " 0   ID         976 non-null    object \n",
            " 1   Testo      976 non-null    object \n",
            " 2   Data       976 non-null    object \n",
            " 3   Categorie  976 non-null    object \n",
            " 4   Allegato   0 non-null      float64\n",
            " 5   CNC        976 non-null    object \n",
            " 6   Sorgente   0 non-null      float64\n",
            " 7   Canale     0 non-null      float64\n",
            " 8   Risposta   976 non-null    object \n",
            " 9   CleanText  976 non-null    object \n",
            " 10  level_1    976 non-null    object \n",
            " 11  level_2    845 non-null    object \n",
            " 12  level_3    764 non-null    object \n",
            " 13  level_4    52 non-null     object \n",
            "dtypes: float64(3), object(11)\n",
            "memory usage: 106.9+ KB\n"
          ]
        }
      ]
    },
    {
      "cell_type": "code",
      "source": [
        "df.Categorie.value_counts()"
      ],
      "metadata": {
        "colab": {
          "base_uri": "https://localhost:8080/",
          "height": 0
        },
        "id": "t65ZG57_78as",
        "outputId": "5f887da8-62ad-4549-cf2d-195d445a7c35"
      },
      "execution_count": 169,
      "outputs": [
        {
          "output_type": "execute_result",
          "data": {
            "text/plain": [
              "no_cat                                                                                                      131\n",
              "SALES & DISTRIBUTION -> PREZZO -> INFO (FB01)                                                               115\n",
              "SALES & DISTRIBUTION -> VENDITA DIRETTA (E-COMMERCE/TELEFONO) -> INFO (FD01)                                 57\n",
              "SALES & DISTRIBUTION -> REPERIBILITA' -> PRESSO PUNTI VENDITA (FA07)                                         57\n",
              "SALES & DISTRIBUTION -> ABBONAMENTI CRM COMMERCIALE -> INFO ABBONAMENTO (FE02)                               55\n",
              "                                                                                                           ... \n",
              "PRODOTTO -> ACCESSORI                                                                                         2\n",
              "SALES & DISTRIBUTION -> VENDITA DIRETTA (E-COMMERCE/TELEFONO) -> INFO ASSORTIM. ACCESSORI RICAMBI (FD20)      2\n",
              "COMUNICAZIONE & MARKETING -> CAMPIONATURE -> RICHIESTA CAMPIONI OMAGGIO/GADGET (CC01)                         2\n",
              "MACCHINA -> INFO, MANUTENZIONE, PULIZIA -> DECALCIFICAZIONE (EB01)                                            2\n",
              "MACCHINA -> INFO, MANUTENZIONE, PULIZIA                                                                       2\n",
              "Name: Categorie, Length: 62, dtype: int64"
            ]
          },
          "metadata": {},
          "execution_count": 169
        }
      ]
    },
    {
      "cell_type": "markdown",
      "source": [
        "## Check for Relationships among users and / or temporal space"
      ],
      "metadata": {
        "id": "yhxPM5uXT1C-"
      }
    },
    {
      "cell_type": "code",
      "source": [
        "# Check for multiple records from the same user\n",
        "df.ID.unique"
      ],
      "metadata": {
        "colab": {
          "base_uri": "https://localhost:8080/",
          "height": 0
        },
        "id": "ft3p0eZJE1p7",
        "outputId": "eb8b7fc6-59ed-4f32-f002-6f216bfb032a"
      },
      "execution_count": 170,
      "outputs": [
        {
          "output_type": "execute_result",
          "data": {
            "text/plain": [
              "<bound method Series.unique of 0      4935171453181261_5071482946216777\n",
              "1      4486011984763879_5010103639021375\n",
              "2      5090655194299552_5118963101468761\n",
              "3      5213603235338080_5295398937158509\n",
              "4      4447500738615004_4486390014726076\n",
              "                     ...                \n",
              "971    4725792457452496_4747731728591902\n",
              "972    4045062842238135_4262455037165580\n",
              "973     5678206848877714_593320969175770\n",
              "974    4486011984763879_5036772706354468\n",
              "975    5182012041830533_5208125325885871\n",
              "Name: ID, Length: 976, dtype: object>"
            ]
          },
          "metadata": {},
          "execution_count": 170
        }
      ]
    },
    {
      "cell_type": "code",
      "source": [
        "# since there are no dusplicated with raw IDS,\n",
        "# split them to check for duplicates\n",
        "\n",
        "from itertools import chain\n",
        "\n",
        "all_ids = [el.split(\"_\")for el in df.ID.value_counts().index.to_list()]\n",
        "flattened_list = list(chain(*all_ids))\n",
        "\n",
        "len(flattened_list), len(set(flattened_list))"
      ],
      "metadata": {
        "colab": {
          "base_uri": "https://localhost:8080/",
          "height": 0
        },
        "id": "Z1-NtF9aH1Yo",
        "outputId": "b8f61c61-9319-4607-a50b-055d2cb19155"
      },
      "execution_count": 95,
      "outputs": [
        {
          "output_type": "execute_result",
          "data": {
            "text/plain": [
              "(1948, 1137)"
            ]
          },
          "metadata": {},
          "execution_count": 95
        }
      ]
    },
    {
      "cell_type": "code",
      "source": [
        "# there are few duplicates,\n",
        "# extract them\n",
        "\n",
        "from collections import Counter\n",
        "\n",
        "def find_duplicates(lst):\n",
        "    counter = Counter(lst)\n",
        "    duplicates = [item for item, count in counter.items() if count > 1]\n",
        "    return duplicates\n",
        "\n",
        "duplicate_elements = find_duplicates(flattened_list)\n",
        "print(duplicate_elements)"
      ],
      "metadata": {
        "colab": {
          "base_uri": "https://localhost:8080/",
          "height": 0
        },
        "id": "WX5zASYHJcuY",
        "outputId": "adcdc799-f2cc-4617-fe5d-3903b8520290"
      },
      "execution_count": 171,
      "outputs": [
        {
          "output_type": "stream",
          "name": "stdout",
          "text": [
            "['4935171453181261', '4375651735799905', '5006874296010976', '5213603195338084', '5172449782786759', '4486011984763879', '5172508956114175', '4904798249551915', '5172449969453407', '5172508682780869', '5213603235338080', '4533449463353464', '5216730985025305', '5006794076018998', '4375595062472239', '4895923760439364', '4895923930439347', '4283773734975548', '5078983188784788', '734995519865563', '5145237012174703', '4895923807106026', '4447475885284156', '5083510461680692', '4993360154029057', '5179569132074824', '5678206848877714', '5090655194299552', '4725741460790929', '4447505861947825', '4375624192469326', '5083510418347363', '5182012041830533', '4842712945760446', '5449523978412670', '5192243150807422', '4245054502192963', '4459292567435821', '5172377389460665', '4935171283181278', '4895923360439404', '4974819629216443', '4975770072454732', '5356196371078765', '5449948241703577', '5471927892838945', '4553357328029344', '4553243514707392', '4301728536525559', '4842712912427116', '4447509285280816', '5662342020464197', '4813823851982689', '4375614162470329', '5213603852004685', '4470412399657171', '5613874991977567', '5192179414147129', '5662333083798424', '5681410638557335', '5678205982211134', '5356067437758325', '5278435962188140', '4447421538622924', '5356196227745446', '4112388568827165', '4842712845760456', '5006874432677629', '5449523351746066', '4725740587457683', '4375651659133246', '4447478655283879', '5558654120832988', '4882138991817841', '4630630683637638', '6981787945196395', '4747628241935584', '4473257159372695', '4842712812427126', '7484249544950695', '4045062842238135', '5196277653737305', '5281899335175136', '4286417711443764', '5982493731824668', '2190187941012973', '5558653617499705', '4447438341954577', '5449523408412727', '4882138971817843', '2920468781318215', '4479943215370756', '5493493277349073', '4447500738615004', '5558666794165054', '5449505451747856', '4895563947142012', '4435338926497852', '5192179747480429', '5182012158497188', '4435339223164489', '4798846746813733', '5438017902896611']\n"
          ]
        }
      ]
    },
    {
      "cell_type": "code",
      "source": [
        "#quick look to check if duplicates can create a more discorsive assistant-user chat\n",
        "df[df['ID'].str.contains(duplicate_elements[1])].head()"
      ],
      "metadata": {
        "colab": {
          "base_uri": "https://localhost:8080/",
          "height": 660
        },
        "id": "zjBolXKcJiBn",
        "outputId": "76f0922b-51e0-4463-95af-af195a72c618"
      },
      "execution_count": 172,
      "outputs": [
        {
          "output_type": "execute_result",
          "data": {
            "text/plain": [
              "                                    ID  \\\n",
              "119  4375651735799905_4776450609053347   \n",
              "123  4375651735799905_4596119277086482   \n",
              "275  4375651735799905_4442329565798788   \n",
              "315  4375651735799905_4411038145594597   \n",
              "350  4375651735799905_4722957537735988   \n",
              "\n",
              "                                                 Testo                 Data  \\\n",
              "119         Quale è la macchina che fa anche zabaione?  2021-10-13 13:24:00   \n",
              "123                        Quanto costano le capsule ?  2021-08-17 11:54:00   \n",
              "275                                    Info per favore  2021-06-26 18:35:00   \n",
              "315  alexa se io voglio metter musica oltre a dirgl...  2021-06-15 20:52:00   \n",
              "350  Si può sapere quante capsule al mese si devono...  2021-09-26 16:20:00   \n",
              "\n",
              "                                             Categorie  Allegato     CNC  \\\n",
              "119  SALES & DISTRIBUTION -> ABBONAMENTI CRM COMMER...       NaN  caring   \n",
              "123  SALES & DISTRIBUTION -> ABBONAMENTI CRM COMMER...       NaN  caring   \n",
              "275  SALES & DISTRIBUTION -> ABBONAMENTI CRM COMMER...       NaN  caring   \n",
              "315  MACCHINA -> SUGGERIMENTI ED ELOGI ->  NUOVA FU...       NaN  caring   \n",
              "350  SALES & DISTRIBUTION -> ABBONAMENTI CRM COMMER...       NaN  caring   \n",
              "\n",
              "     Sorgente  Canale                                           Risposta  \\\n",
              "119       NaN     NaN  Ciao Arianna, la macchina a cui sei interessat...   \n",
              "123       NaN     NaN  Ciao Loris, non c’è un prezzo fisso dell’abbon...   \n",
              "275       NaN     NaN  Ciao Antonio, la nuova macchina Lavazza A Modo...   \n",
              "315       NaN     NaN  Ciao Alessio, grazie all’integrazione di Alexa...   \n",
              "350       NaN     NaN  Ciao Mauro, con l’abbonamento macchina e capsu...   \n",
              "\n",
              "                                             CleanText               level_1  \\\n",
              "119         Quale è la macchina che fa anche zabaione?  SALES & DISTRIBUTION   \n",
              "123                        Quanto costano le capsule ?  SALES & DISTRIBUTION   \n",
              "275                                    Info per favore  SALES & DISTRIBUTION   \n",
              "315  alexa se io voglio metter musica oltre a dirgl...              MACCHINA   \n",
              "350  Si può sapere quante capsule al mese si devono...  SALES & DISTRIBUTION   \n",
              "\n",
              "                         level_2                     level_3 level_4  \n",
              "119  ABBONAMENTI CRM COMMERCIALE     INFO ABBONAMENTO (FE02)     NaN  \n",
              "123  ABBONAMENTI CRM COMMERCIALE     INFO ABBONAMENTO (FE02)     NaN  \n",
              "275  ABBONAMENTI CRM COMMERCIALE     INFO ABBONAMENTO (FE02)     NaN  \n",
              "315        SUGGERIMENTI ED ELOGI  NUOVA FUNZIONALITA' (ED02)     NaN  \n",
              "350  ABBONAMENTI CRM COMMERCIALE     INFO ABBONAMENTO (FE02)     NaN  "
            ],
            "text/html": [
              "\n",
              "  <div id=\"df-76fa0069-0a10-4291-bab5-c461a40eb7c6\" class=\"colab-df-container\">\n",
              "    <div>\n",
              "<style scoped>\n",
              "    .dataframe tbody tr th:only-of-type {\n",
              "        vertical-align: middle;\n",
              "    }\n",
              "\n",
              "    .dataframe tbody tr th {\n",
              "        vertical-align: top;\n",
              "    }\n",
              "\n",
              "    .dataframe thead th {\n",
              "        text-align: right;\n",
              "    }\n",
              "</style>\n",
              "<table border=\"1\" class=\"dataframe\">\n",
              "  <thead>\n",
              "    <tr style=\"text-align: right;\">\n",
              "      <th></th>\n",
              "      <th>ID</th>\n",
              "      <th>Testo</th>\n",
              "      <th>Data</th>\n",
              "      <th>Categorie</th>\n",
              "      <th>Allegato</th>\n",
              "      <th>CNC</th>\n",
              "      <th>Sorgente</th>\n",
              "      <th>Canale</th>\n",
              "      <th>Risposta</th>\n",
              "      <th>CleanText</th>\n",
              "      <th>level_1</th>\n",
              "      <th>level_2</th>\n",
              "      <th>level_3</th>\n",
              "      <th>level_4</th>\n",
              "    </tr>\n",
              "  </thead>\n",
              "  <tbody>\n",
              "    <tr>\n",
              "      <th>119</th>\n",
              "      <td>4375651735799905_4776450609053347</td>\n",
              "      <td>Quale è la macchina che fa anche zabaione?</td>\n",
              "      <td>2021-10-13 13:24:00</td>\n",
              "      <td>SALES &amp; DISTRIBUTION -&gt; ABBONAMENTI CRM COMMER...</td>\n",
              "      <td>NaN</td>\n",
              "      <td>caring</td>\n",
              "      <td>NaN</td>\n",
              "      <td>NaN</td>\n",
              "      <td>Ciao Arianna, la macchina a cui sei interessat...</td>\n",
              "      <td>Quale è la macchina che fa anche zabaione?</td>\n",
              "      <td>SALES &amp; DISTRIBUTION</td>\n",
              "      <td>ABBONAMENTI CRM COMMERCIALE</td>\n",
              "      <td>INFO ABBONAMENTO (FE02)</td>\n",
              "      <td>NaN</td>\n",
              "    </tr>\n",
              "    <tr>\n",
              "      <th>123</th>\n",
              "      <td>4375651735799905_4596119277086482</td>\n",
              "      <td>Quanto costano le capsule ?</td>\n",
              "      <td>2021-08-17 11:54:00</td>\n",
              "      <td>SALES &amp; DISTRIBUTION -&gt; ABBONAMENTI CRM COMMER...</td>\n",
              "      <td>NaN</td>\n",
              "      <td>caring</td>\n",
              "      <td>NaN</td>\n",
              "      <td>NaN</td>\n",
              "      <td>Ciao Loris, non c’è un prezzo fisso dell’abbon...</td>\n",
              "      <td>Quanto costano le capsule ?</td>\n",
              "      <td>SALES &amp; DISTRIBUTION</td>\n",
              "      <td>ABBONAMENTI CRM COMMERCIALE</td>\n",
              "      <td>INFO ABBONAMENTO (FE02)</td>\n",
              "      <td>NaN</td>\n",
              "    </tr>\n",
              "    <tr>\n",
              "      <th>275</th>\n",
              "      <td>4375651735799905_4442329565798788</td>\n",
              "      <td>Info per favore</td>\n",
              "      <td>2021-06-26 18:35:00</td>\n",
              "      <td>SALES &amp; DISTRIBUTION -&gt; ABBONAMENTI CRM COMMER...</td>\n",
              "      <td>NaN</td>\n",
              "      <td>caring</td>\n",
              "      <td>NaN</td>\n",
              "      <td>NaN</td>\n",
              "      <td>Ciao Antonio, la nuova macchina Lavazza A Modo...</td>\n",
              "      <td>Info per favore</td>\n",
              "      <td>SALES &amp; DISTRIBUTION</td>\n",
              "      <td>ABBONAMENTI CRM COMMERCIALE</td>\n",
              "      <td>INFO ABBONAMENTO (FE02)</td>\n",
              "      <td>NaN</td>\n",
              "    </tr>\n",
              "    <tr>\n",
              "      <th>315</th>\n",
              "      <td>4375651735799905_4411038145594597</td>\n",
              "      <td>alexa se io voglio metter musica oltre a dirgl...</td>\n",
              "      <td>2021-06-15 20:52:00</td>\n",
              "      <td>MACCHINA -&gt; SUGGERIMENTI ED ELOGI -&gt;  NUOVA FU...</td>\n",
              "      <td>NaN</td>\n",
              "      <td>caring</td>\n",
              "      <td>NaN</td>\n",
              "      <td>NaN</td>\n",
              "      <td>Ciao Alessio, grazie all’integrazione di Alexa...</td>\n",
              "      <td>alexa se io voglio metter musica oltre a dirgl...</td>\n",
              "      <td>MACCHINA</td>\n",
              "      <td>SUGGERIMENTI ED ELOGI</td>\n",
              "      <td>NUOVA FUNZIONALITA' (ED02)</td>\n",
              "      <td>NaN</td>\n",
              "    </tr>\n",
              "    <tr>\n",
              "      <th>350</th>\n",
              "      <td>4375651735799905_4722957537735988</td>\n",
              "      <td>Si può sapere quante capsule al mese si devono...</td>\n",
              "      <td>2021-09-26 16:20:00</td>\n",
              "      <td>SALES &amp; DISTRIBUTION -&gt; ABBONAMENTI CRM COMMER...</td>\n",
              "      <td>NaN</td>\n",
              "      <td>caring</td>\n",
              "      <td>NaN</td>\n",
              "      <td>NaN</td>\n",
              "      <td>Ciao Mauro, con l’abbonamento macchina e capsu...</td>\n",
              "      <td>Si può sapere quante capsule al mese si devono...</td>\n",
              "      <td>SALES &amp; DISTRIBUTION</td>\n",
              "      <td>ABBONAMENTI CRM COMMERCIALE</td>\n",
              "      <td>INFO ABBONAMENTO (FE02)</td>\n",
              "      <td>NaN</td>\n",
              "    </tr>\n",
              "  </tbody>\n",
              "</table>\n",
              "</div>\n",
              "    <div class=\"colab-df-buttons\">\n",
              "\n",
              "  <div class=\"colab-df-container\">\n",
              "    <button class=\"colab-df-convert\" onclick=\"convertToInteractive('df-76fa0069-0a10-4291-bab5-c461a40eb7c6')\"\n",
              "            title=\"Convert this dataframe to an interactive table.\"\n",
              "            style=\"display:none;\">\n",
              "\n",
              "  <svg xmlns=\"http://www.w3.org/2000/svg\" height=\"24px\" viewBox=\"0 -960 960 960\">\n",
              "    <path d=\"M120-120v-720h720v720H120Zm60-500h600v-160H180v160Zm220 220h160v-160H400v160Zm0 220h160v-160H400v160ZM180-400h160v-160H180v160Zm440 0h160v-160H620v160ZM180-180h160v-160H180v160Zm440 0h160v-160H620v160Z\"/>\n",
              "  </svg>\n",
              "    </button>\n",
              "\n",
              "  <style>\n",
              "    .colab-df-container {\n",
              "      display:flex;\n",
              "      gap: 12px;\n",
              "    }\n",
              "\n",
              "    .colab-df-convert {\n",
              "      background-color: #E8F0FE;\n",
              "      border: none;\n",
              "      border-radius: 50%;\n",
              "      cursor: pointer;\n",
              "      display: none;\n",
              "      fill: #1967D2;\n",
              "      height: 32px;\n",
              "      padding: 0 0 0 0;\n",
              "      width: 32px;\n",
              "    }\n",
              "\n",
              "    .colab-df-convert:hover {\n",
              "      background-color: #E2EBFA;\n",
              "      box-shadow: 0px 1px 2px rgba(60, 64, 67, 0.3), 0px 1px 3px 1px rgba(60, 64, 67, 0.15);\n",
              "      fill: #174EA6;\n",
              "    }\n",
              "\n",
              "    .colab-df-buttons div {\n",
              "      margin-bottom: 4px;\n",
              "    }\n",
              "\n",
              "    [theme=dark] .colab-df-convert {\n",
              "      background-color: #3B4455;\n",
              "      fill: #D2E3FC;\n",
              "    }\n",
              "\n",
              "    [theme=dark] .colab-df-convert:hover {\n",
              "      background-color: #434B5C;\n",
              "      box-shadow: 0px 1px 3px 1px rgba(0, 0, 0, 0.15);\n",
              "      filter: drop-shadow(0px 1px 2px rgba(0, 0, 0, 0.3));\n",
              "      fill: #FFFFFF;\n",
              "    }\n",
              "  </style>\n",
              "\n",
              "    <script>\n",
              "      const buttonEl =\n",
              "        document.querySelector('#df-76fa0069-0a10-4291-bab5-c461a40eb7c6 button.colab-df-convert');\n",
              "      buttonEl.style.display =\n",
              "        google.colab.kernel.accessAllowed ? 'block' : 'none';\n",
              "\n",
              "      async function convertToInteractive(key) {\n",
              "        const element = document.querySelector('#df-76fa0069-0a10-4291-bab5-c461a40eb7c6');\n",
              "        const dataTable =\n",
              "          await google.colab.kernel.invokeFunction('convertToInteractive',\n",
              "                                                    [key], {});\n",
              "        if (!dataTable) return;\n",
              "\n",
              "        const docLinkHtml = 'Like what you see? Visit the ' +\n",
              "          '<a target=\"_blank\" href=https://colab.research.google.com/notebooks/data_table.ipynb>data table notebook</a>'\n",
              "          + ' to learn more about interactive tables.';\n",
              "        element.innerHTML = '';\n",
              "        dataTable['output_type'] = 'display_data';\n",
              "        await google.colab.output.renderOutput(dataTable, element);\n",
              "        const docLink = document.createElement('div');\n",
              "        docLink.innerHTML = docLinkHtml;\n",
              "        element.appendChild(docLink);\n",
              "      }\n",
              "    </script>\n",
              "  </div>\n",
              "\n",
              "\n",
              "<div id=\"df-80d3d3e6-674e-4e83-8cb7-72c3e29bd999\">\n",
              "  <button class=\"colab-df-quickchart\" onclick=\"quickchart('df-80d3d3e6-674e-4e83-8cb7-72c3e29bd999')\"\n",
              "            title=\"Suggest charts.\"\n",
              "            style=\"display:none;\">\n",
              "\n",
              "<svg xmlns=\"http://www.w3.org/2000/svg\" height=\"24px\"viewBox=\"0 0 24 24\"\n",
              "     width=\"24px\">\n",
              "    <g>\n",
              "        <path d=\"M19 3H5c-1.1 0-2 .9-2 2v14c0 1.1.9 2 2 2h14c1.1 0 2-.9 2-2V5c0-1.1-.9-2-2-2zM9 17H7v-7h2v7zm4 0h-2V7h2v10zm4 0h-2v-4h2v4z\"/>\n",
              "    </g>\n",
              "</svg>\n",
              "  </button>\n",
              "\n",
              "<style>\n",
              "  .colab-df-quickchart {\n",
              "      --bg-color: #E8F0FE;\n",
              "      --fill-color: #1967D2;\n",
              "      --hover-bg-color: #E2EBFA;\n",
              "      --hover-fill-color: #174EA6;\n",
              "      --disabled-fill-color: #AAA;\n",
              "      --disabled-bg-color: #DDD;\n",
              "  }\n",
              "\n",
              "  [theme=dark] .colab-df-quickchart {\n",
              "      --bg-color: #3B4455;\n",
              "      --fill-color: #D2E3FC;\n",
              "      --hover-bg-color: #434B5C;\n",
              "      --hover-fill-color: #FFFFFF;\n",
              "      --disabled-bg-color: #3B4455;\n",
              "      --disabled-fill-color: #666;\n",
              "  }\n",
              "\n",
              "  .colab-df-quickchart {\n",
              "    background-color: var(--bg-color);\n",
              "    border: none;\n",
              "    border-radius: 50%;\n",
              "    cursor: pointer;\n",
              "    display: none;\n",
              "    fill: var(--fill-color);\n",
              "    height: 32px;\n",
              "    padding: 0;\n",
              "    width: 32px;\n",
              "  }\n",
              "\n",
              "  .colab-df-quickchart:hover {\n",
              "    background-color: var(--hover-bg-color);\n",
              "    box-shadow: 0 1px 2px rgba(60, 64, 67, 0.3), 0 1px 3px 1px rgba(60, 64, 67, 0.15);\n",
              "    fill: var(--button-hover-fill-color);\n",
              "  }\n",
              "\n",
              "  .colab-df-quickchart-complete:disabled,\n",
              "  .colab-df-quickchart-complete:disabled:hover {\n",
              "    background-color: var(--disabled-bg-color);\n",
              "    fill: var(--disabled-fill-color);\n",
              "    box-shadow: none;\n",
              "  }\n",
              "\n",
              "  .colab-df-spinner {\n",
              "    border: 2px solid var(--fill-color);\n",
              "    border-color: transparent;\n",
              "    border-bottom-color: var(--fill-color);\n",
              "    animation:\n",
              "      spin 1s steps(1) infinite;\n",
              "  }\n",
              "\n",
              "  @keyframes spin {\n",
              "    0% {\n",
              "      border-color: transparent;\n",
              "      border-bottom-color: var(--fill-color);\n",
              "      border-left-color: var(--fill-color);\n",
              "    }\n",
              "    20% {\n",
              "      border-color: transparent;\n",
              "      border-left-color: var(--fill-color);\n",
              "      border-top-color: var(--fill-color);\n",
              "    }\n",
              "    30% {\n",
              "      border-color: transparent;\n",
              "      border-left-color: var(--fill-color);\n",
              "      border-top-color: var(--fill-color);\n",
              "      border-right-color: var(--fill-color);\n",
              "    }\n",
              "    40% {\n",
              "      border-color: transparent;\n",
              "      border-right-color: var(--fill-color);\n",
              "      border-top-color: var(--fill-color);\n",
              "    }\n",
              "    60% {\n",
              "      border-color: transparent;\n",
              "      border-right-color: var(--fill-color);\n",
              "    }\n",
              "    80% {\n",
              "      border-color: transparent;\n",
              "      border-right-color: var(--fill-color);\n",
              "      border-bottom-color: var(--fill-color);\n",
              "    }\n",
              "    90% {\n",
              "      border-color: transparent;\n",
              "      border-bottom-color: var(--fill-color);\n",
              "    }\n",
              "  }\n",
              "</style>\n",
              "\n",
              "  <script>\n",
              "    async function quickchart(key) {\n",
              "      const quickchartButtonEl =\n",
              "        document.querySelector('#' + key + ' button');\n",
              "      quickchartButtonEl.disabled = true;  // To prevent multiple clicks.\n",
              "      quickchartButtonEl.classList.add('colab-df-spinner');\n",
              "      try {\n",
              "        const charts = await google.colab.kernel.invokeFunction(\n",
              "            'suggestCharts', [key], {});\n",
              "      } catch (error) {\n",
              "        console.error('Error during call to suggestCharts:', error);\n",
              "      }\n",
              "      quickchartButtonEl.classList.remove('colab-df-spinner');\n",
              "      quickchartButtonEl.classList.add('colab-df-quickchart-complete');\n",
              "    }\n",
              "    (() => {\n",
              "      let quickchartButtonEl =\n",
              "        document.querySelector('#df-80d3d3e6-674e-4e83-8cb7-72c3e29bd999 button');\n",
              "      quickchartButtonEl.style.display =\n",
              "        google.colab.kernel.accessAllowed ? 'block' : 'none';\n",
              "    })();\n",
              "  </script>\n",
              "</div>\n",
              "    </div>\n",
              "  </div>\n"
            ]
          },
          "metadata": {},
          "execution_count": 172
        }
      ]
    },
    {
      "cell_type": "code",
      "source": [
        "# check if there is any consecutive message in the dataset,\n",
        "# to futherly investigate the aforementioned reasoning\n",
        "\n",
        "def find_consecutive_messages(data: pd.DataFrame,\n",
        "                              threshold_minutes: int = 5) -> list:\n",
        "\n",
        "    # Convert 'Data' column to datetime format\n",
        "    data['Data'] = pd.to_datetime(data['Data'], errors='coerce')\n",
        "\n",
        "    # Sort the dataset by the 'Data' column\n",
        "    data_sorted = data.sort_values(by='Data')\n",
        "\n",
        "    # Calculate the time difference between consecutive messages\n",
        "    data_sorted['time_diff'] = data_sorted['Data'].diff().dt.total_seconds() / 60  # time difference in minutes\n",
        "\n",
        "    # Reset time difference when the day changes\n",
        "    data_sorted['day_diff'] = data_sorted['Data'].dt.date.diff().ne(0)\n",
        "    data_sorted.loc[data_sorted['day_diff'], 'time_diff'] = None\n",
        "\n",
        "    # Find consecutive messages within the threshold\n",
        "    consecutive_messages = data_sorted[data_sorted['time_diff'] <= threshold_minutes]\n",
        "\n",
        "    return consecutive_messages if len(consecutive_messages) else []\n",
        "\n",
        "\n",
        "find_consecutive_messages(data = df, threshold_minutes = 5)"
      ],
      "metadata": {
        "colab": {
          "base_uri": "https://localhost:8080/",
          "height": 0
        },
        "id": "2GYRdG02PR4b",
        "outputId": "4db62f9f-b581-4381-8454-d14864c321d7"
      },
      "execution_count": 173,
      "outputs": [
        {
          "output_type": "execute_result",
          "data": {
            "text/plain": [
              "[]"
            ]
          },
          "metadata": {},
          "execution_count": 173
        }
      ]
    },
    {
      "cell_type": "markdown",
      "source": [
        "Altough the codes contained inside IDs are replicated, theres no trace of useful insights w.r.t. other columns apart from the `Testo` and `Risposte` ones.\n",
        "More precisely:\n",
        " - There are no user replicated user_ids\n",
        " - There are not consecutive messages by means of temporal reasoning"
      ],
      "metadata": {
        "id": "h8r-qwmnNEAl"
      }
    },
    {
      "cell_type": "markdown",
      "source": [
        "# **Cleaning Text**\n",
        "\n",
        "We are going to clean up `Testo` column and drop it's variance the more we can.\n",
        "\n",
        "Specifically we will deal with:\n",
        " - Casing\n",
        " - Symbols\n",
        " - Emoticons\n",
        " - Punctuation\n",
        " - Not informative questions/answers to eventually drop\n",
        "\n",
        "while still mantaining the text fluidity intact.\n",
        "\n",
        "Therefore the `CleanText` column will anyway dropped since our preprocessing will be little bit more aggressive."
      ],
      "metadata": {
        "id": "b58hlniOYTZl"
      }
    },
    {
      "cell_type": "code",
      "source": [
        "df2 = df[[\"Data\", \"Testo\", \"Risposta\", \"level_1\"]]\n",
        "df2.head()"
      ],
      "metadata": {
        "colab": {
          "base_uri": "https://localhost:8080/",
          "height": 206
        },
        "id": "dmlcARqr7SkO",
        "outputId": "5f9a76d6-c189-419b-9f7e-e1ee2b117823"
      },
      "execution_count": 236,
      "outputs": [
        {
          "output_type": "execute_result",
          "data": {
            "text/plain": [
              "                  Data                                              Testo  \\\n",
              "0  2022-01-07 09:59:00  Per piacere: il prezzo della scatola di “divin...   \n",
              "1  2021-12-21 10:27:00  Quando un cliente invia una email è cortesia r...   \n",
              "2  2022-01-19 21:30:00                    Salve, avete caffè  in chicchi?   \n",
              "3  2022-03-13 18:01:00  Lavazza Io invece per una riparazione e dopo n...   \n",
              "4  2021-07-12 01:21:00  Si ma spedirli anche a Bergamo e dintorni? Cos...   \n",
              "\n",
              "                                            Risposta               level_1  \n",
              "0  Ciao {customer_name}, il prezzo di ogni confez...  SALES & DISTRIBUTION  \n",
              "1  Ciao Edoardo, ci dispiace per quanto ci hai se...                no_cat  \n",
              "2  Ciao Massimo, puoi trovare la nostra selezione...  SALES & DISTRIBUTION  \n",
              "3  Ciao Mirella, ci dispiace per quanto ci segnal...                no_cat  \n",
              "4  Ciao Luca, i nuovi prodotti Lavazza Iced Coffe...  SALES & DISTRIBUTION  "
            ],
            "text/html": [
              "\n",
              "  <div id=\"df-ccdaf6ba-bfd9-419e-a0c1-46000f6369d0\" class=\"colab-df-container\">\n",
              "    <div>\n",
              "<style scoped>\n",
              "    .dataframe tbody tr th:only-of-type {\n",
              "        vertical-align: middle;\n",
              "    }\n",
              "\n",
              "    .dataframe tbody tr th {\n",
              "        vertical-align: top;\n",
              "    }\n",
              "\n",
              "    .dataframe thead th {\n",
              "        text-align: right;\n",
              "    }\n",
              "</style>\n",
              "<table border=\"1\" class=\"dataframe\">\n",
              "  <thead>\n",
              "    <tr style=\"text-align: right;\">\n",
              "      <th></th>\n",
              "      <th>Data</th>\n",
              "      <th>Testo</th>\n",
              "      <th>Risposta</th>\n",
              "      <th>level_1</th>\n",
              "    </tr>\n",
              "  </thead>\n",
              "  <tbody>\n",
              "    <tr>\n",
              "      <th>0</th>\n",
              "      <td>2022-01-07 09:59:00</td>\n",
              "      <td>Per piacere: il prezzo della scatola di “divin...</td>\n",
              "      <td>Ciao {customer_name}, il prezzo di ogni confez...</td>\n",
              "      <td>SALES &amp; DISTRIBUTION</td>\n",
              "    </tr>\n",
              "    <tr>\n",
              "      <th>1</th>\n",
              "      <td>2021-12-21 10:27:00</td>\n",
              "      <td>Quando un cliente invia una email è cortesia r...</td>\n",
              "      <td>Ciao Edoardo, ci dispiace per quanto ci hai se...</td>\n",
              "      <td>no_cat</td>\n",
              "    </tr>\n",
              "    <tr>\n",
              "      <th>2</th>\n",
              "      <td>2022-01-19 21:30:00</td>\n",
              "      <td>Salve, avete caffè  in chicchi?</td>\n",
              "      <td>Ciao Massimo, puoi trovare la nostra selezione...</td>\n",
              "      <td>SALES &amp; DISTRIBUTION</td>\n",
              "    </tr>\n",
              "    <tr>\n",
              "      <th>3</th>\n",
              "      <td>2022-03-13 18:01:00</td>\n",
              "      <td>Lavazza Io invece per una riparazione e dopo n...</td>\n",
              "      <td>Ciao Mirella, ci dispiace per quanto ci segnal...</td>\n",
              "      <td>no_cat</td>\n",
              "    </tr>\n",
              "    <tr>\n",
              "      <th>4</th>\n",
              "      <td>2021-07-12 01:21:00</td>\n",
              "      <td>Si ma spedirli anche a Bergamo e dintorni? Cos...</td>\n",
              "      <td>Ciao Luca, i nuovi prodotti Lavazza Iced Coffe...</td>\n",
              "      <td>SALES &amp; DISTRIBUTION</td>\n",
              "    </tr>\n",
              "  </tbody>\n",
              "</table>\n",
              "</div>\n",
              "    <div class=\"colab-df-buttons\">\n",
              "\n",
              "  <div class=\"colab-df-container\">\n",
              "    <button class=\"colab-df-convert\" onclick=\"convertToInteractive('df-ccdaf6ba-bfd9-419e-a0c1-46000f6369d0')\"\n",
              "            title=\"Convert this dataframe to an interactive table.\"\n",
              "            style=\"display:none;\">\n",
              "\n",
              "  <svg xmlns=\"http://www.w3.org/2000/svg\" height=\"24px\" viewBox=\"0 -960 960 960\">\n",
              "    <path d=\"M120-120v-720h720v720H120Zm60-500h600v-160H180v160Zm220 220h160v-160H400v160Zm0 220h160v-160H400v160ZM180-400h160v-160H180v160Zm440 0h160v-160H620v160ZM180-180h160v-160H180v160Zm440 0h160v-160H620v160Z\"/>\n",
              "  </svg>\n",
              "    </button>\n",
              "\n",
              "  <style>\n",
              "    .colab-df-container {\n",
              "      display:flex;\n",
              "      gap: 12px;\n",
              "    }\n",
              "\n",
              "    .colab-df-convert {\n",
              "      background-color: #E8F0FE;\n",
              "      border: none;\n",
              "      border-radius: 50%;\n",
              "      cursor: pointer;\n",
              "      display: none;\n",
              "      fill: #1967D2;\n",
              "      height: 32px;\n",
              "      padding: 0 0 0 0;\n",
              "      width: 32px;\n",
              "    }\n",
              "\n",
              "    .colab-df-convert:hover {\n",
              "      background-color: #E2EBFA;\n",
              "      box-shadow: 0px 1px 2px rgba(60, 64, 67, 0.3), 0px 1px 3px 1px rgba(60, 64, 67, 0.15);\n",
              "      fill: #174EA6;\n",
              "    }\n",
              "\n",
              "    .colab-df-buttons div {\n",
              "      margin-bottom: 4px;\n",
              "    }\n",
              "\n",
              "    [theme=dark] .colab-df-convert {\n",
              "      background-color: #3B4455;\n",
              "      fill: #D2E3FC;\n",
              "    }\n",
              "\n",
              "    [theme=dark] .colab-df-convert:hover {\n",
              "      background-color: #434B5C;\n",
              "      box-shadow: 0px 1px 3px 1px rgba(0, 0, 0, 0.15);\n",
              "      filter: drop-shadow(0px 1px 2px rgba(0, 0, 0, 0.3));\n",
              "      fill: #FFFFFF;\n",
              "    }\n",
              "  </style>\n",
              "\n",
              "    <script>\n",
              "      const buttonEl =\n",
              "        document.querySelector('#df-ccdaf6ba-bfd9-419e-a0c1-46000f6369d0 button.colab-df-convert');\n",
              "      buttonEl.style.display =\n",
              "        google.colab.kernel.accessAllowed ? 'block' : 'none';\n",
              "\n",
              "      async function convertToInteractive(key) {\n",
              "        const element = document.querySelector('#df-ccdaf6ba-bfd9-419e-a0c1-46000f6369d0');\n",
              "        const dataTable =\n",
              "          await google.colab.kernel.invokeFunction('convertToInteractive',\n",
              "                                                    [key], {});\n",
              "        if (!dataTable) return;\n",
              "\n",
              "        const docLinkHtml = 'Like what you see? Visit the ' +\n",
              "          '<a target=\"_blank\" href=https://colab.research.google.com/notebooks/data_table.ipynb>data table notebook</a>'\n",
              "          + ' to learn more about interactive tables.';\n",
              "        element.innerHTML = '';\n",
              "        dataTable['output_type'] = 'display_data';\n",
              "        await google.colab.output.renderOutput(dataTable, element);\n",
              "        const docLink = document.createElement('div');\n",
              "        docLink.innerHTML = docLinkHtml;\n",
              "        element.appendChild(docLink);\n",
              "      }\n",
              "    </script>\n",
              "  </div>\n",
              "\n",
              "\n",
              "<div id=\"df-03aabeac-5c22-41a6-be5f-87a11dd6b29f\">\n",
              "  <button class=\"colab-df-quickchart\" onclick=\"quickchart('df-03aabeac-5c22-41a6-be5f-87a11dd6b29f')\"\n",
              "            title=\"Suggest charts.\"\n",
              "            style=\"display:none;\">\n",
              "\n",
              "<svg xmlns=\"http://www.w3.org/2000/svg\" height=\"24px\"viewBox=\"0 0 24 24\"\n",
              "     width=\"24px\">\n",
              "    <g>\n",
              "        <path d=\"M19 3H5c-1.1 0-2 .9-2 2v14c0 1.1.9 2 2 2h14c1.1 0 2-.9 2-2V5c0-1.1-.9-2-2-2zM9 17H7v-7h2v7zm4 0h-2V7h2v10zm4 0h-2v-4h2v4z\"/>\n",
              "    </g>\n",
              "</svg>\n",
              "  </button>\n",
              "\n",
              "<style>\n",
              "  .colab-df-quickchart {\n",
              "      --bg-color: #E8F0FE;\n",
              "      --fill-color: #1967D2;\n",
              "      --hover-bg-color: #E2EBFA;\n",
              "      --hover-fill-color: #174EA6;\n",
              "      --disabled-fill-color: #AAA;\n",
              "      --disabled-bg-color: #DDD;\n",
              "  }\n",
              "\n",
              "  [theme=dark] .colab-df-quickchart {\n",
              "      --bg-color: #3B4455;\n",
              "      --fill-color: #D2E3FC;\n",
              "      --hover-bg-color: #434B5C;\n",
              "      --hover-fill-color: #FFFFFF;\n",
              "      --disabled-bg-color: #3B4455;\n",
              "      --disabled-fill-color: #666;\n",
              "  }\n",
              "\n",
              "  .colab-df-quickchart {\n",
              "    background-color: var(--bg-color);\n",
              "    border: none;\n",
              "    border-radius: 50%;\n",
              "    cursor: pointer;\n",
              "    display: none;\n",
              "    fill: var(--fill-color);\n",
              "    height: 32px;\n",
              "    padding: 0;\n",
              "    width: 32px;\n",
              "  }\n",
              "\n",
              "  .colab-df-quickchart:hover {\n",
              "    background-color: var(--hover-bg-color);\n",
              "    box-shadow: 0 1px 2px rgba(60, 64, 67, 0.3), 0 1px 3px 1px rgba(60, 64, 67, 0.15);\n",
              "    fill: var(--button-hover-fill-color);\n",
              "  }\n",
              "\n",
              "  .colab-df-quickchart-complete:disabled,\n",
              "  .colab-df-quickchart-complete:disabled:hover {\n",
              "    background-color: var(--disabled-bg-color);\n",
              "    fill: var(--disabled-fill-color);\n",
              "    box-shadow: none;\n",
              "  }\n",
              "\n",
              "  .colab-df-spinner {\n",
              "    border: 2px solid var(--fill-color);\n",
              "    border-color: transparent;\n",
              "    border-bottom-color: var(--fill-color);\n",
              "    animation:\n",
              "      spin 1s steps(1) infinite;\n",
              "  }\n",
              "\n",
              "  @keyframes spin {\n",
              "    0% {\n",
              "      border-color: transparent;\n",
              "      border-bottom-color: var(--fill-color);\n",
              "      border-left-color: var(--fill-color);\n",
              "    }\n",
              "    20% {\n",
              "      border-color: transparent;\n",
              "      border-left-color: var(--fill-color);\n",
              "      border-top-color: var(--fill-color);\n",
              "    }\n",
              "    30% {\n",
              "      border-color: transparent;\n",
              "      border-left-color: var(--fill-color);\n",
              "      border-top-color: var(--fill-color);\n",
              "      border-right-color: var(--fill-color);\n",
              "    }\n",
              "    40% {\n",
              "      border-color: transparent;\n",
              "      border-right-color: var(--fill-color);\n",
              "      border-top-color: var(--fill-color);\n",
              "    }\n",
              "    60% {\n",
              "      border-color: transparent;\n",
              "      border-right-color: var(--fill-color);\n",
              "    }\n",
              "    80% {\n",
              "      border-color: transparent;\n",
              "      border-right-color: var(--fill-color);\n",
              "      border-bottom-color: var(--fill-color);\n",
              "    }\n",
              "    90% {\n",
              "      border-color: transparent;\n",
              "      border-bottom-color: var(--fill-color);\n",
              "    }\n",
              "  }\n",
              "</style>\n",
              "\n",
              "  <script>\n",
              "    async function quickchart(key) {\n",
              "      const quickchartButtonEl =\n",
              "        document.querySelector('#' + key + ' button');\n",
              "      quickchartButtonEl.disabled = true;  // To prevent multiple clicks.\n",
              "      quickchartButtonEl.classList.add('colab-df-spinner');\n",
              "      try {\n",
              "        const charts = await google.colab.kernel.invokeFunction(\n",
              "            'suggestCharts', [key], {});\n",
              "      } catch (error) {\n",
              "        console.error('Error during call to suggestCharts:', error);\n",
              "      }\n",
              "      quickchartButtonEl.classList.remove('colab-df-spinner');\n",
              "      quickchartButtonEl.classList.add('colab-df-quickchart-complete');\n",
              "    }\n",
              "    (() => {\n",
              "      let quickchartButtonEl =\n",
              "        document.querySelector('#df-03aabeac-5c22-41a6-be5f-87a11dd6b29f button');\n",
              "      quickchartButtonEl.style.display =\n",
              "        google.colab.kernel.accessAllowed ? 'block' : 'none';\n",
              "    })();\n",
              "  </script>\n",
              "</div>\n",
              "    </div>\n",
              "  </div>\n"
            ]
          },
          "metadata": {},
          "execution_count": 236
        }
      ]
    },
    {
      "cell_type": "code",
      "source": [
        "# create a function to clean text column\n",
        "\n",
        "def preprocess_text(text: str, answer: bool = False, train_data: bool = False):\n",
        "    if answer:\n",
        "        text = re.sub(r'Ciao ({customer_name}|\\w+)(?: |,)', '', text)\n",
        "        return text\n",
        "\n",
        "    # Remove emoticons\n",
        "    text = re.sub(r'[\\U0001F600-\\U0001F64F\\U0001F300-\\U0001F5FF\\U0001F680-\\U0001F6FF\\U0001F1E0-\\U0001F1FF]', '', text)\n",
        "    text = re.sub(r'http\\S+', 'url', text) # Replace or remove URLs\n",
        "    text = re.sub(r'\\S+@\\S+', 'email', text) # Replace or remove email addresses\n",
        "\n",
        "    # Remove unnecessary characters and whitespace\n",
        "    text = re.sub(r'\\s+', ' ', text)  # replace multiple whitespaces with a single space\n",
        "    text = re.sub(r'[^\\w\\s]', ' ', text)  # remove punctuation\n",
        "    text = re.sub(r'\\s+', ' ', text) # clean up multiple spaces\n",
        "    text = re.sub(r'x|X', 'per', text)\n",
        "\n",
        "    if train_data:\n",
        "        if text.startswith(\"Lavazza\"):\n",
        "            text = text[8:]\n",
        "\n",
        "        names = []\n",
        "        # Process the text with the NER model\n",
        "        doc = nlp(text)\n",
        "        for entity in doc.ents:\n",
        "            if entity.label_ == \"PER\" and text.startswith(entity.text) and len(entity.text.split()) > 1 and \"Lavazza\" not in entity.text:\n",
        "                text = re.sub(entity.text, '', text)\n",
        "                names.append(entity.text)\n",
        "        if names:\n",
        "            print(names)\n",
        "\n",
        "    return text.lower().strip()\n",
        "\n",
        "# Apply the updated preprocessing function to the 'Testo' column\n",
        "df2['Testo'] = df2['Testo'].apply(lambda x: preprocess_text(str(x),train_data=True))\n",
        "df2['Risposta'] = df2['Risposta'].apply(lambda x: preprocess_text(str(x), answer = True))\n",
        "\n",
        "df2.head()"
      ],
      "metadata": {
        "colab": {
          "base_uri": "https://localhost:8080/",
          "height": 658
        },
        "id": "meu_hyLg85KE",
        "outputId": "f54707d8-e414-4033-dfe7-db2ab7d2be89"
      },
      "execution_count": 237,
      "outputs": [
        {
          "output_type": "stream",
          "name": "stdout",
          "text": [
            "['Fabio Fraccalvieri']\n",
            "['Elena Tincuta Lungociu']\n",
            "['Enzo Serio']\n",
            "['Antonio Semprevivo']\n",
            "['Mimmo Pascali']\n",
            "['Luigi Gennari']\n",
            "['Avete Bidose']\n",
            "['Francesco Troia']\n",
            "['Paolo Campagnolo']\n",
            "['Sig Fabio']\n",
            "['Manuela Quaggiotto']\n",
            "['Rolando Dotti']\n",
            "['Rosa Falcone']\n",
            "['Carmen Ronchi']\n"
          ]
        },
        {
          "output_type": "stream",
          "name": "stderr",
          "text": [
            "<ipython-input-237-dcc4bf3813ea>:38: SettingWithCopyWarning: \n",
            "A value is trying to be set on a copy of a slice from a DataFrame.\n",
            "Try using .loc[row_indexer,col_indexer] = value instead\n",
            "\n",
            "See the caveats in the documentation: https://pandas.pydata.org/pandas-docs/stable/user_guide/indexing.html#returning-a-view-versus-a-copy\n",
            "  df2['Testo'] = df2['Testo'].apply(lambda x: preprocess_text(str(x),train_data=True))\n",
            "<ipython-input-237-dcc4bf3813ea>:39: SettingWithCopyWarning: \n",
            "A value is trying to be set on a copy of a slice from a DataFrame.\n",
            "Try using .loc[row_indexer,col_indexer] = value instead\n",
            "\n",
            "See the caveats in the documentation: https://pandas.pydata.org/pandas-docs/stable/user_guide/indexing.html#returning-a-view-versus-a-copy\n",
            "  df2['Risposta'] = df2['Risposta'].apply(lambda x: preprocess_text(str(x), answer = True))\n"
          ]
        },
        {
          "output_type": "execute_result",
          "data": {
            "text/plain": [
              "                  Data                                              Testo  \\\n",
              "0  2022-01-07 09:59:00  per piacere il prezzo della scatola di divino ...   \n",
              "1  2021-12-21 10:27:00  quando un cliente invia una email e cortesia r...   \n",
              "2  2022-01-19 21:30:00                       salve avete caffe in chicchi   \n",
              "3  2022-03-13 18:01:00  io invece per una riparazione e dopo numero la...   \n",
              "4  2021-07-12 01:21:00  si ma spedirli anche a bergamo e dintorni cosa...   \n",
              "\n",
              "                                            Risposta               level_1  \n",
              "0   il prezzo di ogni confezione di Lavazza A Mod...  SALES & DISTRIBUTION  \n",
              "1   ci dispiace per quanto ci hai segnalato. Ci p...                no_cat  \n",
              "2   puoi trovare la nostra selezione Lavazza in g...  SALES & DISTRIBUTION  \n",
              "3   ci dispiace per quanto ci segnali e ci piacer...                no_cat  \n",
              "4   i nuovi prodotti Lavazza Iced Coffee Cappucci...  SALES & DISTRIBUTION  "
            ],
            "text/html": [
              "\n",
              "  <div id=\"df-809e00a3-4e67-443e-a70e-c2d0338e1a19\" class=\"colab-df-container\">\n",
              "    <div>\n",
              "<style scoped>\n",
              "    .dataframe tbody tr th:only-of-type {\n",
              "        vertical-align: middle;\n",
              "    }\n",
              "\n",
              "    .dataframe tbody tr th {\n",
              "        vertical-align: top;\n",
              "    }\n",
              "\n",
              "    .dataframe thead th {\n",
              "        text-align: right;\n",
              "    }\n",
              "</style>\n",
              "<table border=\"1\" class=\"dataframe\">\n",
              "  <thead>\n",
              "    <tr style=\"text-align: right;\">\n",
              "      <th></th>\n",
              "      <th>Data</th>\n",
              "      <th>Testo</th>\n",
              "      <th>Risposta</th>\n",
              "      <th>level_1</th>\n",
              "    </tr>\n",
              "  </thead>\n",
              "  <tbody>\n",
              "    <tr>\n",
              "      <th>0</th>\n",
              "      <td>2022-01-07 09:59:00</td>\n",
              "      <td>per piacere il prezzo della scatola di divino ...</td>\n",
              "      <td>il prezzo di ogni confezione di Lavazza A Mod...</td>\n",
              "      <td>SALES &amp; DISTRIBUTION</td>\n",
              "    </tr>\n",
              "    <tr>\n",
              "      <th>1</th>\n",
              "      <td>2021-12-21 10:27:00</td>\n",
              "      <td>quando un cliente invia una email e cortesia r...</td>\n",
              "      <td>ci dispiace per quanto ci hai segnalato. Ci p...</td>\n",
              "      <td>no_cat</td>\n",
              "    </tr>\n",
              "    <tr>\n",
              "      <th>2</th>\n",
              "      <td>2022-01-19 21:30:00</td>\n",
              "      <td>salve avete caffe in chicchi</td>\n",
              "      <td>puoi trovare la nostra selezione Lavazza in g...</td>\n",
              "      <td>SALES &amp; DISTRIBUTION</td>\n",
              "    </tr>\n",
              "    <tr>\n",
              "      <th>3</th>\n",
              "      <td>2022-03-13 18:01:00</td>\n",
              "      <td>io invece per una riparazione e dopo numero la...</td>\n",
              "      <td>ci dispiace per quanto ci segnali e ci piacer...</td>\n",
              "      <td>no_cat</td>\n",
              "    </tr>\n",
              "    <tr>\n",
              "      <th>4</th>\n",
              "      <td>2021-07-12 01:21:00</td>\n",
              "      <td>si ma spedirli anche a bergamo e dintorni cosa...</td>\n",
              "      <td>i nuovi prodotti Lavazza Iced Coffee Cappucci...</td>\n",
              "      <td>SALES &amp; DISTRIBUTION</td>\n",
              "    </tr>\n",
              "  </tbody>\n",
              "</table>\n",
              "</div>\n",
              "    <div class=\"colab-df-buttons\">\n",
              "\n",
              "  <div class=\"colab-df-container\">\n",
              "    <button class=\"colab-df-convert\" onclick=\"convertToInteractive('df-809e00a3-4e67-443e-a70e-c2d0338e1a19')\"\n",
              "            title=\"Convert this dataframe to an interactive table.\"\n",
              "            style=\"display:none;\">\n",
              "\n",
              "  <svg xmlns=\"http://www.w3.org/2000/svg\" height=\"24px\" viewBox=\"0 -960 960 960\">\n",
              "    <path d=\"M120-120v-720h720v720H120Zm60-500h600v-160H180v160Zm220 220h160v-160H400v160Zm0 220h160v-160H400v160ZM180-400h160v-160H180v160Zm440 0h160v-160H620v160ZM180-180h160v-160H180v160Zm440 0h160v-160H620v160Z\"/>\n",
              "  </svg>\n",
              "    </button>\n",
              "\n",
              "  <style>\n",
              "    .colab-df-container {\n",
              "      display:flex;\n",
              "      gap: 12px;\n",
              "    }\n",
              "\n",
              "    .colab-df-convert {\n",
              "      background-color: #E8F0FE;\n",
              "      border: none;\n",
              "      border-radius: 50%;\n",
              "      cursor: pointer;\n",
              "      display: none;\n",
              "      fill: #1967D2;\n",
              "      height: 32px;\n",
              "      padding: 0 0 0 0;\n",
              "      width: 32px;\n",
              "    }\n",
              "\n",
              "    .colab-df-convert:hover {\n",
              "      background-color: #E2EBFA;\n",
              "      box-shadow: 0px 1px 2px rgba(60, 64, 67, 0.3), 0px 1px 3px 1px rgba(60, 64, 67, 0.15);\n",
              "      fill: #174EA6;\n",
              "    }\n",
              "\n",
              "    .colab-df-buttons div {\n",
              "      margin-bottom: 4px;\n",
              "    }\n",
              "\n",
              "    [theme=dark] .colab-df-convert {\n",
              "      background-color: #3B4455;\n",
              "      fill: #D2E3FC;\n",
              "    }\n",
              "\n",
              "    [theme=dark] .colab-df-convert:hover {\n",
              "      background-color: #434B5C;\n",
              "      box-shadow: 0px 1px 3px 1px rgba(0, 0, 0, 0.15);\n",
              "      filter: drop-shadow(0px 1px 2px rgba(0, 0, 0, 0.3));\n",
              "      fill: #FFFFFF;\n",
              "    }\n",
              "  </style>\n",
              "\n",
              "    <script>\n",
              "      const buttonEl =\n",
              "        document.querySelector('#df-809e00a3-4e67-443e-a70e-c2d0338e1a19 button.colab-df-convert');\n",
              "      buttonEl.style.display =\n",
              "        google.colab.kernel.accessAllowed ? 'block' : 'none';\n",
              "\n",
              "      async function convertToInteractive(key) {\n",
              "        const element = document.querySelector('#df-809e00a3-4e67-443e-a70e-c2d0338e1a19');\n",
              "        const dataTable =\n",
              "          await google.colab.kernel.invokeFunction('convertToInteractive',\n",
              "                                                    [key], {});\n",
              "        if (!dataTable) return;\n",
              "\n",
              "        const docLinkHtml = 'Like what you see? Visit the ' +\n",
              "          '<a target=\"_blank\" href=https://colab.research.google.com/notebooks/data_table.ipynb>data table notebook</a>'\n",
              "          + ' to learn more about interactive tables.';\n",
              "        element.innerHTML = '';\n",
              "        dataTable['output_type'] = 'display_data';\n",
              "        await google.colab.output.renderOutput(dataTable, element);\n",
              "        const docLink = document.createElement('div');\n",
              "        docLink.innerHTML = docLinkHtml;\n",
              "        element.appendChild(docLink);\n",
              "      }\n",
              "    </script>\n",
              "  </div>\n",
              "\n",
              "\n",
              "<div id=\"df-bd8184d0-547e-469c-89b5-4f6e54aa35e4\">\n",
              "  <button class=\"colab-df-quickchart\" onclick=\"quickchart('df-bd8184d0-547e-469c-89b5-4f6e54aa35e4')\"\n",
              "            title=\"Suggest charts.\"\n",
              "            style=\"display:none;\">\n",
              "\n",
              "<svg xmlns=\"http://www.w3.org/2000/svg\" height=\"24px\"viewBox=\"0 0 24 24\"\n",
              "     width=\"24px\">\n",
              "    <g>\n",
              "        <path d=\"M19 3H5c-1.1 0-2 .9-2 2v14c0 1.1.9 2 2 2h14c1.1 0 2-.9 2-2V5c0-1.1-.9-2-2-2zM9 17H7v-7h2v7zm4 0h-2V7h2v10zm4 0h-2v-4h2v4z\"/>\n",
              "    </g>\n",
              "</svg>\n",
              "  </button>\n",
              "\n",
              "<style>\n",
              "  .colab-df-quickchart {\n",
              "      --bg-color: #E8F0FE;\n",
              "      --fill-color: #1967D2;\n",
              "      --hover-bg-color: #E2EBFA;\n",
              "      --hover-fill-color: #174EA6;\n",
              "      --disabled-fill-color: #AAA;\n",
              "      --disabled-bg-color: #DDD;\n",
              "  }\n",
              "\n",
              "  [theme=dark] .colab-df-quickchart {\n",
              "      --bg-color: #3B4455;\n",
              "      --fill-color: #D2E3FC;\n",
              "      --hover-bg-color: #434B5C;\n",
              "      --hover-fill-color: #FFFFFF;\n",
              "      --disabled-bg-color: #3B4455;\n",
              "      --disabled-fill-color: #666;\n",
              "  }\n",
              "\n",
              "  .colab-df-quickchart {\n",
              "    background-color: var(--bg-color);\n",
              "    border: none;\n",
              "    border-radius: 50%;\n",
              "    cursor: pointer;\n",
              "    display: none;\n",
              "    fill: var(--fill-color);\n",
              "    height: 32px;\n",
              "    padding: 0;\n",
              "    width: 32px;\n",
              "  }\n",
              "\n",
              "  .colab-df-quickchart:hover {\n",
              "    background-color: var(--hover-bg-color);\n",
              "    box-shadow: 0 1px 2px rgba(60, 64, 67, 0.3), 0 1px 3px 1px rgba(60, 64, 67, 0.15);\n",
              "    fill: var(--button-hover-fill-color);\n",
              "  }\n",
              "\n",
              "  .colab-df-quickchart-complete:disabled,\n",
              "  .colab-df-quickchart-complete:disabled:hover {\n",
              "    background-color: var(--disabled-bg-color);\n",
              "    fill: var(--disabled-fill-color);\n",
              "    box-shadow: none;\n",
              "  }\n",
              "\n",
              "  .colab-df-spinner {\n",
              "    border: 2px solid var(--fill-color);\n",
              "    border-color: transparent;\n",
              "    border-bottom-color: var(--fill-color);\n",
              "    animation:\n",
              "      spin 1s steps(1) infinite;\n",
              "  }\n",
              "\n",
              "  @keyframes spin {\n",
              "    0% {\n",
              "      border-color: transparent;\n",
              "      border-bottom-color: var(--fill-color);\n",
              "      border-left-color: var(--fill-color);\n",
              "    }\n",
              "    20% {\n",
              "      border-color: transparent;\n",
              "      border-left-color: var(--fill-color);\n",
              "      border-top-color: var(--fill-color);\n",
              "    }\n",
              "    30% {\n",
              "      border-color: transparent;\n",
              "      border-left-color: var(--fill-color);\n",
              "      border-top-color: var(--fill-color);\n",
              "      border-right-color: var(--fill-color);\n",
              "    }\n",
              "    40% {\n",
              "      border-color: transparent;\n",
              "      border-right-color: var(--fill-color);\n",
              "      border-top-color: var(--fill-color);\n",
              "    }\n",
              "    60% {\n",
              "      border-color: transparent;\n",
              "      border-right-color: var(--fill-color);\n",
              "    }\n",
              "    80% {\n",
              "      border-color: transparent;\n",
              "      border-right-color: var(--fill-color);\n",
              "      border-bottom-color: var(--fill-color);\n",
              "    }\n",
              "    90% {\n",
              "      border-color: transparent;\n",
              "      border-bottom-color: var(--fill-color);\n",
              "    }\n",
              "  }\n",
              "</style>\n",
              "\n",
              "  <script>\n",
              "    async function quickchart(key) {\n",
              "      const quickchartButtonEl =\n",
              "        document.querySelector('#' + key + ' button');\n",
              "      quickchartButtonEl.disabled = true;  // To prevent multiple clicks.\n",
              "      quickchartButtonEl.classList.add('colab-df-spinner');\n",
              "      try {\n",
              "        const charts = await google.colab.kernel.invokeFunction(\n",
              "            'suggestCharts', [key], {});\n",
              "      } catch (error) {\n",
              "        console.error('Error during call to suggestCharts:', error);\n",
              "      }\n",
              "      quickchartButtonEl.classList.remove('colab-df-spinner');\n",
              "      quickchartButtonEl.classList.add('colab-df-quickchart-complete');\n",
              "    }\n",
              "    (() => {\n",
              "      let quickchartButtonEl =\n",
              "        document.querySelector('#df-bd8184d0-547e-469c-89b5-4f6e54aa35e4 button');\n",
              "      quickchartButtonEl.style.display =\n",
              "        google.colab.kernel.accessAllowed ? 'block' : 'none';\n",
              "    })();\n",
              "  </script>\n",
              "</div>\n",
              "    </div>\n",
              "  </div>\n"
            ]
          },
          "metadata": {},
          "execution_count": 237
        }
      ]
    },
    {
      "cell_type": "code",
      "source": [
        "# There are a moltitute of informations for the same product.\n",
        "# e.g. \"qualità rossa\" prices are provided few times, where prices change.\n",
        "# We will be adding the temporal info to the text, so we save few tokens by retrieving only the date.\n",
        "\n",
        "df2[\"Data\"] = pd.to_datetime(df2[\"Data\"], errors='coerce')\n",
        "df2[\"Data\"] = df2[\"Data\"].dt.date"
      ],
      "metadata": {
        "colab": {
          "base_uri": "https://localhost:8080/"
        },
        "id": "ZpGMRyRipeY5",
        "outputId": "cb24cb13-8149-477b-8cdd-d074aa924c46"
      },
      "execution_count": 238,
      "outputs": [
        {
          "output_type": "stream",
          "name": "stderr",
          "text": [
            "<ipython-input-238-1f34aa287177>:5: SettingWithCopyWarning: \n",
            "A value is trying to be set on a copy of a slice from a DataFrame.\n",
            "Try using .loc[row_indexer,col_indexer] = value instead\n",
            "\n",
            "See the caveats in the documentation: https://pandas.pydata.org/pandas-docs/stable/user_guide/indexing.html#returning-a-view-versus-a-copy\n",
            "  df2[\"Data\"] = pd.to_datetime(df2[\"Data\"], errors='coerce')\n",
            "<ipython-input-238-1f34aa287177>:6: SettingWithCopyWarning: \n",
            "A value is trying to be set on a copy of a slice from a DataFrame.\n",
            "Try using .loc[row_indexer,col_indexer] = value instead\n",
            "\n",
            "See the caveats in the documentation: https://pandas.pydata.org/pandas-docs/stable/user_guide/indexing.html#returning-a-view-versus-a-copy\n",
            "  df2[\"Data\"] = df2[\"Data\"].dt.date\n"
          ]
        }
      ]
    },
    {
      "cell_type": "markdown",
      "source": [
        "## To skip"
      ],
      "metadata": {
        "id": "Q0Wlh-M4yKts"
      }
    },
    {
      "cell_type": "code",
      "source": [
        "print(f\"Unique values before cleaning: Text: {df.Testo.nunique()}, Answer: {df.Risposta.nunique()}\")\n",
        "print(f\"Unique values after  cleaning: Text: {df2.Testo.nunique()}, Answer: {df2.Risposta.nunique()}\")"
      ],
      "metadata": {
        "colab": {
          "base_uri": "https://localhost:8080/"
        },
        "id": "NsFU6Ku685Qd",
        "outputId": "e3010266-5656-454b-acc6-5e03b35182fa"
      },
      "execution_count": 52,
      "outputs": [
        {
          "output_type": "stream",
          "name": "stdout",
          "text": [
            "Unique values before cleaning: Text: 976, Answer: 943\n",
            "Unique values after  cleaning: Text: 960, Answer: 874\n"
          ]
        }
      ]
    },
    {
      "cell_type": "code",
      "source": [
        "df2[df2['Testo'].str.contains('lavazza', case=False)][\"Testo\"].values[:5]"
      ],
      "metadata": {
        "colab": {
          "base_uri": "https://localhost:8080/",
          "height": 0
        },
        "id": "gNCgmBL-85Uo",
        "outputId": "0c21bb17-233d-42f9-c80e-df6b1b3b452f"
      },
      "execution_count": 50,
      "outputs": [
        {
          "output_type": "execute_result",
          "data": {
            "text/plain": [
              "array(['io invece per una riparazione e dopo numero lamentele mi hanno scritto via mail che mi avrebbero sostituito la macchinetta hanno ritirato la vecchia e della nuova non si hanno notizie aspetto dal 9 febbraio grazie per la serietà lavazza p s intanto mi sono rivolta a una associazione di consumatori chissà che non riescano a risolvere',\n",
              "       'io ho una lavazza point quale capsule devo prendere se possibile avere un numero telefonico grazie',\n",
              "       'cosa c è di meglio che cominciare la giornata con una tazzina di buon caffè lavazza',\n",
              "       'questa e una s pubblicita ho acquistato una confezione di lavazza bio organic sul davanti una bella scritta for planet rispondiamo al cambiamento climatico nel retro del pacchetto bellino trovo invece la scritta questo pack è progettato per favorirne la riciclabilità evviva a me in realtà sembra plastica ma mi sbaglio io di sicuro a casa sul fondo della confezione trovo la scritta 7 other accanto al simbolo del riciclo cerco fiducioso su internet che trovo qualora fosse presente il numero 7 accompagnato dalla scritta other allora il materiale plastico di cui è composto l imballaggio non e riciclabile e va gettato nella raccolta indifferenziata mi sento tremendamente preso in giro teniamoci sul raffinato non acquisterò più le confezioni lavazza fintamente riciclabili se invece sbaglio prego la lavazza di farmelo e farcelo sapere altrimenti consiglio anche a voi di rivolgervi ad azienda più serie',\n",
              "       'uso solo lavazza oro da anni però ultimamente le confezioni non sono piene manca un bel po di caffè non è giusto io lo pago intero e non è finita che costi poco'],\n",
              "      dtype=object)"
            ]
          },
          "metadata": {},
          "execution_count": 50
        }
      ]
    },
    {
      "cell_type": "code",
      "source": [
        "# Look for dupicated couples\n",
        "df2.Testo.nunique(), df2.Risposta.nunique()"
      ],
      "metadata": {
        "id": "yrUAZnyz8J4E",
        "colab": {
          "base_uri": "https://localhost:8080/"
        },
        "outputId": "d79acaa4-e2fa-4efc-c60e-ef7f93b7fffe"
      },
      "execution_count": 105,
      "outputs": [
        {
          "output_type": "execute_result",
          "data": {
            "text/plain": [
              "(959, 873)"
            ]
          },
          "metadata": {},
          "execution_count": 105
        }
      ]
    },
    {
      "cell_type": "code",
      "source": [
        "# There are 33 repeated answers\n",
        "duplicates = df2[df2.duplicated(subset=[\"Testo\"], keep = False)].sort_values(by=\"Testo\")\n",
        "duplicates[[\"Testo\", \"Risposta\", \"level_1\"]]"
      ],
      "metadata": {
        "colab": {
          "base_uri": "https://localhost:8080/",
          "height": 927
        },
        "id": "u4xF4g9ZAzaS",
        "outputId": "efea3345-a4e8-414d-f5c5-447dd19c9ee5"
      },
      "execution_count": 106,
      "outputs": [
        {
          "output_type": "execute_result",
          "data": {
            "text/plain": [
              "                                Testo  \\\n",
              "303                 avete anche firma   \n",
              "280                 avete anche firma   \n",
              "549                             costo   \n",
              "480                             costo   \n",
              "939                     dove si trova   \n",
              "353                     dove si trova   \n",
              "816                      e a modo mio   \n",
              "76                       e a modo mio   \n",
              "499                         le cialde   \n",
              "238                         le cialde   \n",
              "134          le cialde quanto costano   \n",
              "345          le cialde quanto costano   \n",
              "344                 per lavazza firma   \n",
              "91                  per lavazza firma   \n",
              "747                            prezzo   \n",
              "820                            prezzo   \n",
              "824                            prezzo   \n",
              "142                     prezzo grazie   \n",
              "451                     prezzo grazie   \n",
              "392  prezzo lavazza a modo mio grazie   \n",
              "190  prezzo lavazza a modo mio grazie   \n",
              "314        quanto costa l abbonamento   \n",
              "703        quanto costa l abbonamento   \n",
              "917         quanto costano le capsule   \n",
              "123         quanto costano le capsule   \n",
              "750         quanto costano le capsule   \n",
              "336    sono compatibili con nespresso   \n",
              "201    sono compatibili con nespresso   \n",
              "\n",
              "                                              Risposta               level_1  \n",
              "303   per ricevere maggiori informazioni su Lavazza...  SALES & DISTRIBUTION  \n",
              "280   per ricevere maggiori informazioni sulle caps...  SALES & DISTRIBUTION  \n",
              "549   al seguente link www.lavazza.it/it/caffe/caps...  SALES & DISTRIBUTION  \n",
              "480   puoi trovare il prezzo delle capsule Lavazza ...  SALES & DISTRIBUTION  \n",
              "939  a questo link puoi trovare la lista di punti v...  SALES & DISTRIBUTION  \n",
              "353   puoi acquistare le capsule Cappuccino compati...  SALES & DISTRIBUTION  \n",
              "816   puoi trovare le nostre capsule Lavazza A Modo...  SALES & DISTRIBUTION  \n",
              "76   , il percorso di integrazione della sostenibil...                no_cat  \n",
              "499   puoi acquistare le nostre cialde ESE al segue...  SALES & DISTRIBUTION  \n",
              "238    al seguente link puoi trovare le nostre cial...  SALES & DISTRIBUTION  \n",
              "134   al seguente link: https://www.lavazza.it/it/c...  SALES & DISTRIBUTION  \n",
              "345   puoi acquistare le cialde ESE Lavazza al segu...  SALES & DISTRIBUTION  \n",
              "344   per ricevere maggiori informazioni su Lavazza...  SALES & DISTRIBUTION  \n",
              "91    per ricevere maggiori informazioni su Lavazza...                no_cat  \n",
              "747   se sottoscrivi un abbonamento Macchina e Caps...  SALES & DISTRIBUTION  \n",
              "820   il prezzo di quale dei nostri prodotti ti int...  SALES & DISTRIBUTION  \n",
              "824  la nuova macchina Lavazza A Modo Mio Voicy è i...  SALES & DISTRIBUTION  \n",
              "142   con l'abbonamento macchina e capsule Lavazza ...  SALES & DISTRIBUTION  \n",
              "451   puoi scoprire la nostra selezione di capsule ...  SALES & DISTRIBUTION  \n",
              "392   al link qui di seguito puoi trovare tutta la ...  SALES & DISTRIBUTION  \n",
              "190   al seguente link puoi trovare tutta la nostra...  SALES & DISTRIBUTION  \n",
              "314  , non c’è un prezzo fisso dell’abbonamento, di...  SALES & DISTRIBUTION  \n",
              "703   l'abbonamento Lavazza da Te con Lavazza A Mod...  SALES & DISTRIBUTION  \n",
              "917   non c’è un prezzo fisso dell’abbonamento, dip...  SALES & DISTRIBUTION  \n",
              "123   non c’è un prezzo fisso dell’abbonamento, dip...  SALES & DISTRIBUTION  \n",
              "750   non c’è un prezzo fisso dell’abbonamento, dip...  SALES & DISTRIBUTION  \n",
              "336   si ti confermiamo che le capsule che vedi nel...                no_cat  \n",
              "201   sì ti confermiamo che le capsule che vedi nel...              PRODOTTO  "
            ],
            "text/html": [
              "\n",
              "  <div id=\"df-5ca2892d-630a-4ce3-9ada-ccc182534cba\" class=\"colab-df-container\">\n",
              "    <div>\n",
              "<style scoped>\n",
              "    .dataframe tbody tr th:only-of-type {\n",
              "        vertical-align: middle;\n",
              "    }\n",
              "\n",
              "    .dataframe tbody tr th {\n",
              "        vertical-align: top;\n",
              "    }\n",
              "\n",
              "    .dataframe thead th {\n",
              "        text-align: right;\n",
              "    }\n",
              "</style>\n",
              "<table border=\"1\" class=\"dataframe\">\n",
              "  <thead>\n",
              "    <tr style=\"text-align: right;\">\n",
              "      <th></th>\n",
              "      <th>Testo</th>\n",
              "      <th>Risposta</th>\n",
              "      <th>level_1</th>\n",
              "    </tr>\n",
              "  </thead>\n",
              "  <tbody>\n",
              "    <tr>\n",
              "      <th>303</th>\n",
              "      <td>avete anche firma</td>\n",
              "      <td>per ricevere maggiori informazioni su Lavazza...</td>\n",
              "      <td>SALES &amp; DISTRIBUTION</td>\n",
              "    </tr>\n",
              "    <tr>\n",
              "      <th>280</th>\n",
              "      <td>avete anche firma</td>\n",
              "      <td>per ricevere maggiori informazioni sulle caps...</td>\n",
              "      <td>SALES &amp; DISTRIBUTION</td>\n",
              "    </tr>\n",
              "    <tr>\n",
              "      <th>549</th>\n",
              "      <td>costo</td>\n",
              "      <td>al seguente link www.lavazza.it/it/caffe/caps...</td>\n",
              "      <td>SALES &amp; DISTRIBUTION</td>\n",
              "    </tr>\n",
              "    <tr>\n",
              "      <th>480</th>\n",
              "      <td>costo</td>\n",
              "      <td>puoi trovare il prezzo delle capsule Lavazza ...</td>\n",
              "      <td>SALES &amp; DISTRIBUTION</td>\n",
              "    </tr>\n",
              "    <tr>\n",
              "      <th>939</th>\n",
              "      <td>dove si trova</td>\n",
              "      <td>a questo link puoi trovare la lista di punti v...</td>\n",
              "      <td>SALES &amp; DISTRIBUTION</td>\n",
              "    </tr>\n",
              "    <tr>\n",
              "      <th>353</th>\n",
              "      <td>dove si trova</td>\n",
              "      <td>puoi acquistare le capsule Cappuccino compati...</td>\n",
              "      <td>SALES &amp; DISTRIBUTION</td>\n",
              "    </tr>\n",
              "    <tr>\n",
              "      <th>816</th>\n",
              "      <td>e a modo mio</td>\n",
              "      <td>puoi trovare le nostre capsule Lavazza A Modo...</td>\n",
              "      <td>SALES &amp; DISTRIBUTION</td>\n",
              "    </tr>\n",
              "    <tr>\n",
              "      <th>76</th>\n",
              "      <td>e a modo mio</td>\n",
              "      <td>, il percorso di integrazione della sostenibil...</td>\n",
              "      <td>no_cat</td>\n",
              "    </tr>\n",
              "    <tr>\n",
              "      <th>499</th>\n",
              "      <td>le cialde</td>\n",
              "      <td>puoi acquistare le nostre cialde ESE al segue...</td>\n",
              "      <td>SALES &amp; DISTRIBUTION</td>\n",
              "    </tr>\n",
              "    <tr>\n",
              "      <th>238</th>\n",
              "      <td>le cialde</td>\n",
              "      <td>al seguente link puoi trovare le nostre cial...</td>\n",
              "      <td>SALES &amp; DISTRIBUTION</td>\n",
              "    </tr>\n",
              "    <tr>\n",
              "      <th>134</th>\n",
              "      <td>le cialde quanto costano</td>\n",
              "      <td>al seguente link: https://www.lavazza.it/it/c...</td>\n",
              "      <td>SALES &amp; DISTRIBUTION</td>\n",
              "    </tr>\n",
              "    <tr>\n",
              "      <th>345</th>\n",
              "      <td>le cialde quanto costano</td>\n",
              "      <td>puoi acquistare le cialde ESE Lavazza al segu...</td>\n",
              "      <td>SALES &amp; DISTRIBUTION</td>\n",
              "    </tr>\n",
              "    <tr>\n",
              "      <th>344</th>\n",
              "      <td>per lavazza firma</td>\n",
              "      <td>per ricevere maggiori informazioni su Lavazza...</td>\n",
              "      <td>SALES &amp; DISTRIBUTION</td>\n",
              "    </tr>\n",
              "    <tr>\n",
              "      <th>91</th>\n",
              "      <td>per lavazza firma</td>\n",
              "      <td>per ricevere maggiori informazioni su Lavazza...</td>\n",
              "      <td>no_cat</td>\n",
              "    </tr>\n",
              "    <tr>\n",
              "      <th>747</th>\n",
              "      <td>prezzo</td>\n",
              "      <td>se sottoscrivi un abbonamento Macchina e Caps...</td>\n",
              "      <td>SALES &amp; DISTRIBUTION</td>\n",
              "    </tr>\n",
              "    <tr>\n",
              "      <th>820</th>\n",
              "      <td>prezzo</td>\n",
              "      <td>il prezzo di quale dei nostri prodotti ti int...</td>\n",
              "      <td>SALES &amp; DISTRIBUTION</td>\n",
              "    </tr>\n",
              "    <tr>\n",
              "      <th>824</th>\n",
              "      <td>prezzo</td>\n",
              "      <td>la nuova macchina Lavazza A Modo Mio Voicy è i...</td>\n",
              "      <td>SALES &amp; DISTRIBUTION</td>\n",
              "    </tr>\n",
              "    <tr>\n",
              "      <th>142</th>\n",
              "      <td>prezzo grazie</td>\n",
              "      <td>con l'abbonamento macchina e capsule Lavazza ...</td>\n",
              "      <td>SALES &amp; DISTRIBUTION</td>\n",
              "    </tr>\n",
              "    <tr>\n",
              "      <th>451</th>\n",
              "      <td>prezzo grazie</td>\n",
              "      <td>puoi scoprire la nostra selezione di capsule ...</td>\n",
              "      <td>SALES &amp; DISTRIBUTION</td>\n",
              "    </tr>\n",
              "    <tr>\n",
              "      <th>392</th>\n",
              "      <td>prezzo lavazza a modo mio grazie</td>\n",
              "      <td>al link qui di seguito puoi trovare tutta la ...</td>\n",
              "      <td>SALES &amp; DISTRIBUTION</td>\n",
              "    </tr>\n",
              "    <tr>\n",
              "      <th>190</th>\n",
              "      <td>prezzo lavazza a modo mio grazie</td>\n",
              "      <td>al seguente link puoi trovare tutta la nostra...</td>\n",
              "      <td>SALES &amp; DISTRIBUTION</td>\n",
              "    </tr>\n",
              "    <tr>\n",
              "      <th>314</th>\n",
              "      <td>quanto costa l abbonamento</td>\n",
              "      <td>, non c’è un prezzo fisso dell’abbonamento, di...</td>\n",
              "      <td>SALES &amp; DISTRIBUTION</td>\n",
              "    </tr>\n",
              "    <tr>\n",
              "      <th>703</th>\n",
              "      <td>quanto costa l abbonamento</td>\n",
              "      <td>l'abbonamento Lavazza da Te con Lavazza A Mod...</td>\n",
              "      <td>SALES &amp; DISTRIBUTION</td>\n",
              "    </tr>\n",
              "    <tr>\n",
              "      <th>917</th>\n",
              "      <td>quanto costano le capsule</td>\n",
              "      <td>non c’è un prezzo fisso dell’abbonamento, dip...</td>\n",
              "      <td>SALES &amp; DISTRIBUTION</td>\n",
              "    </tr>\n",
              "    <tr>\n",
              "      <th>123</th>\n",
              "      <td>quanto costano le capsule</td>\n",
              "      <td>non c’è un prezzo fisso dell’abbonamento, dip...</td>\n",
              "      <td>SALES &amp; DISTRIBUTION</td>\n",
              "    </tr>\n",
              "    <tr>\n",
              "      <th>750</th>\n",
              "      <td>quanto costano le capsule</td>\n",
              "      <td>non c’è un prezzo fisso dell’abbonamento, dip...</td>\n",
              "      <td>SALES &amp; DISTRIBUTION</td>\n",
              "    </tr>\n",
              "    <tr>\n",
              "      <th>336</th>\n",
              "      <td>sono compatibili con nespresso</td>\n",
              "      <td>si ti confermiamo che le capsule che vedi nel...</td>\n",
              "      <td>no_cat</td>\n",
              "    </tr>\n",
              "    <tr>\n",
              "      <th>201</th>\n",
              "      <td>sono compatibili con nespresso</td>\n",
              "      <td>sì ti confermiamo che le capsule che vedi nel...</td>\n",
              "      <td>PRODOTTO</td>\n",
              "    </tr>\n",
              "  </tbody>\n",
              "</table>\n",
              "</div>\n",
              "    <div class=\"colab-df-buttons\">\n",
              "\n",
              "  <div class=\"colab-df-container\">\n",
              "    <button class=\"colab-df-convert\" onclick=\"convertToInteractive('df-5ca2892d-630a-4ce3-9ada-ccc182534cba')\"\n",
              "            title=\"Convert this dataframe to an interactive table.\"\n",
              "            style=\"display:none;\">\n",
              "\n",
              "  <svg xmlns=\"http://www.w3.org/2000/svg\" height=\"24px\" viewBox=\"0 -960 960 960\">\n",
              "    <path d=\"M120-120v-720h720v720H120Zm60-500h600v-160H180v160Zm220 220h160v-160H400v160Zm0 220h160v-160H400v160ZM180-400h160v-160H180v160Zm440 0h160v-160H620v160ZM180-180h160v-160H180v160Zm440 0h160v-160H620v160Z\"/>\n",
              "  </svg>\n",
              "    </button>\n",
              "\n",
              "  <style>\n",
              "    .colab-df-container {\n",
              "      display:flex;\n",
              "      gap: 12px;\n",
              "    }\n",
              "\n",
              "    .colab-df-convert {\n",
              "      background-color: #E8F0FE;\n",
              "      border: none;\n",
              "      border-radius: 50%;\n",
              "      cursor: pointer;\n",
              "      display: none;\n",
              "      fill: #1967D2;\n",
              "      height: 32px;\n",
              "      padding: 0 0 0 0;\n",
              "      width: 32px;\n",
              "    }\n",
              "\n",
              "    .colab-df-convert:hover {\n",
              "      background-color: #E2EBFA;\n",
              "      box-shadow: 0px 1px 2px rgba(60, 64, 67, 0.3), 0px 1px 3px 1px rgba(60, 64, 67, 0.15);\n",
              "      fill: #174EA6;\n",
              "    }\n",
              "\n",
              "    .colab-df-buttons div {\n",
              "      margin-bottom: 4px;\n",
              "    }\n",
              "\n",
              "    [theme=dark] .colab-df-convert {\n",
              "      background-color: #3B4455;\n",
              "      fill: #D2E3FC;\n",
              "    }\n",
              "\n",
              "    [theme=dark] .colab-df-convert:hover {\n",
              "      background-color: #434B5C;\n",
              "      box-shadow: 0px 1px 3px 1px rgba(0, 0, 0, 0.15);\n",
              "      filter: drop-shadow(0px 1px 2px rgba(0, 0, 0, 0.3));\n",
              "      fill: #FFFFFF;\n",
              "    }\n",
              "  </style>\n",
              "\n",
              "    <script>\n",
              "      const buttonEl =\n",
              "        document.querySelector('#df-5ca2892d-630a-4ce3-9ada-ccc182534cba button.colab-df-convert');\n",
              "      buttonEl.style.display =\n",
              "        google.colab.kernel.accessAllowed ? 'block' : 'none';\n",
              "\n",
              "      async function convertToInteractive(key) {\n",
              "        const element = document.querySelector('#df-5ca2892d-630a-4ce3-9ada-ccc182534cba');\n",
              "        const dataTable =\n",
              "          await google.colab.kernel.invokeFunction('convertToInteractive',\n",
              "                                                    [key], {});\n",
              "        if (!dataTable) return;\n",
              "\n",
              "        const docLinkHtml = 'Like what you see? Visit the ' +\n",
              "          '<a target=\"_blank\" href=https://colab.research.google.com/notebooks/data_table.ipynb>data table notebook</a>'\n",
              "          + ' to learn more about interactive tables.';\n",
              "        element.innerHTML = '';\n",
              "        dataTable['output_type'] = 'display_data';\n",
              "        await google.colab.output.renderOutput(dataTable, element);\n",
              "        const docLink = document.createElement('div');\n",
              "        docLink.innerHTML = docLinkHtml;\n",
              "        element.appendChild(docLink);\n",
              "      }\n",
              "    </script>\n",
              "  </div>\n",
              "\n",
              "\n",
              "<div id=\"df-6fd2858b-062e-4a0a-b22d-bb64b03f7900\">\n",
              "  <button class=\"colab-df-quickchart\" onclick=\"quickchart('df-6fd2858b-062e-4a0a-b22d-bb64b03f7900')\"\n",
              "            title=\"Suggest charts.\"\n",
              "            style=\"display:none;\">\n",
              "\n",
              "<svg xmlns=\"http://www.w3.org/2000/svg\" height=\"24px\"viewBox=\"0 0 24 24\"\n",
              "     width=\"24px\">\n",
              "    <g>\n",
              "        <path d=\"M19 3H5c-1.1 0-2 .9-2 2v14c0 1.1.9 2 2 2h14c1.1 0 2-.9 2-2V5c0-1.1-.9-2-2-2zM9 17H7v-7h2v7zm4 0h-2V7h2v10zm4 0h-2v-4h2v4z\"/>\n",
              "    </g>\n",
              "</svg>\n",
              "  </button>\n",
              "\n",
              "<style>\n",
              "  .colab-df-quickchart {\n",
              "      --bg-color: #E8F0FE;\n",
              "      --fill-color: #1967D2;\n",
              "      --hover-bg-color: #E2EBFA;\n",
              "      --hover-fill-color: #174EA6;\n",
              "      --disabled-fill-color: #AAA;\n",
              "      --disabled-bg-color: #DDD;\n",
              "  }\n",
              "\n",
              "  [theme=dark] .colab-df-quickchart {\n",
              "      --bg-color: #3B4455;\n",
              "      --fill-color: #D2E3FC;\n",
              "      --hover-bg-color: #434B5C;\n",
              "      --hover-fill-color: #FFFFFF;\n",
              "      --disabled-bg-color: #3B4455;\n",
              "      --disabled-fill-color: #666;\n",
              "  }\n",
              "\n",
              "  .colab-df-quickchart {\n",
              "    background-color: var(--bg-color);\n",
              "    border: none;\n",
              "    border-radius: 50%;\n",
              "    cursor: pointer;\n",
              "    display: none;\n",
              "    fill: var(--fill-color);\n",
              "    height: 32px;\n",
              "    padding: 0;\n",
              "    width: 32px;\n",
              "  }\n",
              "\n",
              "  .colab-df-quickchart:hover {\n",
              "    background-color: var(--hover-bg-color);\n",
              "    box-shadow: 0 1px 2px rgba(60, 64, 67, 0.3), 0 1px 3px 1px rgba(60, 64, 67, 0.15);\n",
              "    fill: var(--button-hover-fill-color);\n",
              "  }\n",
              "\n",
              "  .colab-df-quickchart-complete:disabled,\n",
              "  .colab-df-quickchart-complete:disabled:hover {\n",
              "    background-color: var(--disabled-bg-color);\n",
              "    fill: var(--disabled-fill-color);\n",
              "    box-shadow: none;\n",
              "  }\n",
              "\n",
              "  .colab-df-spinner {\n",
              "    border: 2px solid var(--fill-color);\n",
              "    border-color: transparent;\n",
              "    border-bottom-color: var(--fill-color);\n",
              "    animation:\n",
              "      spin 1s steps(1) infinite;\n",
              "  }\n",
              "\n",
              "  @keyframes spin {\n",
              "    0% {\n",
              "      border-color: transparent;\n",
              "      border-bottom-color: var(--fill-color);\n",
              "      border-left-color: var(--fill-color);\n",
              "    }\n",
              "    20% {\n",
              "      border-color: transparent;\n",
              "      border-left-color: var(--fill-color);\n",
              "      border-top-color: var(--fill-color);\n",
              "    }\n",
              "    30% {\n",
              "      border-color: transparent;\n",
              "      border-left-color: var(--fill-color);\n",
              "      border-top-color: var(--fill-color);\n",
              "      border-right-color: var(--fill-color);\n",
              "    }\n",
              "    40% {\n",
              "      border-color: transparent;\n",
              "      border-right-color: var(--fill-color);\n",
              "      border-top-color: var(--fill-color);\n",
              "    }\n",
              "    60% {\n",
              "      border-color: transparent;\n",
              "      border-right-color: var(--fill-color);\n",
              "    }\n",
              "    80% {\n",
              "      border-color: transparent;\n",
              "      border-right-color: var(--fill-color);\n",
              "      border-bottom-color: var(--fill-color);\n",
              "    }\n",
              "    90% {\n",
              "      border-color: transparent;\n",
              "      border-bottom-color: var(--fill-color);\n",
              "    }\n",
              "  }\n",
              "</style>\n",
              "\n",
              "  <script>\n",
              "    async function quickchart(key) {\n",
              "      const quickchartButtonEl =\n",
              "        document.querySelector('#' + key + ' button');\n",
              "      quickchartButtonEl.disabled = true;  // To prevent multiple clicks.\n",
              "      quickchartButtonEl.classList.add('colab-df-spinner');\n",
              "      try {\n",
              "        const charts = await google.colab.kernel.invokeFunction(\n",
              "            'suggestCharts', [key], {});\n",
              "      } catch (error) {\n",
              "        console.error('Error during call to suggestCharts:', error);\n",
              "      }\n",
              "      quickchartButtonEl.classList.remove('colab-df-spinner');\n",
              "      quickchartButtonEl.classList.add('colab-df-quickchart-complete');\n",
              "    }\n",
              "    (() => {\n",
              "      let quickchartButtonEl =\n",
              "        document.querySelector('#df-6fd2858b-062e-4a0a-b22d-bb64b03f7900 button');\n",
              "      quickchartButtonEl.style.display =\n",
              "        google.colab.kernel.accessAllowed ? 'block' : 'none';\n",
              "    })();\n",
              "  </script>\n",
              "</div>\n",
              "    </div>\n",
              "  </div>\n"
            ]
          },
          "metadata": {},
          "execution_count": 106
        }
      ]
    },
    {
      "cell_type": "code",
      "source": [
        "for index, row in df2.iterrows():\n",
        "    if len(row['Testo'].split()) < 1:\n",
        "        print(index)\n",
        "\n",
        "df2 = df2.drop([342, 553])"
      ],
      "metadata": {
        "colab": {
          "base_uri": "https://localhost:8080/"
        },
        "id": "zhQmZLkXTcI6",
        "outputId": "34c685db-3423-4107-c4cd-e5a2916241e8"
      },
      "execution_count": 7,
      "outputs": [
        {
          "output_type": "stream",
          "name": "stdout",
          "text": [
            "342\n",
            "553\n"
          ]
        }
      ]
    },
    {
      "cell_type": "code",
      "source": [
        "!pip install language_tool_python"
      ],
      "metadata": {
        "colab": {
          "base_uri": "https://localhost:8080/"
        },
        "id": "QA4cTDHdkEM8",
        "outputId": "b900a9bb-3d94-4abb-8377-68c3b58618da"
      },
      "execution_count": 16,
      "outputs": [
        {
          "output_type": "stream",
          "name": "stdout",
          "text": [
            "Collecting language_tool_python\n",
            "  Downloading language_tool_python-2.7.1-py3-none-any.whl (34 kB)\n",
            "Requirement already satisfied: requests in /usr/local/lib/python3.10/dist-packages (from language_tool_python) (2.31.0)\n",
            "Requirement already satisfied: tqdm in /usr/local/lib/python3.10/dist-packages (from language_tool_python) (4.66.1)\n",
            "Requirement already satisfied: charset-normalizer<4,>=2 in /usr/local/lib/python3.10/dist-packages (from requests->language_tool_python) (3.3.1)\n",
            "Requirement already satisfied: idna<4,>=2.5 in /usr/local/lib/python3.10/dist-packages (from requests->language_tool_python) (3.4)\n",
            "Requirement already satisfied: urllib3<3,>=1.21.1 in /usr/local/lib/python3.10/dist-packages (from requests->language_tool_python) (2.0.7)\n",
            "Requirement already satisfied: certifi>=2017.4.17 in /usr/local/lib/python3.10/dist-packages (from requests->language_tool_python) (2023.7.22)\n",
            "Installing collected packages: language_tool_python\n",
            "Successfully installed language_tool_python-2.7.1\n"
          ]
        }
      ]
    },
    {
      "cell_type": "code",
      "source": [
        "import language_tool_python\n",
        "tool = language_tool_python.LanguageTool('it')  # Italian language"
      ],
      "metadata": {
        "id": "TyQC8_4laULc"
      },
      "execution_count": 23,
      "outputs": []
    },
    {
      "cell_type": "code",
      "source": [
        "text = 'buonasera vorreile cialdi lavazza intensocome posso ordinaregrazie'\n",
        "text = \"dovetrovo le capsuleLavazza caffèmio\"\n",
        "matches = tool.check(text)\n",
        "corrected_text = language_tool_python.utils.correct(text, matches)\n",
        "print(corrected_text)"
      ],
      "metadata": {
        "colab": {
          "base_uri": "https://localhost:8080/"
        },
        "id": "IoNZT0BlajKx",
        "outputId": "c37c590c-8f25-4ec1-c5f0-82c1e7498f16"
      },
      "execution_count": 25,
      "outputs": [
        {
          "output_type": "stream",
          "name": "stdout",
          "text": [
            "dove trovo le capsuleLavazza caffè mio\n"
          ]
        }
      ]
    },
    {
      "cell_type": "code",
      "source": [
        "from autocorrect import Speller\n",
        "\n",
        "# spell = Speller(lang='en' if language == 'en' else 'it')\n",
        "spell = Speller(lang='it')\n",
        "correct_text = spell(text)\n",
        "correct_text"
      ],
      "metadata": {
        "colab": {
          "base_uri": "https://localhost:8080/",
          "height": 35
        },
        "id": "6rZVjGtNaWE9",
        "outputId": "4b8a8ba5-71cf-4fb4-ceff-802f0cb11bd3"
      },
      "execution_count": 143,
      "outputs": [
        {
          "output_type": "execute_result",
          "data": {
            "text/plain": [
              "'buonasera vorrei caldi lavazza intensocome posso ordinaregrazie'"
            ],
            "application/vnd.google.colaboratory.intrinsic+json": {
              "type": "string"
            }
          },
          "metadata": {},
          "execution_count": 143
        }
      ]
    },
    {
      "cell_type": "markdown",
      "source": [
        "# **Q&A w/ Embeddings**\n"
      ],
      "metadata": {
        "id": "nL1yYldGWZXY"
      }
    },
    {
      "cell_type": "code",
      "source": [
        "df3 = df2.copy().drop([342, 553])"
      ],
      "metadata": {
        "id": "xMBUYd1FXomp"
      },
      "execution_count": 239,
      "outputs": []
    },
    {
      "cell_type": "code",
      "source": [
        "# imports\n",
        "import pandas as pd\n",
        "import tiktoken\n",
        "import openai\n",
        "from scipy import spatial  # for calculating vector similarities for search\n",
        "\n",
        "# models\n",
        "EMBEDDING_MODEL = \"text-embedding-ada-002\"\n",
        "GPT_MODEL = \"gpt-3.5-turbo\"\n",
        "\n",
        "from openai.embeddings_utils import get_embedding\n",
        "openai.api_key = \"INSERT OPENAI KEY HERE\""
      ],
      "metadata": {
        "id": "hi-LQ8CQbFfL"
      },
      "execution_count": 240,
      "outputs": []
    },
    {
      "cell_type": "code",
      "source": [
        "# embedding model parameters\n",
        "embedding_encoding = \"cl100k_base\"  # this the encoding for text-embedding-ada-002\n",
        "max_tokens = 8150  # the maximum for text-embedding-ada-002 is 8191"
      ],
      "metadata": {
        "id": "yf1tGTzEWfPk"
      },
      "execution_count": 241,
      "outputs": []
    },
    {
      "cell_type": "code",
      "source": [
        "encoding = tiktoken.get_encoding(embedding_encoding)\n",
        "\n",
        "# omit reviews that are too long to embed\n",
        "df3[\"n_tokens\"] = df3[\"Testo\"].apply(lambda x: len(encoding.encode(x)))\n",
        "df3 = df3[df3.n_tokens <= max_tokens]\n",
        "len(df3)"
      ],
      "metadata": {
        "colab": {
          "base_uri": "https://localhost:8080/"
        },
        "id": "32NjDU_4WiB-",
        "outputId": "1137b4cc-e299-451c-f18a-ea73004a9bbf"
      },
      "execution_count": 242,
      "outputs": [
        {
          "output_type": "execute_result",
          "data": {
            "text/plain": [
              "974"
            ]
          },
          "metadata": {},
          "execution_count": 242
        }
      ]
    },
    {
      "cell_type": "code",
      "source": [
        "import spacy\n",
        "# Load the Italian language model\n",
        "nlp = spacy.load('it_core_news_sm')\n",
        "# Process the text with spaCy\n",
        "doc = nlp(text)\n",
        "\n",
        "df3[\"text_answer\"] = [ \"Domanda: \" + t + \" Risposta: \" + a for t,a in zip(df3.Testo.values, df3.Risposta.values)]"
      ],
      "metadata": {
        "id": "1wHorRI7wsoI"
      },
      "execution_count": 244,
      "outputs": []
    },
    {
      "cell_type": "code",
      "source": [
        "def get_lemma_sentence(sentence):\n",
        "    return \" \".join(token.lemma_ for token in nlp(sentence))\n",
        "\n",
        "df3[\"text_answer_lemmatized\"] = [ get_lemma_sentence(sentence) for sentence in df3.text_answer.values]"
      ],
      "metadata": {
        "id": "_dgG8dnGjby8"
      },
      "execution_count": null,
      "outputs": []
    },
    {
      "cell_type": "code",
      "source": [
        "idx = 3\n",
        "df3.iloc[idx][\"text_answer\"]"
      ],
      "metadata": {
        "colab": {
          "base_uri": "https://localhost:8080/",
          "height": 87
        },
        "id": "NhM8tkYFzxx-",
        "outputId": "bdabdb43-d543-4586-c759-d9a0883bf1f8"
      },
      "execution_count": 245,
      "outputs": [
        {
          "output_type": "execute_result",
          "data": {
            "text/plain": [
              "'Domanda: io invece per una riparazione e dopo numero lamentele mi hanno scritto via mail che mi avrebbero sostituito la macchinetta hanno ritirato la vecchia e della nuova non si hanno notizie aspetto dal 9 febbraio grazie per la serieta lavazza p s intanto mi sono rivolta a una associazione di consumatori chissa che non riescano a risolvere Risposta:  ci dispiace per quanto ci segnali e ci piacerebbe approfondire. Scrivici in privato il tuo indirizzo e-mail, un recapito telefonico ed una fascia oraria in cui preferisci essere contattata. Il nostro Servizio Consumatori ti chiamera al piu presto per offrirti supporto. Buona giornata!'"
            ],
            "application/vnd.google.colaboratory.intrinsic+json": {
              "type": "string"
            }
          },
          "metadata": {},
          "execution_count": 245
        }
      ]
    },
    {
      "cell_type": "code",
      "source": [
        "df3.iloc[idx][\"text_answer_lemmatized\"]"
      ],
      "metadata": {
        "colab": {
          "base_uri": "https://localhost:8080/",
          "height": 87
        },
        "id": "ezKft_3lzkG8",
        "outputId": "3d99c938-b7c6-48e6-fe6f-5f00322a9728"
      },
      "execution_count": 169,
      "outputs": [
        {
          "output_type": "execute_result",
          "data": {
            "text/plain": [
              "'Domanda : io invece per uno riparazione e dopo numero lamentelo mi avere scrivere via mail che mi avere sostituire il macchinetta avere ritirare il vecchio e di il nuovo non si avere notizia aspettare da il 9 febbraio grazie per il serietà lavazzo p s intanto mi essere rivolgere a uno associazione di consumatore chissà che non riescare a risolvere Risposta :   ci dispiacere per quanto ci segnale e ci piacere approfondire . Scrivici in privato il tuo indirizzo e-mail , uno recapito telefonico e uno fascia orario in cui preferire essere contattare . il nostro Servizio Consumatori ti chiamare a il più presto per offrirto supporto . Buona giornata !'"
            ],
            "application/vnd.google.colaboratory.intrinsic+json": {
              "type": "string"
            }
          },
          "metadata": {},
          "execution_count": 169
        }
      ]
    },
    {
      "cell_type": "code",
      "source": [
        "df3[\"embedding_text\"] = df3[\"Testo\"].apply(lambda x: get_embedding(x, engine=EMBEDDING_MODEL))"
      ],
      "metadata": {
        "id": "ln0KTFjfYMWf"
      },
      "execution_count": 246,
      "outputs": []
    },
    {
      "cell_type": "code",
      "source": [
        "df3[\"embedding_answer\"] = df3[\"Risposta\"].apply(lambda x: get_embedding(x, engine=EMBEDDING_MODEL))"
      ],
      "metadata": {
        "id": "dTKDE2lXIJD3"
      },
      "execution_count": 247,
      "outputs": []
    },
    {
      "cell_type": "code",
      "source": [
        "df3[\"embedding_text_answer\"] = df3[\"text_answer\"].apply(lambda x: get_embedding(x, engine=EMBEDDING_MODEL))"
      ],
      "metadata": {
        "id": "NV8bS_O_OFxQ"
      },
      "execution_count": 248,
      "outputs": []
    },
    {
      "cell_type": "code",
      "source": [
        "df3[\"embedding_text_answer_lemmatized\"] = df3[\"text_answer_lemmatized\"].apply(lambda x: get_embedding(x, engine=EMBEDDING_MODEL))"
      ],
      "metadata": {
        "id": "aIykhP0j8U_H"
      },
      "execution_count": 173,
      "outputs": []
    },
    {
      "cell_type": "code",
      "source": [
        "df3.to_csv('embedded_stip_2.csv', index=False)"
      ],
      "metadata": {
        "id": "93TMlGo-Jq6w"
      },
      "execution_count": 249,
      "outputs": []
    },
    {
      "cell_type": "code",
      "source": [
        "df3.head(2)"
      ],
      "metadata": {
        "colab": {
          "base_uri": "https://localhost:8080/",
          "height": 182
        },
        "id": "C72I90J8AqyP",
        "outputId": "a931d1af-746e-4999-f15d-3e8979728980"
      },
      "execution_count": 250,
      "outputs": [
        {
          "output_type": "execute_result",
          "data": {
            "text/plain": [
              "         Data                                              Testo  \\\n",
              "0  2022-01-07  per piacere il prezzo della scatola di divino ...   \n",
              "1  2021-12-21  quando un cliente invia una email e cortesia r...   \n",
              "\n",
              "                                            Risposta               level_1  \\\n",
              "0   il prezzo di ogni confezione di Lavazza A Mod...  SALES & DISTRIBUTION   \n",
              "1   ci dispiace per quanto ci hai segnalato. Ci p...                no_cat   \n",
              "\n",
              "   n_tokens                                        text_answer  \\\n",
              "0        16  Domanda: per piacere il prezzo della scatola d...   \n",
              "1        31  Domanda: quando un cliente invia una email e c...   \n",
              "\n",
              "                                      embedding_text  \\\n",
              "0  [-0.004994456190615892, -0.008615115657448769,...   \n",
              "1  [-0.018130943179130554, -0.0016579917864874005...   \n",
              "\n",
              "                                    embedding_answer  \\\n",
              "0  [0.0019945751409977674, 0.009431238286197186, ...   \n",
              "1  [-0.011309115216135979, -0.01535855047404766, ...   \n",
              "\n",
              "                               embedding_text_answer  \n",
              "0  [0.0040291426703333855, 0.0026195812970399857,...  \n",
              "1  [-0.008482569828629494, -0.01813698746263981, ...  "
            ],
            "text/html": [
              "\n",
              "  <div id=\"df-1ce5d16c-a009-4af4-9cfc-8de32f77bd4b\" class=\"colab-df-container\">\n",
              "    <div>\n",
              "<style scoped>\n",
              "    .dataframe tbody tr th:only-of-type {\n",
              "        vertical-align: middle;\n",
              "    }\n",
              "\n",
              "    .dataframe tbody tr th {\n",
              "        vertical-align: top;\n",
              "    }\n",
              "\n",
              "    .dataframe thead th {\n",
              "        text-align: right;\n",
              "    }\n",
              "</style>\n",
              "<table border=\"1\" class=\"dataframe\">\n",
              "  <thead>\n",
              "    <tr style=\"text-align: right;\">\n",
              "      <th></th>\n",
              "      <th>Data</th>\n",
              "      <th>Testo</th>\n",
              "      <th>Risposta</th>\n",
              "      <th>level_1</th>\n",
              "      <th>n_tokens</th>\n",
              "      <th>text_answer</th>\n",
              "      <th>embedding_text</th>\n",
              "      <th>embedding_answer</th>\n",
              "      <th>embedding_text_answer</th>\n",
              "    </tr>\n",
              "  </thead>\n",
              "  <tbody>\n",
              "    <tr>\n",
              "      <th>0</th>\n",
              "      <td>2022-01-07</td>\n",
              "      <td>per piacere il prezzo della scatola di divino ...</td>\n",
              "      <td>il prezzo di ogni confezione di Lavazza A Mod...</td>\n",
              "      <td>SALES &amp; DISTRIBUTION</td>\n",
              "      <td>16</td>\n",
              "      <td>Domanda: per piacere il prezzo della scatola d...</td>\n",
              "      <td>[-0.004994456190615892, -0.008615115657448769,...</td>\n",
              "      <td>[0.0019945751409977674, 0.009431238286197186, ...</td>\n",
              "      <td>[0.0040291426703333855, 0.0026195812970399857,...</td>\n",
              "    </tr>\n",
              "    <tr>\n",
              "      <th>1</th>\n",
              "      <td>2021-12-21</td>\n",
              "      <td>quando un cliente invia una email e cortesia r...</td>\n",
              "      <td>ci dispiace per quanto ci hai segnalato. Ci p...</td>\n",
              "      <td>no_cat</td>\n",
              "      <td>31</td>\n",
              "      <td>Domanda: quando un cliente invia una email e c...</td>\n",
              "      <td>[-0.018130943179130554, -0.0016579917864874005...</td>\n",
              "      <td>[-0.011309115216135979, -0.01535855047404766, ...</td>\n",
              "      <td>[-0.008482569828629494, -0.01813698746263981, ...</td>\n",
              "    </tr>\n",
              "  </tbody>\n",
              "</table>\n",
              "</div>\n",
              "    <div class=\"colab-df-buttons\">\n",
              "\n",
              "  <div class=\"colab-df-container\">\n",
              "    <button class=\"colab-df-convert\" onclick=\"convertToInteractive('df-1ce5d16c-a009-4af4-9cfc-8de32f77bd4b')\"\n",
              "            title=\"Convert this dataframe to an interactive table.\"\n",
              "            style=\"display:none;\">\n",
              "\n",
              "  <svg xmlns=\"http://www.w3.org/2000/svg\" height=\"24px\" viewBox=\"0 -960 960 960\">\n",
              "    <path d=\"M120-120v-720h720v720H120Zm60-500h600v-160H180v160Zm220 220h160v-160H400v160Zm0 220h160v-160H400v160ZM180-400h160v-160H180v160Zm440 0h160v-160H620v160ZM180-180h160v-160H180v160Zm440 0h160v-160H620v160Z\"/>\n",
              "  </svg>\n",
              "    </button>\n",
              "\n",
              "  <style>\n",
              "    .colab-df-container {\n",
              "      display:flex;\n",
              "      gap: 12px;\n",
              "    }\n",
              "\n",
              "    .colab-df-convert {\n",
              "      background-color: #E8F0FE;\n",
              "      border: none;\n",
              "      border-radius: 50%;\n",
              "      cursor: pointer;\n",
              "      display: none;\n",
              "      fill: #1967D2;\n",
              "      height: 32px;\n",
              "      padding: 0 0 0 0;\n",
              "      width: 32px;\n",
              "    }\n",
              "\n",
              "    .colab-df-convert:hover {\n",
              "      background-color: #E2EBFA;\n",
              "      box-shadow: 0px 1px 2px rgba(60, 64, 67, 0.3), 0px 1px 3px 1px rgba(60, 64, 67, 0.15);\n",
              "      fill: #174EA6;\n",
              "    }\n",
              "\n",
              "    .colab-df-buttons div {\n",
              "      margin-bottom: 4px;\n",
              "    }\n",
              "\n",
              "    [theme=dark] .colab-df-convert {\n",
              "      background-color: #3B4455;\n",
              "      fill: #D2E3FC;\n",
              "    }\n",
              "\n",
              "    [theme=dark] .colab-df-convert:hover {\n",
              "      background-color: #434B5C;\n",
              "      box-shadow: 0px 1px 3px 1px rgba(0, 0, 0, 0.15);\n",
              "      filter: drop-shadow(0px 1px 2px rgba(0, 0, 0, 0.3));\n",
              "      fill: #FFFFFF;\n",
              "    }\n",
              "  </style>\n",
              "\n",
              "    <script>\n",
              "      const buttonEl =\n",
              "        document.querySelector('#df-1ce5d16c-a009-4af4-9cfc-8de32f77bd4b button.colab-df-convert');\n",
              "      buttonEl.style.display =\n",
              "        google.colab.kernel.accessAllowed ? 'block' : 'none';\n",
              "\n",
              "      async function convertToInteractive(key) {\n",
              "        const element = document.querySelector('#df-1ce5d16c-a009-4af4-9cfc-8de32f77bd4b');\n",
              "        const dataTable =\n",
              "          await google.colab.kernel.invokeFunction('convertToInteractive',\n",
              "                                                    [key], {});\n",
              "        if (!dataTable) return;\n",
              "\n",
              "        const docLinkHtml = 'Like what you see? Visit the ' +\n",
              "          '<a target=\"_blank\" href=https://colab.research.google.com/notebooks/data_table.ipynb>data table notebook</a>'\n",
              "          + ' to learn more about interactive tables.';\n",
              "        element.innerHTML = '';\n",
              "        dataTable['output_type'] = 'display_data';\n",
              "        await google.colab.output.renderOutput(dataTable, element);\n",
              "        const docLink = document.createElement('div');\n",
              "        docLink.innerHTML = docLinkHtml;\n",
              "        element.appendChild(docLink);\n",
              "      }\n",
              "    </script>\n",
              "  </div>\n",
              "\n",
              "\n",
              "<div id=\"df-03c07ee6-a324-4b11-9eea-2ae5b92ec4f9\">\n",
              "  <button class=\"colab-df-quickchart\" onclick=\"quickchart('df-03c07ee6-a324-4b11-9eea-2ae5b92ec4f9')\"\n",
              "            title=\"Suggest charts.\"\n",
              "            style=\"display:none;\">\n",
              "\n",
              "<svg xmlns=\"http://www.w3.org/2000/svg\" height=\"24px\"viewBox=\"0 0 24 24\"\n",
              "     width=\"24px\">\n",
              "    <g>\n",
              "        <path d=\"M19 3H5c-1.1 0-2 .9-2 2v14c0 1.1.9 2 2 2h14c1.1 0 2-.9 2-2V5c0-1.1-.9-2-2-2zM9 17H7v-7h2v7zm4 0h-2V7h2v10zm4 0h-2v-4h2v4z\"/>\n",
              "    </g>\n",
              "</svg>\n",
              "  </button>\n",
              "\n",
              "<style>\n",
              "  .colab-df-quickchart {\n",
              "      --bg-color: #E8F0FE;\n",
              "      --fill-color: #1967D2;\n",
              "      --hover-bg-color: #E2EBFA;\n",
              "      --hover-fill-color: #174EA6;\n",
              "      --disabled-fill-color: #AAA;\n",
              "      --disabled-bg-color: #DDD;\n",
              "  }\n",
              "\n",
              "  [theme=dark] .colab-df-quickchart {\n",
              "      --bg-color: #3B4455;\n",
              "      --fill-color: #D2E3FC;\n",
              "      --hover-bg-color: #434B5C;\n",
              "      --hover-fill-color: #FFFFFF;\n",
              "      --disabled-bg-color: #3B4455;\n",
              "      --disabled-fill-color: #666;\n",
              "  }\n",
              "\n",
              "  .colab-df-quickchart {\n",
              "    background-color: var(--bg-color);\n",
              "    border: none;\n",
              "    border-radius: 50%;\n",
              "    cursor: pointer;\n",
              "    display: none;\n",
              "    fill: var(--fill-color);\n",
              "    height: 32px;\n",
              "    padding: 0;\n",
              "    width: 32px;\n",
              "  }\n",
              "\n",
              "  .colab-df-quickchart:hover {\n",
              "    background-color: var(--hover-bg-color);\n",
              "    box-shadow: 0 1px 2px rgba(60, 64, 67, 0.3), 0 1px 3px 1px rgba(60, 64, 67, 0.15);\n",
              "    fill: var(--button-hover-fill-color);\n",
              "  }\n",
              "\n",
              "  .colab-df-quickchart-complete:disabled,\n",
              "  .colab-df-quickchart-complete:disabled:hover {\n",
              "    background-color: var(--disabled-bg-color);\n",
              "    fill: var(--disabled-fill-color);\n",
              "    box-shadow: none;\n",
              "  }\n",
              "\n",
              "  .colab-df-spinner {\n",
              "    border: 2px solid var(--fill-color);\n",
              "    border-color: transparent;\n",
              "    border-bottom-color: var(--fill-color);\n",
              "    animation:\n",
              "      spin 1s steps(1) infinite;\n",
              "  }\n",
              "\n",
              "  @keyframes spin {\n",
              "    0% {\n",
              "      border-color: transparent;\n",
              "      border-bottom-color: var(--fill-color);\n",
              "      border-left-color: var(--fill-color);\n",
              "    }\n",
              "    20% {\n",
              "      border-color: transparent;\n",
              "      border-left-color: var(--fill-color);\n",
              "      border-top-color: var(--fill-color);\n",
              "    }\n",
              "    30% {\n",
              "      border-color: transparent;\n",
              "      border-left-color: var(--fill-color);\n",
              "      border-top-color: var(--fill-color);\n",
              "      border-right-color: var(--fill-color);\n",
              "    }\n",
              "    40% {\n",
              "      border-color: transparent;\n",
              "      border-right-color: var(--fill-color);\n",
              "      border-top-color: var(--fill-color);\n",
              "    }\n",
              "    60% {\n",
              "      border-color: transparent;\n",
              "      border-right-color: var(--fill-color);\n",
              "    }\n",
              "    80% {\n",
              "      border-color: transparent;\n",
              "      border-right-color: var(--fill-color);\n",
              "      border-bottom-color: var(--fill-color);\n",
              "    }\n",
              "    90% {\n",
              "      border-color: transparent;\n",
              "      border-bottom-color: var(--fill-color);\n",
              "    }\n",
              "  }\n",
              "</style>\n",
              "\n",
              "  <script>\n",
              "    async function quickchart(key) {\n",
              "      const quickchartButtonEl =\n",
              "        document.querySelector('#' + key + ' button');\n",
              "      quickchartButtonEl.disabled = true;  // To prevent multiple clicks.\n",
              "      quickchartButtonEl.classList.add('colab-df-spinner');\n",
              "      try {\n",
              "        const charts = await google.colab.kernel.invokeFunction(\n",
              "            'suggestCharts', [key], {});\n",
              "      } catch (error) {\n",
              "        console.error('Error during call to suggestCharts:', error);\n",
              "      }\n",
              "      quickchartButtonEl.classList.remove('colab-df-spinner');\n",
              "      quickchartButtonEl.classList.add('colab-df-quickchart-complete');\n",
              "    }\n",
              "    (() => {\n",
              "      let quickchartButtonEl =\n",
              "        document.querySelector('#df-03c07ee6-a324-4b11-9eea-2ae5b92ec4f9 button');\n",
              "      quickchartButtonEl.style.display =\n",
              "        google.colab.kernel.accessAllowed ? 'block' : 'none';\n",
              "    })();\n",
              "  </script>\n",
              "</div>\n",
              "    </div>\n",
              "  </div>\n"
            ]
          },
          "metadata": {},
          "execution_count": 250
        }
      ]
    },
    {
      "cell_type": "code",
      "source": [
        "df3.info()"
      ],
      "metadata": {
        "colab": {
          "base_uri": "https://localhost:8080/"
        },
        "id": "d_ZO6mqnYX_X",
        "outputId": "d38e9cce-cab1-4bd0-cc5a-4d6b5081ac84"
      },
      "execution_count": 251,
      "outputs": [
        {
          "output_type": "stream",
          "name": "stdout",
          "text": [
            "<class 'pandas.core.frame.DataFrame'>\n",
            "Int64Index: 974 entries, 0 to 975\n",
            "Data columns (total 9 columns):\n",
            " #   Column                 Non-Null Count  Dtype \n",
            "---  ------                 --------------  ----- \n",
            " 0   Data                   974 non-null    object\n",
            " 1   Testo                  974 non-null    object\n",
            " 2   Risposta               974 non-null    object\n",
            " 3   level_1                974 non-null    object\n",
            " 4   n_tokens               974 non-null    int64 \n",
            " 5   text_answer            974 non-null    object\n",
            " 6   embedding_text         974 non-null    object\n",
            " 7   embedding_answer       974 non-null    object\n",
            " 8   embedding_text_answer  974 non-null    object\n",
            "dtypes: int64(1), object(8)\n",
            "memory usage: 76.1+ KB\n"
          ]
        }
      ]
    },
    {
      "cell_type": "code",
      "source": [
        "# search function\n",
        "def strings_ranked_by_relatedness(\n",
        "        query: str,\n",
        "        df: pd.DataFrame,\n",
        "        relatedness_fn=lambda x, y: 1 - spatial.distance.cosine(x, y),\n",
        "        top_n: int = 100) -> tuple[list[str], list[float]]:\n",
        "\n",
        "    \"\"\"\n",
        "    Returns a list of strings and relatednesses,\n",
        "    sorted from most related to least.\n",
        "    \"\"\"\n",
        "\n",
        "    query = preprocess_text(query)\n",
        "    #print(query)\n",
        "    query_embedding_response = openai.Embedding.create(\n",
        "        model=EMBEDDING_MODEL,\n",
        "        input=query,\n",
        "    )\n",
        "\n",
        "    query_embedding = query_embedding_response[\"data\"][0][\"embedding\"]\n",
        "    strings_and_relatednesses = [\n",
        "        (row[\"Data\"], row[\"Testo\"], row[\"Risposta\"], relatedness_fn(query_embedding, row[\"embedding_text_answer\"]))\n",
        "        for i, row in df.iterrows()\n",
        "    ]\n",
        "\n",
        "    strings_and_relatednesses.sort(key=lambda x: x[3], reverse=True)\n",
        "    data, testo, risposta, relatednesses = zip(*strings_and_relatednesses)\n",
        "\n",
        "    return data[:top_n], testo[:top_n], risposta[:top_n], relatednesses[:top_n]\n"
      ],
      "metadata": {
        "id": "wgNYOX50_V_E"
      },
      "execution_count": 257,
      "outputs": []
    },
    {
      "cell_type": "code",
      "source": [
        "# examples\n",
        "t1 = \"dove posso trovare delle capsule oro?\"\n",
        "t3 = \"dove trovo lavazza a modo mio\"\n",
        "t4 = \"quanto costa divino?\"\n",
        "t5 = \"che tempo fa domani?\"\n",
        "t6 = \"dv pss acquistar le cilde per il dekaffeinato?\"\n",
        "t7 = \"quando saranno disponibili nuovamente le jolie milk?\"\n",
        "t8 = \"prezzo qualità rossa\"\n",
        "t9 = \"Uno dei vostri prodotti fa il cappuccino?\"\n",
        "t10 = \"Si può fare caffè senza capsule? \"\n",
        "t11 = \"come butto le capsule?\"\n",
        "t12 = \"quanto costano le vostre capsule rosse?\"\n",
        "t_n = \"il caffè sarà anche ottimo ma l assistenza lascia proprio desiderare più volte ho inviato l email e i miei problemi non sono stati risolti un premio ordinato il 20 dicembre e ancora non è stato spedito e una milk up di 2000 punti che non prepara la cioccolata calda come dovrebbe ma rimane liquida e fredda\""
      ],
      "metadata": {
        "id": "3ibLcEGvRBPW"
      },
      "execution_count": 253,
      "outputs": []
    },
    {
      "cell_type": "code",
      "source": [
        "date, testi, risposte, relatednesses = strings_ranked_by_relatedness(t3, df3, top_n=5)\n",
        "for data, testo, risposta, relatedness in zip(date, testi, risposte, relatednesses):\n",
        "    print(f\"{relatedness=:.4f}\")\n",
        "    display(testo)\n",
        "    display(risposta)\n",
        "    print()"
      ],
      "metadata": {
        "colab": {
          "base_uri": "https://localhost:8080/",
          "height": 687
        },
        "id": "HpPGedqnCB9h",
        "outputId": "7049d172-94dd-4506-b7c4-4f28eaef4f58"
      },
      "execution_count": 183,
      "outputs": [
        {
          "output_type": "stream",
          "name": "stdout",
          "text": [
            "relatedness=0.8802\n"
          ]
        },
        {
          "output_type": "display_data",
          "data": {
            "text/plain": [
              "'consumo solo lavazza oro in capsule per macchina a modo mio non nascondo però la difficoltà nel reperire il vostro prodotto presso i venditori di capsule non si trova assolutamente solo da esselunga è quasi sempre disponibile comunque si tratta di caffè ottimo'"
            ],
            "application/vnd.google.colaboratory.intrinsic+json": {
              "type": "string"
            }
          },
          "metadata": {}
        },
        {
          "output_type": "display_data",
          "data": {
            "text/plain": [
              "\" ti aiutiamo noi: scrivici in privato la zona di tuo interesse, ti indicheremo i punti vendita nei quali potrai trovare le nostre capsule Lavazza A Modo Mio Qualità Oro. Se lo desideri, le trovi anche sul nostro sito, al seguente link: https://www.lavazza.it/it/caffe/capsule/a-modo-mio/qualita-oro.html nei vari formati e con i relativi prezzi. Conosci l'abbonamento Lavazza da Te? Potrai acquistare le tue capsule Lavazza A Modo Mio preferite scontate del 40%, con almeno 12 confezioni. Le spese di spedizione sono sempre gratuite e puoi anche personalizzare la frequenza e l'assortimento dei tuoi ordini secondo le tue esigenze. Inoltre, ti segnaliamo che fino al 31 Maggio sottoscrivendo l'abbonamento riceverai un buono Zalando del valore di 15€. Per maggiori informazioni clicca qui: https://www.lavazza.it/it/lavazza-da-te/abbonamento-capsule/capsule-a-modo-mio.html Buona giornata! :)\""
            ],
            "application/vnd.google.colaboratory.intrinsic+json": {
              "type": "string"
            }
          },
          "metadata": {}
        },
        {
          "output_type": "stream",
          "name": "stdout",
          "text": [
            "\n",
            "relatedness=0.8763\n"
          ]
        },
        {
          "output_type": "display_data",
          "data": {
            "text/plain": [
              "'e a modo mio'"
            ],
            "application/vnd.google.colaboratory.intrinsic+json": {
              "type": "string"
            }
          },
          "metadata": {}
        },
        {
          "output_type": "display_data",
          "data": {
            "text/plain": [
              "\" puoi trovare le nostre capsule Lavazza A Modo Mio nei vari formati e con i relativi prezzi al seguente link: https://www.lavazza.it/it/caffe/capsule.html Conosci l'abbonamento Lavazza da Te? Potrai acquistare le tue capsule preferite Lavazza A Modo Mio scontate del 40%, con almeno 12 confezioni. Le spese di spedizione sono sempre gratuite e puoi anche personalizzare la frequenza degli ordini secondo le tue esigenze, così come l'assortimento. Per saperne di più, clicca qui: https://www.lavazza.it/it/lavazza-da-te/abbonamento-capsule/capsule-a-modo-mio.html Per qualunque dubbio o necessità non esitare a contattarci al Numero Verde 800124535. Buona giornata! :)\""
            ],
            "application/vnd.google.colaboratory.intrinsic+json": {
              "type": "string"
            }
          },
          "metadata": {}
        },
        {
          "output_type": "stream",
          "name": "stdout",
          "text": [
            "\n",
            "relatedness=0.8753\n"
          ]
        },
        {
          "output_type": "display_data",
          "data": {
            "text/plain": [
              "'il prezzo della lavazza a modo mio'"
            ],
            "application/vnd.google.colaboratory.intrinsic+json": {
              "type": "string"
            }
          },
          "metadata": {}
        },
        {
          "output_type": "display_data",
          "data": {
            "text/plain": [
              "\" vuoi acquistare una macchina per la tua casa? In tal caso, ti consigliamo di visitare la pagina dedicata al sistema A Modo Mio: https://www.lavazza.it/it/macchine.html Conosci l'abbonamento Lavazza da Te? Riceverai una macchina in regalo acquistando un minimo di capsule, a seconda del modello prescelto. Clicca qui per avere maggiori informazioni: https://www.lavazza.it/it/lavazza-da-te/abbonamento-macchina-e-capsule.html Buona giornata!\""
            ],
            "application/vnd.google.colaboratory.intrinsic+json": {
              "type": "string"
            }
          },
          "metadata": {}
        },
        {
          "output_type": "stream",
          "name": "stdout",
          "text": [
            "\n",
            "relatedness=0.8753\n"
          ]
        },
        {
          "output_type": "display_data",
          "data": {
            "text/plain": [
              "'non riesco a trovare le cialde decaffeinato per la lavazza a modo mio mi aiutate grazie'"
            ],
            "application/vnd.google.colaboratory.intrinsic+json": {
              "type": "string"
            }
          },
          "metadata": {}
        },
        {
          "output_type": "display_data",
          "data": {
            "text/plain": [
              "\" certo! Puoi trovare le nostre capsule Lavazza A Modo Mio Dek Cremoso al seguente link: https://www.lavazza.it/it/capsule/a-modo-mio-dek-cremoso Conosci già l'abbonamento Lavazza da Te? Potrai acquistare le tue capsule A Modo Mio preferite scontate del 40%, con un prezzo per capsula a partire da 0,24€ e con almeno 12 confezioni. Le spese di spedizione sono sempre gratuite e potrai personalizzare la frequenza degli ordini in base alle tue esigenze, così come l'assortimento. Clicca qui per saperne di più: https://www.lavazza.it/it/lavazza-da-te/abbonamento-capsule/capsule-a-modo-mio.html Buona giornata :)\""
            ],
            "application/vnd.google.colaboratory.intrinsic+json": {
              "type": "string"
            }
          },
          "metadata": {}
        },
        {
          "output_type": "stream",
          "name": "stdout",
          "text": [
            "\n",
            "relatedness=0.8752\n"
          ]
        },
        {
          "output_type": "display_data",
          "data": {
            "text/plain": [
              "'lo posso trovare anche in capsule per la macchina lavazza a modo mio'"
            ],
            "application/vnd.google.colaboratory.intrinsic+json": {
              "type": "string"
            }
          },
          "metadata": {}
        },
        {
          "output_type": "display_data",
          "data": {
            "text/plain": [
              "\" sì! Trovi le nostre capsule Lavazza A Modo Mio corrispondenti alla miscela che cerchi al seguente link: https://www.lavazza.it/it/caffe/capsule/a-modo-mio/tierra-single-origin--brasile---cerrado.html Conosci l'abbonamento Lavazza da Te? Potrai acquistare le tue capsule preferite Lavazza A Modo Mio scontate del 40%, con almeno 12 confezioni. Le spese di spedizione sono sempre gratuite e puoi anche personalizzare la frequenza degli ordini secondo le tue esigenze, così come l'assortimento. Per saperne di più, clicca qui: https://www.lavazza.it/it/lavazza-da-te/abbonamento-capsule/capsule-a-modo-mio.html Per qualunque dubbio o necessità non esitare a contattarci al Numero Verde 800124535. Buona giornata!\""
            ],
            "application/vnd.google.colaboratory.intrinsic+json": {
              "type": "string"
            }
          },
          "metadata": {}
        },
        {
          "output_type": "stream",
          "name": "stdout",
          "text": [
            "\n"
          ]
        }
      ]
    },
    {
      "cell_type": "code",
      "source": [
        "def num_tokens(text: str, model: str = GPT_MODEL) -> int:\n",
        "    \"\"\"Return the number of tokens in a string.\"\"\"\n",
        "    encoding = tiktoken.encoding_for_model(model)\n",
        "    return len(encoding.encode(text))\n",
        "\n",
        "\n",
        "def query_message(\n",
        "        query: str,\n",
        "        df: pd.DataFrame,\n",
        "        model: str,\n",
        "        token_budget: int\n",
        "    ) -> str:\n",
        "\n",
        "    \"\"\"\n",
        "    Return a message for GPT,\n",
        "    with relevant source texts pulled from a dataframe.\n",
        "    \"\"\"\n",
        "    query_lemma = get_lemma_sentence(query)\n",
        "    print(\"QUERY\", query)\n",
        "    dates, strings, answers, relatednesses = strings_ranked_by_relatedness(query_lemma, df)\n",
        "    #print(strings[0])\n",
        "    #print(answers[0])\n",
        "    introduction = \"\"\"\n",
        "        Sei un chatbot gentile che risponde ai clienti di Lavazza per assisterli sui suoi prodotti.\n",
        "        Per rispondere, utilizza le seguenti coppie di domande e risposte fatte dai clienti algi assistenti che lavorano per l'azienda Lavazza.\n",
        "        Se hai a disposizione molte informazioni, preferisci rispondere basandoti sulla data più recente.\n",
        "        Sii il più specifico possibile, fornisci links e/o numero di telefono se necessario.\n",
        "        Se non trovi una risposta specifica vai sul sito ufficiale \"https://www.lavazza.it/it/\" e cerca il prodotto che viene richiesto, fornendo il link completo al cliente.\n",
        "        Se la domanda/affermazione fa emergere delle complicanze rispondi scusandoti ed invitando a contattare il servizio clienti al\n",
        "        Numero Verde 800124535 o all'indirizzo e-mail info@lavazza.it\"\n",
        "        Se non trovi risposta rispondi 'Non trovo una risposta, puoi essere più specifico?'\n",
        "        \"\"\"\n",
        "\n",
        "    question = f\"\\n\\nQuestion: {query}\"\n",
        "    message = introduction\n",
        "\n",
        "    #for string in strings:\n",
        "    distinct_answers = set()\n",
        "    for data, string, answer in zip(dates, strings ,answers):\n",
        "        if (\n",
        "            num_tokens(message + f\"Data: {data}\" + f\"n\\Domanda: {string}\" + f\"\\nRisposta: {answer}\\n\" + question, model=model)\n",
        "            > token_budget\n",
        "        ) or answer.lower() in distinct_answers:\n",
        "            break\n",
        "        else:\n",
        "            message += \"\\n\" + f\"Data: {data}\" + f\"\\nDomanda: {string}\" + f\"\\nRisposta: {answer}\\n\"\n",
        "            distinct_answers.update(answer.lower())\n",
        "    return message + \"\\n\" + question\n",
        "\n",
        "\n",
        "def ask(\n",
        "        query: str,\n",
        "        df: pd.DataFrame = df3,\n",
        "        model: str = GPT_MODEL,\n",
        "        token_budget: int = 4096 - 200,\n",
        "        print_message: bool = False,\n",
        "    ) -> str:\n",
        "\n",
        "    \"\"\"Answers a query using GPT and a dataframe of relevant texts and embeddings.\"\"\"\n",
        "\n",
        "    message = query_message(query, df, model=model, token_budget=token_budget)\n",
        "    if print_message:\n",
        "        print(message)\n",
        "\n",
        "    messages = [\n",
        "        {\"role\": \"system\", \"content\": \"Sei un chatbot che risponde ai clienti di Lavazza per assisterli sui suoi prodotti.\"},\n",
        "        {\"role\": \"user\", \"content\": message},\n",
        "    ]\n",
        "\n",
        "    response = openai.ChatCompletion.create(\n",
        "        model=model,\n",
        "        messages=messages,\n",
        "        temperature=0\n",
        "    )\n",
        "    response_message = response[\"choices\"][0][\"message\"][\"content\"]\n",
        "    return response_message\n",
        "\n"
      ],
      "metadata": {
        "id": "q2CxR70eCE7J"
      },
      "execution_count": 279,
      "outputs": []
    },
    {
      "cell_type": "code",
      "source": [
        "ask(t11, print_message=True)"
      ],
      "metadata": {
        "id": "WlrQM_gJQ_eO"
      },
      "execution_count": null,
      "outputs": []
    },
    {
      "cell_type": "code",
      "source": [
        "t12 = \"quanto costa le vostre capsule qualità rossa?\"\n",
        "t13= \"in che città posso trovare la desea e in quale rivenditore\""
      ],
      "metadata": {
        "id": "TH8UvWgVuXRK"
      },
      "execution_count": 255,
      "outputs": []
    },
    {
      "cell_type": "code",
      "source": [
        "ask(\"qual'è stato l'ultimo presidente d'italia\", print_message=True)"
      ],
      "metadata": {
        "colab": {
          "base_uri": "https://localhost:8080/",
          "height": 1000
        },
        "id": "ofVFcl1qzR20",
        "outputId": "c2dc75a3-5f30-4623-cabd-c088e04d9135"
      },
      "execution_count": 280,
      "outputs": [
        {
          "output_type": "stream",
          "name": "stdout",
          "text": [
            "QUERY qual'è stato l'ultimo presidente d'italia\n",
            "\n",
            "        Sei un chatbot gentile che risponde ai clienti di Lavazza per assisterli sui suoi prodotti.\n",
            "        Per rispondere, utilizza le seguenti coppie di domande e risposte fatte dai clienti algi assistenti che lavorano per l'azienda Lavazza. \n",
            "        Se hai a disposizione molte informazioni, preferisci rispondere basandoti sulla data più recente.\n",
            "        Sii il più specifico possibile, fornisci links e/o numero di telefono se necessario.\n",
            "        Se non trovi una risposta specifica vai sul sito ufficiale \"https://www.lavazza.it/it/\" e cerca il prodotto che viene richiesto, fornendo il link completo al cliente.\n",
            "        Se la domanda/affermazione fa emergere delle complicanze rispondi scusandoti ed invitando a contattare il servizio clienti al \n",
            "        Numero Verde 800124535 o all'indirizzo e-mail info@lavazza.it\"\n",
            "        Se non trovi risposta rispondi 'Non trovo una risposta, puoi essere più specifico?' \n",
            "        \n",
            "Data: 2021-10-09\n",
            "Domanda: mai piu lavazza ditta assai poco seria pubblicita da quattro soldi politicamente corretta quindi demagogica che ha molto poco a che vedere col caffe e poi rapporto coi clienti da dittarella di quart ordine partite di capsule difettose prontamente segnalate con prove fotografiche e video neanche risarcite neanche una scusa rivoltante oggi compro un altro caffe di gran lunga piu buono e meno caro\n",
            "Risposta:   siamo molto dispiaciuti per quanto ci segnali. Vorremmo approfondire quanto accaduto, inviaci il tuo numero di telefono e indirizzo mail tramite messaggio privato, ti ricontatteremo quanto prima. Buona giornata!\n",
            "\n",
            "Data: 2022-04-19\n",
            "Domanda: bravo e quello che successo a me sotto natale o preso anche per fare dei regali e per fortuna che mi serviva anche per me uno schifo o dovuto prendere altro quindi un altra spesa per la mia pensione gia misera\n",
            "Risposta:  come scritto in precedenza, vorremmo approfondire quanto ci segnali per poterti offrire supporto. Scrivici in privato il tuo indirizzo e-mail ed un recapito telefonico con l'orario in cui preferisci essere ricontattato. Il nostro Servizio Consumatori ti chiamera il prima possibile. Buona giornata!\n",
            "\n",
            "Data: 2021-07-14\n",
            "Domanda: ma ci sara davvero questa scatola per me e stupenda\n",
            "Risposta: Ciao, la lattina di caffe Lavazza Qualita Azzurra non e in vendita: si tratta di una rivisitazione giocosa e celebrativa che abbiamo ideato per la vittoria dei campionati Europei di calcio \n",
            "\n",
            "Data: 2021-11-20\n",
            "Domanda: abbiamo speso soldi in cialde e ultima macchina desea 200 avete spedito la tazza presa finalmente con i chicchi poiche non era mai disponibile all acquisto desea ad un altro sig in un altra regione il pacco risulta consegnato ma come lavorate\n",
            "Risposta:  ci dispiace. Scrivici in privato i tuoi contatti: nome e cognome, numero di telefono e indirizzo email, il nostro Servizio Consumatori ti contattera per approfondire l'accaduto. Buona giornata!\n",
            "\n",
            "Data: 2021-06-14\n",
            "Domanda: io sinceramente non ho mai dato molta corda ai fatti politici legati ai marchi tipo lavazza ma ultimamente pure a livello qualitativo del marchio stiamo rasentando il ridicolo fanno uscire nuovi gusti che sembrano peggio di una spruzzata di limone in bocca molti classici stanno sparendo e non ti danno nemmeno una spiegazione decente il mese scorso ho scritto una mail a voi per capire che fine ha fatto il qualita rossa dek e il magia e mi e stato risposto che sono fuori produzione ora fine ma perche perche non vendeva perche era tossico 0 spiegazioni se pensiamo a quanto caffe al giorno beviamo viene male sapere che il servizio clienti non ti risponde per rassicurarti del motivo del ritiro dal commercio di un prodotto che veniva consumato quotidianamente\n",
            "Risposta:  come ti abbiamo scritto anche via mail ci dispiace che la nostra precedente risposta non sia stata esaustiva.\n",
            "La distribuzione del prodotto Qualita Rossa Dek e stata interrotta per motivazioni commerciali; puoi consumare le confezioni che avevi acquistato con tutta tranquillita, non sono assolutamente dannose per la salute.\n",
            "Se hai riscontrato dei problemi con i nostri prodotti ti invitiamo a fornirci tutti i dettagli per poter approfondire: la nostra azienda ha sinceramente a cuore il mantenimento di un elevato standard qualitativo dei propri prodotti e faremo tutti i controlli necessari.\n",
            "Buona giornata!\n",
            "\n",
            "Data: 2021-08-03\n",
            "Domanda: che peccato sono 2 settimane che giro tutti i supermercati alla ricerca di questa confezione\n",
            "Risposta:  la lattina di caffe Lavazza Qualita Azzurra non e in vendita: si tratta di una rivisitazione giocosa e celebrativa che abbiamo ideato per la vittoria dei campionati Europei di calcio \n",
            "\n",
            "Data: 2021-07-15\n",
            "Domanda: ma e un deca o normale\n",
            "Risposta:  la lattina di caffe Lavazza Qualita Azzurra non e in vendita: si tratta di una rivisitazione giocosa e celebrativa che abbiamo ideato per la vittoria dei campionati Europei di calcio \n",
            "\n",
            "Data: 2022-06-05\n",
            "Domanda: sono anni che e il mio preferito qualita oro\n",
            "Risposta:  siamo davvero contenti che il nostro Qualita Oro ti tenga compagnia da tanto tempo :) Sono gli apprezzamenti come i tuoi a spingerci di continuo a migliorare e a renderci orgogliosi! Resta sempre aggiornata sul mondo Lavazza e continua a seguirci sul nostro sito www.lavazza.it. Buona serata!\n",
            "\n",
            "Data: 2022-01-11\n",
            "Domanda: e che inquinamento premetto che ho la macchina per le capsule ma tante volte preferisco farlo in caffettiera mi sta venendo la fobia dell inquinamento\n",
            "Risposta:  il tema della sostenibilita e cruciale per noi. Crediamo molto nei futuri sviluppi della tecnologia compostabile e stiamo mettendo tutto il nostro impegno nella ricerca e sperimentazione di soluzioni compostabili che coinvolgano tutte le gamme di prodotti a medio-lungo termine. La nostra capsula compostabile e, ad oggi, in test in alcuni Mercati e l'intenzione e quella di renderla disponibile anche in Italia. Continua a seguirci, ti aggiorneremo presto sulle prossime novita. Buona serata!\n",
            "\n",
            "Data: 2021-11-06\n",
            "Domanda: quando farete le capsule compostabili\n",
            "Risposta:  il tema della sostenibilita e cruciale per noi. Crediamo molto nei futuri sviluppi della tecnologia compostabile e stiamo mettendo tutto il nostro impegno nella ricerca e sperimentazione di soluzioni compostabili che coinvolgano tutte le gamme di prodotti a medio-lungo termine. La nostra capsula compostabile e, ad oggi, in test in alcuni Mercati e l'intenzione e quella di renderla disponibile anche in Italia. Continua a seguirci, ti aggiorneremo presto sulle prossime novita.\n",
            "\n",
            "Data: 2022-06-06\n",
            "Domanda: ognuno puo comprare quello che vuole ma se hai un problema attento\n",
            "Risposta: Gentile Mario, ti invitiamo ancora una volta, come gia fatto in precedenza, a scriverci in privato i tuoi dettagli di contatto (indirizzo mail e numero di telefono), in modo da trovare insieme una soluzione a quanto ci hai segnalato. Grazie e buona giornata!\n",
            "\n",
            "Data: 2022-02-14\n",
            "Domanda: avete gia le mie email e il mio recapito telefonico ogni volta mi dite che mi ricontattate e non chiamate e quando mi contattate non mantenete la promessa data come ad esempio l ultimo operatore che mi ha detto la richiamo alle ore 15 di sabato 12 e sto ancora aspettando assistenza pessima\n",
            "Risposta:  ci dispiace molto non essere riusciti a contattarti nella fascia oraria che ci avevi indicato. Ci piacerebbe davvero poterti aiutare, per questo motivo puoi indicarci delle nuove disponibilita nei prossimi giorni, in modo da poterti dare supporto? Buona giornata!\n",
            "\n",
            "Data: 2022-04-20\n",
            "Domanda: grazie alla prossima io mi trovo a torino e domani parto e non ce la faccio grazie\n",
            "Risposta:  non esitare a contattarci per qualsiasi altra richiesta. Buona giornata!\n",
            "\n",
            "Data: 2021-12-29\n",
            "Domanda: patrizia paffy zuolo credimi adesso e realmente schifoso mi hanno contattato e mi hanno chiesto la scatola ma io l avevo buttata mi hanno offerto uno sconto di 5 euro se acquisto per 20 euro patetici ma scrivero qui ancora\n",
            "Risposta: Ciao Franco! Come ti abbiamo scritto, per noi e molto importante poter effettuare delle analisi di dettaglio dei prodotti contestati, partendo dalla registrazione del numero di lotto, fino ad eseguire ulteriori prove di erogazione sui contro campioni. Non avendo a disposizione il prodotto fisico, non abbiamo potuto procedere con le analisi. Abbiamo quindi previsto per te un codice sconto, a titolo di cortesia e per ringraziarti di averci comunque dedicato del tempo con la tua segnalazione. Restiamo a tua disposizione nel caso in cui dovessi avere ancora bisogno di noi.\n",
            "\n",
            "Data: 2022-05-26\n",
            "Domanda: sono forse 30 anni che bevo lavazza paulista ma e da molto che non lo trovo piu ho ripiegato su lavazza qualita rossa buono comunque\n",
            "Risposta:  se lo desideri, il Gran Cafe Paulista Lavazza e in vendita anche sul nostro sito! Puoi acquistarlo al seguente link: https://www.lavazza.it/it/caffe/macinato/gran-cafe-paulista-tin.html Se hai altri dubbi o richieste, siamo qui per darti supporto! Scrivici a info@lavazza.it o chiamaci al Numero Verde 800124535. Buona serata :)\n",
            "\n",
            "Data: 2021-07-01\n",
            "Domanda: non ho vinto\n",
            "Risposta:  hai tempo fino al 18 luglio per acquistare i prodotti Lavazza e provare a vincere i premi palio! Buona giornata!\n",
            "\n",
            "Data: 2021-07-08\n",
            "Domanda: ma in cosi pochi luoghi l avete messo qua a colleferro la vedremo nel 2030 perd\n",
            "Risposta:  i nuovi prodotti Lavazza Iced Coffee Cappuccino e Double Espresso&Milk sono al momento distribuiti solo presso alcuni punti vendita,\n",
            "Continua a seguirci per rimanere aggiornata sulla loro distribuzione e sulle novita del mondo Lavazza! Buona giornata!\n",
            "\n",
            "Data: 2021-10-15\n",
            "Domanda: come mai non producete capsule compostabili spero arrivino presto grazie\n",
            "Risposta:  per quanto riguarda l'Italia, l'approccio alla sostenibilita e attualmente focalizzato sulla riduzione delle emissioni di carbonio, in tutte le fasi della raccolta del caffe, della produzione e del fine vita delle capsule. Continua a seguirci per non perdere le novita che arriveranno in futuro: infatti stiamo lavorando in molteplici direzioni, con soluzioni studiate per ogni singolo Paese, affinche siano realmente efficaci e incontrino le richieste dei nostri consumatori. Buona giornata!\n",
            "\n",
            "Data: 2022-04-06\n",
            "Domanda: un vero schifo il peggio del peggio in capsule di alluminio compatibili con macchine nespresso qualita infima e prezzo esoso per finanziare il battage pubblicitario davvero il peggio\n",
            "Risposta:  ci dispiace per quanto ci segnali. Se lo desideri, scrivici in privato il tuo indirizzo e-mail e un recapito telefonico, specificando possibilmente la fascia oraria in cui preferisci essere ricontattato: il nostro Servizio Consumatori ti richiamera per parlarne. Buona giornata!\n",
            "\n",
            "Data: 2021-12-27\n",
            "Domanda: a modo mio prossimo al disimpegno\n",
            "Risposta: , in cosa possiamo aiutarti? Buona giornata!\n",
            "\n",
            "Data: 2021-09-28\n",
            "Domanda: bellissima scatola la voglioooo\n",
            "Risposta:  la lattina di caffe Lavazza Qualita Azzurra non e in vendita: si tratta di una rivisitazione giocosa e celebrativa che abbiamo ideato per la vittoria dei campionati Europei di calcio, ma grazie comunque per l'interesse mostrato, buona giornata!  \n",
            "\n",
            "Data: 2021-12-21\n",
            "Domanda: mi dispeace mi aspetavo chi fose bonisima esendo una consumatrice di lavazza oro\n",
            "Risposta:  ci piacerebbe darti supporto e approfondire quanto ci segnali. Inviaci in privato il tuo numero di telefono e l'indirizzo email, con un orario in cui se disponibile per essere contattata dal nostro Servizio Consumatori. Buona giornata!\n",
            "\n",
            "Data: 2021-10-04\n",
            "Domanda: ho smesso di bere lavazza dopo il ritiro del paulista chi vi capisce e bravo\n",
            "Risposta:  il caffe Paulista e nuovamente disponibile e al momento e acquistabile solo presso alcuni bar selezionati. Se sei interessato, facci sapere da dove ci scrivi: verificheremo se nella tua zona e possibile acquistarlo. Buona giornata!\n",
            "\n",
            "Data: 2022-06-10\n",
            "Domanda: da sempre solo lavazza d oro\n",
            "Risposta:  grazie per essere una nostra affezionata cliente! Continua a seguirci per rimanere sempre aggiornata sulle novita del mondo Lavazza. Buona serata! :)\n",
            "\n",
            "Data: 2022-05-31\n",
            "Domanda: nessuno mi ha risarcito i soldi che ho continuato a spendere per la lavazza le scaglie erano ben evidenti e il sapore pure non era cambiato non solo per me ma anche per il resto della famiglia cambiero caffe spero di essere piu fortunata potete fare a meno di mandarmi pubblicita della vostra ditta basta cosi non posso stare a chiamare tutti i giorni il numero verde della lavazza per le rimostranze\n",
            "Risposta: Cristina, come ti abbiamo scritto, per noi e molto importante poter effettuare delle analisi di dettaglio dei prodotti contestati, partendo dalla registrazione del numero di lotto, fino ad eseguire ulteriori prove di erogazione sui contro campioni. Non avendo a disposizione il prodotto fisico, non abbiamo potuto procedere con le analisi. Abbiamo quindi previsto per te un codice sconto, a titolo di cortesia e per ringraziarti di averci comunque dedicato del tempo con la tua segnalazione. Restiamo a tua disposizione nel caso in cui dovessi avere ancora bisogno di noi. Buona giornata!\n",
            "\n",
            "\n",
            "\n",
            "Question: qual'è stato l'ultimo presidente d'italia\n"
          ]
        },
        {
          "output_type": "execute_result",
          "data": {
            "text/plain": [
              "'Mi dispiace, ma non sono in grado di rispondere a questa domanda. Potresti cercare su Internet o consultare fonti affidabili per trovare la risposta corretta.'"
            ],
            "application/vnd.google.colaboratory.intrinsic+json": {
              "type": "string"
            }
          },
          "metadata": {},
          "execution_count": 280
        }
      ]
    },
    {
      "cell_type": "markdown",
      "source": [
        "# Topic Modeling"
      ],
      "metadata": {
        "id": "SIxVl15XzWP8"
      }
    },
    {
      "cell_type": "code",
      "source": [
        "def tokenize(text):\n",
        "    tokens = nltk.word_tokenize(text)\n",
        "    return tokens\n",
        "\n",
        "def is_stopwords(token):\n",
        "    if token in it_stop:\n",
        "        return True\n",
        "    return False\n",
        "\n",
        "def get_lemma(token):\n",
        "    return WordNetLemmatizer().lemmatize(token)\n",
        "\n",
        "def transform(text):\n",
        "    tokens = tokenize(text)\n",
        "    tokens = [token.lower() for token in tokens]\n",
        "    tokens = [token for token in tokens if len(token) > 3]\n",
        "    tokens = [token for token in tokens if token not in it_stop]\n",
        "    tokens = [get_lemma(token) for token in tokens]\n",
        "    return tokens"
      ],
      "metadata": {
        "id": "SzURNHYd0mps"
      },
      "execution_count": 142,
      "outputs": []
    },
    {
      "cell_type": "code",
      "source": [
        "#Trying to retrieve products by means of SPACY NER\n",
        "\n",
        "products = []\n",
        "for i,el in df2.iterrows():\n",
        "    text = el[\"Testo\"] + el[\"Risposta\"]\n",
        "    doc = nlp(text)\n",
        "\n",
        "    for entity in doc.ents:\n",
        "        if (len(entity.text.split()) > 1 and len(entity.text.split()) < 4) and (\n",
        "                not any(el for el in entity.text.lower().split() if el in [\"ciao\", \"lavazza\", \"buona\", \"numero\", \"servizio\", \"buongiorno\", \"amazon\", \"assistenza\", \"europei\" \"vorrei\"]\n",
        "                or \"http\" in el or \"www\" in el)\n",
        "            ) and entity.label_ != \"LOC\":\n",
        "\n",
        "            products.append((entity.text, entity.label_))\n",
        "\n",
        "products"
      ],
      "metadata": {
        "id": "Q8c8O0HLSyIT"
      },
      "execution_count": null,
      "outputs": []
    },
    {
      "cell_type": "code",
      "source": [
        "list(set([preprocess_text(el) for el, _ in products]))"
      ],
      "metadata": {
        "id": "cGdweTijX2td"
      },
      "execution_count": null,
      "outputs": []
    },
    {
      "cell_type": "code",
      "source": [
        "from collections import Counter\n",
        "from difflib import SequenceMatcher\n",
        "\n",
        "# Lista di stringhe da raggruppare\n",
        "stringhe = list(set([preprocess_text(el) for el, _ in products]))\n",
        "\n",
        "# Funzione per calcolare la similarità tra due stringhe\n",
        "def similarita(s1, s2):\n",
        "    return SequenceMatcher(None, s1, s2).ratio()\n",
        "\n",
        "# Raggruppare le stringhe simili\n",
        "gruppi = []\n",
        "for stringa in stringhe:\n",
        "    aggiunto = False\n",
        "    for gruppo in gruppi:\n",
        "        if any(similarita(stringa, s) > 0.6 for s in gruppo):\n",
        "            gruppo.append(stringa)\n",
        "            aggiunto = True\n",
        "            break\n",
        "    if not aggiunto:\n",
        "        gruppi.append([stringa])\n",
        "\n",
        "# Contare le occorrenze di ogni gruppo\n",
        "conteggio_gruppi = Counter([tuple(sorted(gruppo)) for gruppo in gruppi])\n",
        "\n",
        "# Ordinare i gruppi in base alla frequenza di comparsa\n",
        "gruppi_ordinati = sorted(conteggio_gruppi.items(), key=lambda x: x[1], reverse=True)\n",
        "\n",
        "# Stampare i gruppi in ordine di frequenza\n",
        "res = []\n",
        "for gruppo, _ in gruppi_ordinati:\n",
        "    if len(gruppo) > 1 and not any( any( token in [\"vorrei\", \"vs\", \"vostro\"] for token in el.split()) for el in gruppo):\n",
        "        print(gruppo)\n",
        "        res.append(gruppo)\n",
        "\n",
        "print(len(res))\n",
        "res = [item for el in res for item in el if \"vorrei\" not in item]\n"
      ],
      "metadata": {
        "colab": {
          "base_uri": "https://localhost:8080/"
        },
        "id": "GXjPbWlSbRZg",
        "outputId": "62df868a-967c-4a00-fa8c-2a4fce69b4b0"
      },
      "execution_count": 169,
      "outputs": [
        {
          "output_type": "stream",
          "name": "stdout",
          "text": [
            "('dek classico', 'gusto classico', 'gusto forte', 'gusto ricco')\n",
            "('cialde al ginseng', 'cialde compatibile', 'cialde crema', 'cialde ese', 'dek cremoso', 'dek intenso', 'gusto compatibili')\n",
            "('a modo mio', 'mod tiny', 'modo mio', 'modo mio dek', 'modo mio desèa', 'modo mio deséa', 'modo mio suerte')\n",
            "('jolie ke', 'jolie milk', 'jolie plus')\n",
            "('dek espresso', 'ese crema gusto', 'espresso bio', 'espresso cremoso', 'espresso dek gentile', 'espresso intenso', 'espresso milk', 'espresso point', 'gusto espresso', 'l espresso', 'linea espresso point', 'macchinetta espresso', 'nescafè dolcegusto', 'nescafé dolce gusto', 'nespresso dolce gusto', 'nespresso orginal', 'nespresso original', 'nespresso vertuo', 'qualità oro espresso')\n",
            "('cappuccino compatibili', 'cappuccino ginseng', 'cappuccino large', 'coffee cappuccino')\n",
            "('qualità oro', 'qualità rossa', 'qualità rossa dek')\n",
            "('nescafè dolce gusto', 'nescafé dolce')\n",
            "('gran cafè paulista', 'gran café paulista')\n",
            "('brasile cerrado', 'brasile mia terra')\n",
            "10\n"
          ]
        }
      ]
    },
    {
      "cell_type": "code",
      "source": [
        "#cleaned_docs = [transform(row[\"Risposta\"]) for _, row in df3.iterrows()]\n",
        "cleaned_docs = [transform(el) for el in res]"
      ],
      "metadata": {
        "id": "rbeYp38908TW"
      },
      "execution_count": 171,
      "outputs": []
    },
    {
      "cell_type": "code",
      "source": [
        "# Crea un dizionario e un corpus\n",
        "\n",
        "dictionary = corpora.Dictionary(cleaned_docs)\n",
        "corpus = [dictionary.doc2bow(text) for text in cleaned_docs]\n",
        "\n",
        "# Allenamento del modello LDA\n",
        "lda_model = gensim.models.LdaModel(corpus, num_topics=10, id2word=dictionary, passes=20)\n",
        "\n",
        "# Visualizza i topic\n",
        "topics = lda_model.print_topics(num_words=2)\n",
        "for topic in topics:\n",
        "    print(topic)"
      ],
      "metadata": {
        "colab": {
          "base_uri": "https://localhost:8080/"
        },
        "id": "nn2jBefzz5FX",
        "outputId": "94db7c65-d48e-41f7-853a-cb6a46d944cd"
      },
      "execution_count": 172,
      "outputs": [
        {
          "output_type": "stream",
          "name": "stdout",
          "text": [
            "(0, '0.178*\"gusto\" + 0.178*\"dolce\"')\n",
            "(1, '0.223*\"milk\" + 0.223*\"jolie\"')\n",
            "(2, '0.284*\"cremoso\" + 0.149*\"espresso\"')\n",
            "(3, '0.236*\"gusto\" + 0.120*\"classico\"')\n",
            "(4, '0.343*\"espresso\" + 0.071*\"point\"')\n",
            "(5, '0.266*\"qualità\" + 0.136*\"rossa\"')\n",
            "(6, '0.396*\"modo\" + 0.071*\"cappuccino\"')\n",
            "(7, '0.250*\"brasile\" + 0.131*\"cerrado\"')\n",
            "(8, '0.202*\"intenso\" + 0.106*\"cappuccino\"')\n",
            "(9, '0.330*\"cialde\" + 0.089*\"nespresso\"')\n"
          ]
        }
      ]
    },
    {
      "cell_type": "code",
      "source": [
        "# Prepara il nuovo documento\n",
        "new_document = \"quanto costano le capsule rossa.\"\n",
        "new_text = transform(new_document)\n",
        "\n",
        "# Trasforma il nuovo documento in un corpus\n",
        "new_corpus = dictionary.doc2bow(new_text)\n",
        "\n",
        "# Ottieni la distribuzione dei topic per il nuovo documento\n",
        "topic_distribution = max(lda_model.get_document_topics(new_corpus), key=lambda x:x[1])\n",
        "\n",
        "# Visualizza la distribuzione dei topic\n",
        "print(topic_distribution)"
      ],
      "metadata": {
        "colab": {
          "base_uri": "https://localhost:8080/"
        },
        "id": "LP3Qhxitz8Br",
        "outputId": "bec13fa2-e0b4-4662-812f-97a2b7707d3d"
      },
      "execution_count": 154,
      "outputs": [
        {
          "output_type": "stream",
          "name": "stdout",
          "text": [
            "(4, 0.5384609)\n"
          ]
        }
      ]
    },
    {
      "cell_type": "markdown",
      "source": [
        "# **Finetuning**"
      ],
      "metadata": {
        "id": "ZjlFfie5c5UG"
      }
    },
    {
      "cell_type": "markdown",
      "source": [
        "## Split Train/Val"
      ],
      "metadata": {
        "id": "9kdzCcl2dDlH"
      }
    },
    {
      "cell_type": "code",
      "source": [
        "df_ft = df3[[\"Data\",\"Testo\", \"Risposta\", \"level_1\"]]\n",
        "df_ft.head()"
      ],
      "metadata": {
        "colab": {
          "base_uri": "https://localhost:8080/",
          "height": 0
        },
        "id": "6x4zzGKL2pSD",
        "outputId": "1a85ffbc-24c9-483e-83dd-3da636168893"
      },
      "execution_count": 40,
      "outputs": [
        {
          "output_type": "execute_result",
          "data": {
            "text/plain": [
              "         Data                                              Testo  \\\n",
              "0  2022-01-07  per piacere il prezzo della scatola di divino ...   \n",
              "1  2021-12-21  quando un cliente invia una email è cortesia r...   \n",
              "2  2022-01-19                       salve avete caffè in chicchi   \n",
              "3  2022-03-13  io invece per una riparazione e dopo numero la...   \n",
              "4  2021-07-12  si ma spedirli anche a bergamo e dintorni cosa...   \n",
              "\n",
              "                                            Risposta               level_1  \n",
              "0  Ciao il prezzo di ogni confezione di Lavazza A...  SALES & DISTRIBUTION  \n",
              "1  Ciao ci dispiace per quanto ci hai segnalato. ...                no_cat  \n",
              "2  Ciao puoi trovare la nostra selezione Lavazza ...  SALES & DISTRIBUTION  \n",
              "3  Ciao ci dispiace per quanto ci segnali e ci pi...                no_cat  \n",
              "4  Ciao i nuovi prodotti Lavazza Iced Coffee Capp...  SALES & DISTRIBUTION  "
            ],
            "text/html": [
              "\n",
              "  <div id=\"df-1557651e-3ac8-4eda-b0c4-17338ea371d2\" class=\"colab-df-container\">\n",
              "    <div>\n",
              "<style scoped>\n",
              "    .dataframe tbody tr th:only-of-type {\n",
              "        vertical-align: middle;\n",
              "    }\n",
              "\n",
              "    .dataframe tbody tr th {\n",
              "        vertical-align: top;\n",
              "    }\n",
              "\n",
              "    .dataframe thead th {\n",
              "        text-align: right;\n",
              "    }\n",
              "</style>\n",
              "<table border=\"1\" class=\"dataframe\">\n",
              "  <thead>\n",
              "    <tr style=\"text-align: right;\">\n",
              "      <th></th>\n",
              "      <th>Data</th>\n",
              "      <th>Testo</th>\n",
              "      <th>Risposta</th>\n",
              "      <th>level_1</th>\n",
              "    </tr>\n",
              "  </thead>\n",
              "  <tbody>\n",
              "    <tr>\n",
              "      <th>0</th>\n",
              "      <td>2022-01-07</td>\n",
              "      <td>per piacere il prezzo della scatola di divino ...</td>\n",
              "      <td>Ciao il prezzo di ogni confezione di Lavazza A...</td>\n",
              "      <td>SALES &amp; DISTRIBUTION</td>\n",
              "    </tr>\n",
              "    <tr>\n",
              "      <th>1</th>\n",
              "      <td>2021-12-21</td>\n",
              "      <td>quando un cliente invia una email è cortesia r...</td>\n",
              "      <td>Ciao ci dispiace per quanto ci hai segnalato. ...</td>\n",
              "      <td>no_cat</td>\n",
              "    </tr>\n",
              "    <tr>\n",
              "      <th>2</th>\n",
              "      <td>2022-01-19</td>\n",
              "      <td>salve avete caffè in chicchi</td>\n",
              "      <td>Ciao puoi trovare la nostra selezione Lavazza ...</td>\n",
              "      <td>SALES &amp; DISTRIBUTION</td>\n",
              "    </tr>\n",
              "    <tr>\n",
              "      <th>3</th>\n",
              "      <td>2022-03-13</td>\n",
              "      <td>io invece per una riparazione e dopo numero la...</td>\n",
              "      <td>Ciao ci dispiace per quanto ci segnali e ci pi...</td>\n",
              "      <td>no_cat</td>\n",
              "    </tr>\n",
              "    <tr>\n",
              "      <th>4</th>\n",
              "      <td>2021-07-12</td>\n",
              "      <td>si ma spedirli anche a bergamo e dintorni cosa...</td>\n",
              "      <td>Ciao i nuovi prodotti Lavazza Iced Coffee Capp...</td>\n",
              "      <td>SALES &amp; DISTRIBUTION</td>\n",
              "    </tr>\n",
              "  </tbody>\n",
              "</table>\n",
              "</div>\n",
              "    <div class=\"colab-df-buttons\">\n",
              "\n",
              "  <div class=\"colab-df-container\">\n",
              "    <button class=\"colab-df-convert\" onclick=\"convertToInteractive('df-1557651e-3ac8-4eda-b0c4-17338ea371d2')\"\n",
              "            title=\"Convert this dataframe to an interactive table.\"\n",
              "            style=\"display:none;\">\n",
              "\n",
              "  <svg xmlns=\"http://www.w3.org/2000/svg\" height=\"24px\" viewBox=\"0 -960 960 960\">\n",
              "    <path d=\"M120-120v-720h720v720H120Zm60-500h600v-160H180v160Zm220 220h160v-160H400v160Zm0 220h160v-160H400v160ZM180-400h160v-160H180v160Zm440 0h160v-160H620v160ZM180-180h160v-160H180v160Zm440 0h160v-160H620v160Z\"/>\n",
              "  </svg>\n",
              "    </button>\n",
              "\n",
              "  <style>\n",
              "    .colab-df-container {\n",
              "      display:flex;\n",
              "      gap: 12px;\n",
              "    }\n",
              "\n",
              "    .colab-df-convert {\n",
              "      background-color: #E8F0FE;\n",
              "      border: none;\n",
              "      border-radius: 50%;\n",
              "      cursor: pointer;\n",
              "      display: none;\n",
              "      fill: #1967D2;\n",
              "      height: 32px;\n",
              "      padding: 0 0 0 0;\n",
              "      width: 32px;\n",
              "    }\n",
              "\n",
              "    .colab-df-convert:hover {\n",
              "      background-color: #E2EBFA;\n",
              "      box-shadow: 0px 1px 2px rgba(60, 64, 67, 0.3), 0px 1px 3px 1px rgba(60, 64, 67, 0.15);\n",
              "      fill: #174EA6;\n",
              "    }\n",
              "\n",
              "    .colab-df-buttons div {\n",
              "      margin-bottom: 4px;\n",
              "    }\n",
              "\n",
              "    [theme=dark] .colab-df-convert {\n",
              "      background-color: #3B4455;\n",
              "      fill: #D2E3FC;\n",
              "    }\n",
              "\n",
              "    [theme=dark] .colab-df-convert:hover {\n",
              "      background-color: #434B5C;\n",
              "      box-shadow: 0px 1px 3px 1px rgba(0, 0, 0, 0.15);\n",
              "      filter: drop-shadow(0px 1px 2px rgba(0, 0, 0, 0.3));\n",
              "      fill: #FFFFFF;\n",
              "    }\n",
              "  </style>\n",
              "\n",
              "    <script>\n",
              "      const buttonEl =\n",
              "        document.querySelector('#df-1557651e-3ac8-4eda-b0c4-17338ea371d2 button.colab-df-convert');\n",
              "      buttonEl.style.display =\n",
              "        google.colab.kernel.accessAllowed ? 'block' : 'none';\n",
              "\n",
              "      async function convertToInteractive(key) {\n",
              "        const element = document.querySelector('#df-1557651e-3ac8-4eda-b0c4-17338ea371d2');\n",
              "        const dataTable =\n",
              "          await google.colab.kernel.invokeFunction('convertToInteractive',\n",
              "                                                    [key], {});\n",
              "        if (!dataTable) return;\n",
              "\n",
              "        const docLinkHtml = 'Like what you see? Visit the ' +\n",
              "          '<a target=\"_blank\" href=https://colab.research.google.com/notebooks/data_table.ipynb>data table notebook</a>'\n",
              "          + ' to learn more about interactive tables.';\n",
              "        element.innerHTML = '';\n",
              "        dataTable['output_type'] = 'display_data';\n",
              "        await google.colab.output.renderOutput(dataTable, element);\n",
              "        const docLink = document.createElement('div');\n",
              "        docLink.innerHTML = docLinkHtml;\n",
              "        element.appendChild(docLink);\n",
              "      }\n",
              "    </script>\n",
              "  </div>\n",
              "\n",
              "\n",
              "<div id=\"df-df7d7314-b6f2-446b-adbe-db132e1b37d0\">\n",
              "  <button class=\"colab-df-quickchart\" onclick=\"quickchart('df-df7d7314-b6f2-446b-adbe-db132e1b37d0')\"\n",
              "            title=\"Suggest charts.\"\n",
              "            style=\"display:none;\">\n",
              "\n",
              "<svg xmlns=\"http://www.w3.org/2000/svg\" height=\"24px\"viewBox=\"0 0 24 24\"\n",
              "     width=\"24px\">\n",
              "    <g>\n",
              "        <path d=\"M19 3H5c-1.1 0-2 .9-2 2v14c0 1.1.9 2 2 2h14c1.1 0 2-.9 2-2V5c0-1.1-.9-2-2-2zM9 17H7v-7h2v7zm4 0h-2V7h2v10zm4 0h-2v-4h2v4z\"/>\n",
              "    </g>\n",
              "</svg>\n",
              "  </button>\n",
              "\n",
              "<style>\n",
              "  .colab-df-quickchart {\n",
              "      --bg-color: #E8F0FE;\n",
              "      --fill-color: #1967D2;\n",
              "      --hover-bg-color: #E2EBFA;\n",
              "      --hover-fill-color: #174EA6;\n",
              "      --disabled-fill-color: #AAA;\n",
              "      --disabled-bg-color: #DDD;\n",
              "  }\n",
              "\n",
              "  [theme=dark] .colab-df-quickchart {\n",
              "      --bg-color: #3B4455;\n",
              "      --fill-color: #D2E3FC;\n",
              "      --hover-bg-color: #434B5C;\n",
              "      --hover-fill-color: #FFFFFF;\n",
              "      --disabled-bg-color: #3B4455;\n",
              "      --disabled-fill-color: #666;\n",
              "  }\n",
              "\n",
              "  .colab-df-quickchart {\n",
              "    background-color: var(--bg-color);\n",
              "    border: none;\n",
              "    border-radius: 50%;\n",
              "    cursor: pointer;\n",
              "    display: none;\n",
              "    fill: var(--fill-color);\n",
              "    height: 32px;\n",
              "    padding: 0;\n",
              "    width: 32px;\n",
              "  }\n",
              "\n",
              "  .colab-df-quickchart:hover {\n",
              "    background-color: var(--hover-bg-color);\n",
              "    box-shadow: 0 1px 2px rgba(60, 64, 67, 0.3), 0 1px 3px 1px rgba(60, 64, 67, 0.15);\n",
              "    fill: var(--button-hover-fill-color);\n",
              "  }\n",
              "\n",
              "  .colab-df-quickchart-complete:disabled,\n",
              "  .colab-df-quickchart-complete:disabled:hover {\n",
              "    background-color: var(--disabled-bg-color);\n",
              "    fill: var(--disabled-fill-color);\n",
              "    box-shadow: none;\n",
              "  }\n",
              "\n",
              "  .colab-df-spinner {\n",
              "    border: 2px solid var(--fill-color);\n",
              "    border-color: transparent;\n",
              "    border-bottom-color: var(--fill-color);\n",
              "    animation:\n",
              "      spin 1s steps(1) infinite;\n",
              "  }\n",
              "\n",
              "  @keyframes spin {\n",
              "    0% {\n",
              "      border-color: transparent;\n",
              "      border-bottom-color: var(--fill-color);\n",
              "      border-left-color: var(--fill-color);\n",
              "    }\n",
              "    20% {\n",
              "      border-color: transparent;\n",
              "      border-left-color: var(--fill-color);\n",
              "      border-top-color: var(--fill-color);\n",
              "    }\n",
              "    30% {\n",
              "      border-color: transparent;\n",
              "      border-left-color: var(--fill-color);\n",
              "      border-top-color: var(--fill-color);\n",
              "      border-right-color: var(--fill-color);\n",
              "    }\n",
              "    40% {\n",
              "      border-color: transparent;\n",
              "      border-right-color: var(--fill-color);\n",
              "      border-top-color: var(--fill-color);\n",
              "    }\n",
              "    60% {\n",
              "      border-color: transparent;\n",
              "      border-right-color: var(--fill-color);\n",
              "    }\n",
              "    80% {\n",
              "      border-color: transparent;\n",
              "      border-right-color: var(--fill-color);\n",
              "      border-bottom-color: var(--fill-color);\n",
              "    }\n",
              "    90% {\n",
              "      border-color: transparent;\n",
              "      border-bottom-color: var(--fill-color);\n",
              "    }\n",
              "  }\n",
              "</style>\n",
              "\n",
              "  <script>\n",
              "    async function quickchart(key) {\n",
              "      const quickchartButtonEl =\n",
              "        document.querySelector('#' + key + ' button');\n",
              "      quickchartButtonEl.disabled = true;  // To prevent multiple clicks.\n",
              "      quickchartButtonEl.classList.add('colab-df-spinner');\n",
              "      try {\n",
              "        const charts = await google.colab.kernel.invokeFunction(\n",
              "            'suggestCharts', [key], {});\n",
              "      } catch (error) {\n",
              "        console.error('Error during call to suggestCharts:', error);\n",
              "      }\n",
              "      quickchartButtonEl.classList.remove('colab-df-spinner');\n",
              "      quickchartButtonEl.classList.add('colab-df-quickchart-complete');\n",
              "    }\n",
              "    (() => {\n",
              "      let quickchartButtonEl =\n",
              "        document.querySelector('#df-df7d7314-b6f2-446b-adbe-db132e1b37d0 button');\n",
              "      quickchartButtonEl.style.display =\n",
              "        google.colab.kernel.accessAllowed ? 'block' : 'none';\n",
              "    })();\n",
              "  </script>\n",
              "</div>\n",
              "    </div>\n",
              "  </div>\n"
            ]
          },
          "metadata": {},
          "execution_count": 40
        }
      ]
    },
    {
      "cell_type": "code",
      "source": [
        "df.level_1.value_counts()"
      ],
      "metadata": {
        "colab": {
          "base_uri": "https://localhost:8080/",
          "height": 0
        },
        "id": "MJxg8ohVddWX",
        "outputId": "5606391c-1426-41c1-8e08-c7e16e480865"
      },
      "execution_count": 39,
      "outputs": [
        {
          "output_type": "execute_result",
          "data": {
            "text/plain": [
              "SALES & DISTRIBUTION         512\n",
              "PRODOTTO                     206\n",
              "no_cat                       131\n",
              "MACCHINA                      53\n",
              "COMUNICAZIONE & MARKETING     37\n",
              "LAVAZZA CORPORATE             16\n",
              "CONFEZIONE                    13\n",
              "SALUTE & NUTRIZIONE            8\n",
              "Name: level_1, dtype: int64"
            ]
          },
          "metadata": {},
          "execution_count": 39
        }
      ]
    },
    {
      "cell_type": "code",
      "source": [
        "from sklearn.preprocessing import LabelEncoder\n",
        "\n",
        "enc = LabelEncoder()\n",
        "df_ft[\"level_1\"] = enc.fit_transform(y)\n",
        "\n",
        "df_ft[\"level_1\"].value_counts()"
      ],
      "metadata": {
        "colab": {
          "base_uri": "https://localhost:8080/",
          "height": 0
        },
        "id": "F2R4QR4XdsP6",
        "outputId": "345ae9da-931e-49e2-8e54-018c6ade951d"
      },
      "execution_count": 46,
      "outputs": [
        {
          "output_type": "stream",
          "name": "stderr",
          "text": [
            "<ipython-input-46-7a57553fe788>:6: SettingWithCopyWarning: \n",
            "A value is trying to be set on a copy of a slice from a DataFrame.\n",
            "Try using .loc[row_indexer,col_indexer] = value instead\n",
            "\n",
            "See the caveats in the documentation: https://pandas.pydata.org/pandas-docs/stable/user_guide/indexing.html#returning-a-view-versus-a-copy\n",
            "  df_ft[\"level_1\"] = enc.fit_transform(y)\n"
          ]
        },
        {
          "output_type": "execute_result",
          "data": {
            "text/plain": [
              "5    512\n",
              "4    205\n",
              "7    130\n",
              "3     53\n",
              "0     37\n",
              "2     16\n",
              "1     13\n",
              "6      8\n",
              "Name: level_1, dtype: int64"
            ]
          },
          "metadata": {},
          "execution_count": 46
        }
      ]
    },
    {
      "cell_type": "code",
      "source": [
        "from sklearn.model_selection import train_test_split\n",
        "\n",
        "\n",
        "X, y = df_ft.iloc[:, :-1], df_ft.iloc[:, -1]\n",
        "\n",
        "X_train, X_val, y_train, y_val = train_test_split(X,y, test_size=.1, random_state=0, stratify=y)"
      ],
      "metadata": {
        "id": "0TEuuUiEfJlY"
      },
      "execution_count": 87,
      "outputs": []
    },
    {
      "cell_type": "code",
      "source": [
        "import numpy as np\n",
        "import matplotlib.pyplot as plt\n",
        "\n",
        "s1, s2 = np.array(y_train.value_counts().values), np.array(y_val.value_counts().values)\n",
        "x = np.arange(max(set(y_val)) + 1)\n",
        "s1p, s2p = (s1 / s1.sum()) * 100, (s2 / s2.sum()) * 100\n",
        "bw = 0.35\n",
        "\n",
        "fig, ax = plt.subplots()\n",
        "ax.bar(x - bw/2, s1p, bw, label='Series 1')\n",
        "ax.bar(x + bw/2, s2p, bw, label='Series 2')\n",
        "ax.set_xlabel('X Values'); ax.set_ylabel('Percentage')\n",
        "ax.set_title('Comparison of Two Series')\n",
        "ax.set_xticks(x); ax.set_xticklabels(x); ax.legend()\n",
        "plt.show()\n"
      ],
      "metadata": {
        "colab": {
          "base_uri": "https://localhost:8080/",
          "height": 0
        },
        "id": "B3fvpbXUgsqO",
        "outputId": "dce05b1f-a7ad-4cb9-9627-63cf21874707"
      },
      "execution_count": 88,
      "outputs": [
        {
          "output_type": "display_data",
          "data": {
            "text/plain": [
              "<Figure size 640x480 with 1 Axes>"
            ],
            "image/png": "[encoded data removed]"
          },
          "metadata": {}
        }
      ]
    },
    {
      "cell_type": "markdown",
      "source": [
        "## Train-Val Data processing"
      ],
      "metadata": {
        "id": "kR0aSXFOjBQh"
      }
    },
    {
      "cell_type": "code",
      "source": [
        "from pprint import pprint\n",
        "training_data = []\n",
        "\n",
        "system_message = \"\"\"\n",
        "    Sei un chatbot gentile che risponde ai clienti di Lavazza per assisterli sui suoi prodotti.\n",
        "    Per rispondere, utilizza le seguenti coppie di domande e risposte fatte dai clienti algi assistenti che lavorano per l'azienda Lavazza.\n",
        "    Sii il più specifico possibile, fornisci links e/o numero di telefono se necessario.\n",
        "    Se non trovi una risposta specifica vai sul sito ufficiale \"https://www.lavazza.it/it/\" e cerca il prodotto che viene richiesto, fornendo il link completo al cliente.\n",
        "    Se la domanda/affermazione fa emergere delle complicanze rispondi scusandoti ed invitando a contattare il servizio clienti al\n",
        "    Numero Verde 800124535 o all'indirizzo e-mail info@lavazza.it\".\n",
        "    Se hai a disposizione molte informazioni, preferisci rispondere basandoti sulla data più recente, ed inizia la frase senza inserire la data.\n",
        "    Se la domanda non riguarda i prodotti Lavazza rispondi 'Non trovo una risposta, puoi essere più specifico?'\n",
        "    \"\"\"\n",
        "\n",
        "def prepare_example_conversation(row):\n",
        "    messages = []\n",
        "    messages.append({\"role\": \"system\",\n",
        "                     \"content\": \"Sei un chatbot gentile che risponde ai clienti di Lavazza per assisterli sui suoi prodotti.\"})\n",
        "\n",
        "    #user_message = create_user_message(row)\n",
        "    messages.append({\"role\": \"user\",\n",
        "                     \"content\": row[\"Testo\"]})\n",
        "\n",
        "    messages.append({\"role\": \"assistant\",\n",
        "                     \"content\": str(row[\"Data\"]) + \": \" + row[\"Risposta\"]})\n",
        "\n",
        "    return {\"messages\": messages}"
      ],
      "metadata": {
        "id": "4Uop7Qw6iqG9"
      },
      "execution_count": 209,
      "outputs": []
    },
    {
      "cell_type": "code",
      "source": [
        "# Formatting for OPEN-AI FT engine\n",
        "train_data = X_train.apply(prepare_example_conversation, axis=1).to_list()\n",
        "validation_data = X_val.apply(prepare_example_conversation, axis=1).tolist()\n",
        "\n",
        "print(len(train_data), len(validation_data))\n",
        "train_data[0]"
      ],
      "metadata": {
        "colab": {
          "base_uri": "https://localhost:8080/"
        },
        "id": "N8fWRuaaj7LP",
        "outputId": "a9b4ece6-04ef-41c2-e20a-cdd7cde93faf"
      },
      "execution_count": 145,
      "outputs": [
        {
          "output_type": "stream",
          "name": "stdout",
          "text": [
            "876 98\n"
          ]
        },
        {
          "output_type": "execute_result",
          "data": {
            "text/plain": [
              "{'messages': [{'role': 'system',\n",
              "   'content': 'Sei un chatbot gentile che risponde ai clienti di Lavazza per assisterli sui suoi prodotti.'},\n",
              "  {'role': 'user',\n",
              "   'content': 'sempre adoperato qualità oro il migliore sia moda che espresso'},\n",
              "  {'role': 'assistant',\n",
              "   'content': '2022-04-21: Ciao grazie per i tuoi apprezzamenti! Ci riempiono di orgoglio e ci spingono a migliorare continuamente. Buona giornata!'}]}"
            ]
          },
          "metadata": {},
          "execution_count": 145
        }
      ]
    },
    {
      "cell_type": "code",
      "source": [
        "import json\n",
        "\n",
        "def write_jsonl(data_list: list, filename: str) -> None:\n",
        "    with open(filename, \"w\") as out:\n",
        "        for ddict in data_list:\n",
        "            jout = json.dumps(ddict) + \"\\n\"\n",
        "            out.write(jout)\n",
        "\n",
        "training_file_name = \"training_ft_date.jsonl\"\n",
        "write_jsonl(train_data, training_file_name)\n",
        "\n",
        "validation_file_name = \"validation_ft_date.jsonl\"\n",
        "write_jsonl(validation_data, validation_file_name)"
      ],
      "metadata": {
        "id": "RAGpCafZmD9o"
      },
      "execution_count": 146,
      "outputs": []
    },
    {
      "cell_type": "code",
      "source": [
        "training_response = openai.File.create(\n",
        "    file=open(training_file_name, \"rb\"), purpose=\"fine-tune\"\n",
        ")\n",
        "\n",
        "validation_response = openai.File.create(\n",
        "    file=open(validation_file_name, \"rb\"), purpose=\"fine-tune\"\n",
        ")\n",
        "\n",
        "training_file_id = training_response[\"id\"]\n",
        "validation_file_id = validation_response[\"id\"]\n",
        "\n",
        "print(\"Training file ID:\", training_file_id)\n",
        "print(\"Validation file ID:\", validation_file_id)"
      ],
      "metadata": {
        "colab": {
          "base_uri": "https://localhost:8080/"
        },
        "id": "9_fWsgcRmT9D",
        "outputId": "42127b40-4954-4824-f471-f3b3dba8fbd3"
      },
      "execution_count": 147,
      "outputs": [
        {
          "output_type": "stream",
          "name": "stdout",
          "text": [
            "Training file ID: file-s3iF6Sg15xsih2NG4pzlSYf7\n",
            "Validation file ID: file-C71cmLzG0NOIM6slRnfRhTEA\n"
          ]
        }
      ]
    },
    {
      "cell_type": "markdown",
      "source": [
        "## FineTuning"
      ],
      "metadata": {
        "id": "fwp6QE5Kmc7g"
      }
    },
    {
      "cell_type": "code",
      "source": [
        "response = openai.FineTuningJob.create(\n",
        "    training_file=training_file_id,\n",
        "    validation_file=validation_file_id,\n",
        "    model=\"gpt-3.5-turbo\",\n",
        "    suffix=\"lavazza_FT_2\",\n",
        ")\n",
        "\n",
        "job_id = response[\"id\"]\n",
        "\n",
        "print(\"Job ID:\", response[\"id\"])\n",
        "print(\"Status:\", response[\"status\"])"
      ],
      "metadata": {
        "id": "-84F0FQYmaI4"
      },
      "execution_count": null,
      "outputs": []
    },
    {
      "cell_type": "code",
      "source": [
        "response = openai.FineTuningJob.retrieve(job_id)\n",
        "\n",
        "print(\"Job ID:\", response[\"id\"])\n",
        "print(\"Status:\", response[\"status\"])\n",
        "print(\"Trained Tokens:\", response[\"trained_tokens\"])"
      ],
      "metadata": {
        "id": "iAU945LomvgX"
      },
      "execution_count": null,
      "outputs": []
    },
    {
      "cell_type": "code",
      "source": [
        "#1st fine-tuned model created: ft:gpt-3.5-turbo-0613:stip:lavazza-ft:8G9cCh9V\n",
        "#2nd fine-tuned model created: ft:gpt-3.5-turbo-0613:stip:lavazza-ft-2:8GAqmpJf"
      ],
      "metadata": {
        "id": "T0Q6nwtG2iQf"
      },
      "execution_count": null,
      "outputs": []
    },
    {
      "cell_type": "code",
      "source": [
        "response = openai.FineTuningJob.list_events(id=job_id, limit=50)\n",
        "\n",
        "events = response[\"data\"]\n",
        "events.reverse()\n",
        "\n",
        "for event in events:\n",
        "    print(event[\"message\"])"
      ],
      "metadata": {
        "id": "xILi9P-r3IG_"
      },
      "execution_count": null,
      "outputs": []
    },
    {
      "cell_type": "markdown",
      "source": [
        "### Comparison"
      ],
      "metadata": {
        "id": "MPOrnqlyTA6_"
      }
    },
    {
      "cell_type": "code",
      "source": [
        "ask(t4, print_message=True)"
      ],
      "metadata": {
        "colab": {
          "base_uri": "https://localhost:8080/",
          "height": 1000
        },
        "id": "rz7oOMwsQvJM",
        "outputId": "4905dcd9-529a-4dd5-fc1a-f467c1a27fad"
      },
      "execution_count": 222,
      "outputs": [
        {
          "output_type": "stream",
          "name": "stdout",
          "text": [
            "QUERY quanto costa divino?\n",
            "\n",
            "        Sei un chatbot gentile che risponde alla \"Question\" dei clienti di Lavazza per assisterli sui suoi prodotti.\n",
            "        Per rispondere, utilizza le seguenti coppie di domande e risposte fatte dai clienti algi assistenti che lavorano per l'azienda Lavazza. \n",
            "        Se hai a disposizione molte informazioni, preferisci rispondere basandoti sulla data più recente.\n",
            "        Sii il più specifico possibile, fornisci links e/o numero di telefono se necessario.\n",
            "        Se non trovi una risposta specifica vai sul sito ufficiale \"https://www.lavazza.it/it/\" e cerca il prodotto che viene richiesto, fornendo il link completo al cliente.\n",
            "        Se la domanda/affermazione fa emergere delle complicanze rispondi scusandoti ed invitando a contattare il servizio clienti al \n",
            "        Numero Verde 800124535 o all'indirizzo e-mail info@lavazza.it .\n",
            "        Se non trovi risposta rispondi 'Non trovo una risposta, puoi essere più specifico?' \n",
            "        \n",
            "Data: 2022-01-07\n",
            "Domanda: per piacere il prezzo della scatola di divino grazie\n",
            "Risposta:  il prezzo di ogni confezione di Lavazza A Modo Mio Divino è di 5,29 €. Per scoprire di più clicca qui: https://www.lavazza.it/it/caffe/capsule/a-modo-mio/divino.html Buona giornata!\n",
            "\n",
            "Data: 2021-12-14\n",
            "Domanda: prezzo che vedo e quello\n",
            "Risposta:  come possiamo aiutarti?\n",
            "\n",
            "Data: 2022-06-19\n",
            "Domanda: d oro chichi prezzo grazie\n",
            "Risposta:  il prezzo di una confezione da 1000 g del nostro Qualità Oro Sinfonia Perfetta in grani è di 21,19 € e puoi acquistarlo qui: https://www.lavazza.it/it/caffe/grani/qualita-oro-grani.html Lo sai che per gli ordini con importo superiore a 46 € la spedizione è gratuita? Non esitare a contattarci per qualsiasi altra richiesta: siamo qui per te :) Buona giornata!\n",
            "\n",
            "Data: 2021-11-04\n",
            "Domanda: buon pomeriggio a casa abbiamo la macchinetta a modo mio mio figlio beve solo divino e lo trovo solo in un negozio volevo sapere se l offerta è valida anche per questo grazie\n",
            "Risposta:  al seguente link https://www.lavazza.it/it/caffe/capsule/a-modo-mio/halloween_21_amm.html puoi acquistare le capsule Lavazza Espresso Divino in offerta. Buona giornata!\n",
            "\n",
            "Data: 2022-06-07\n",
            "Domanda: prezzo crema e gusto in grani acquisto continuativo 2 kg al mese\n",
            "Risposta:  il prezzo di una singola confezione di Crema e Gusto Espresso in grani da 1000 g è di 13,59 €, mentre due confezioni costano 27,18 €. Se lo desideri, puoi acquistarlo al seguente link: https://www.lavazza.it/it/caffe/grani/crema-e-gusto-espressograni.html Ti ricordiamo che, per ordini superiori a 46 €, le spese di spedizione sono gratuite! Per qualsiasi altro dubbio o richiesta, non esitare a contattarci al nostro Numero Verde 800124535: siamo qui per te :) Buona serata!\n",
            "\n",
            "Data: 2022-07-18\n",
            "Domanda: d oro quanto costa al kg\n",
            "Risposta:  se sei interessata alla nostra miscela Lavazza Qualità Oro Sinfonia Perfetta in grani, il costo di una confezione da 1000 g è di 21,19 €, e puoi acquistarla al seguente link:  https://www.lavazza.it/it/caffe/grani/qualita-oro-grani.html Per qualsiasi altro dubbio o richiesta, siamo qui per te. Buona giornata! :)\n",
            "\n",
            "Data: 2022-07-14\n",
            "Domanda: cosa costa dek e lavazza oro\n",
            "Risposta:  ti riferisci alle miscele Dek Classico e Qualità Oro macinato? Il prezzo del Dek Classico è di 3,29 € e puoi trovarlo al seguente link: https://www.lavazza.it/it/caffe/macinato/dek-classico.html. Puoi acquistare la miscela Qualità Oro a partire da 5,59 € cliccando qui: https://www.lavazza.it/it/caffe/macinato/qualita-oro.html Per qualsiasi dubbio o richiesta, siamo qui per te! Buona giornata! :)\n",
            "\n",
            "Data: 2022-07-12\n",
            "Domanda: salve crema e gusto lavazza cialde confezione da 120 quanto costa\n",
            "Risposta:  al seguente link puoi trovare il nostro Crema e Gusto Classico in Cialde ESE nei formati da 18 o 50, con un costo a partire da 0,16 € per cialda: https://www.lavazza.it/it/caffe/cialde/crema-e-gusto-cialde.html Per qualsiasi altro dubbio o richiesta, siamo qui per te :) Chiamaci al Numero Verde 800124535 oppure scrivici un'e-mail a info@lavazza.it. Buona serata!\n",
            "\n",
            "Data: 2021-10-30\n",
            "Domanda: qualcuno m sa dire il prezzo e cm faccio ad acquistarla\n",
            "Risposta: potrai avere in regalo Deséa acquistando almeno 7 confezioni di capsule Lavazza A Modo Mio per un minimo di 13 consegne, a partire da 0,33€ per capsula. Una volta raggiunto il numero minimo di consegne previste, potrai richiedere gratuitamente la disdetta e la macchina sarà per sempre tua. Scopri di più su: https://www.lavazza.it/it/lavazza-da-te/abbonamento-macchina-e-capsule.html Per ricevere maggiori informazioni ti consigliamo di contattare il nostro Servizio Consumatori al numero verde 800124535 o all'indirizzo info@lavazza. Buona Giornata!\n",
            "\n",
            "Data: 2022-04-20\n",
            "Domanda: avete crema custo forte per caffettiera quanto costa grazie\n",
            "Risposta:  il prezzo di una confezione di Lavazza Crema e Gusto Forte macinato da 250 g è di 3,09 €. Per scoprire di più clicca qui: https://www.lavazza.it/it/caffe/macinato/crema-e-gusto-forte.html Buona giornata!\n",
            "\n",
            "Data: 2021-09-27\n",
            "Domanda: ho visto con molta attenzione la vostra promozione l unica cosa che non avete detto è il costo delle capsule e delle cialde delle varie qualità\n",
            "Risposta:  il prezzo in questo tipo di abbonamento parte da 0,33€ per capsula e dipende dalle miscele che sceglierai per comporlo, che sono disponibili in più formati. Clicca qui per scoprire tutti i dettagli e fare una simulazione del tuo abbonamento: https://www.lavazza.it/it/lavazza-da-te/abbonamento-macchina-voicy-e-capsule.html, oppure chiamaci al Numero Verde 800124535, saremo lieti di rispondere a tutte le tue domande. Buona giornata!\n",
            "\n",
            "Data: 2021-11-04\n",
            "Domanda: quanto costanole capsule\n",
            "Risposta:  non c’è un prezzo fisso dell’abbonamento, dipenderà dalle capsule che sceglierai per avere la tua macchina Lavazza A Modo Mio Voicy. Il prezzo in questo tipo di abbonamento parte da 0,33€ per capsula. Potrai scegliere di ricevere i tuoi ordini con una frequenza di consegna di 2, 4, 8, 12 settimane. Potrai modificare la frequenza delle tue consegne in base alle tue esigenze di consumo. Una volta raggiunto il numero minimo di consegne previste, potrai richiedere gratuitamente la disdetta e la macchina sarà per sempre tua. Clicca qui per scoprire di più:https://www.lavazza.it/it/lavazza-da-te/abbonamento-macchina-voicy-e-capsule.html . Buona giornata!\n",
            "\n",
            "Data: 2022-02-17\n",
            "Domanda: invece chiedo per una confezione di 16 capsule al gin seng lavazza a modo mio posso sapere il costo ringrazio\n",
            "Risposta:  la miscela Ginseng da 12 capsule non è in promozione al momento, il prezzo è di 5,29 €. Con la Promo San Valentino puoi acquistare 12 confezioni di capsule Lavazza A Modo Mio, a scelta tra i formati da 12 o 16 capsule con uno sconto esclusivo del 30%, a partire da 0,27€ a capsula. Per maggiori informazioni visita il link: https://www.lavazza.it/.../a-mod.../sanvalentino_22_amm.html Buona giornata!\n",
            "\n",
            "Data: 2021-12-09\n",
            "Domanda: grazie ogni cf da 10 capsule standard quanti costa giusto per rendermi conto della spesa media annua grazie\n",
            "Risposta:  con l'abbonamento Lavazza da Te con la macchina Lavazza A Modo Mio Voicy potrai scegliere le capsule Lavazza A Modo Mio in confezioni da 12, 16 e 36 capsule escluse: Suerte, Suerte Nero e Crema&Gusto Forte. Se ti fa piacere inviaci in privato i tuoi dati: l'indirizzo email e il numero di telefono con un orario in cui sei disponibile, ti contatteremo per darti tutte le informazioni che ti servono. Buona giornata!\n",
            "\n",
            "Data: 2022-04-14\n",
            "Domanda: quando costa lavazza crema e gusto in granì da chilo\n",
            "Risposta:  con la Promo Pasqua potrai avere uno sconto del 15% su 3 confezioni di caffè Lavazza in grani, a partire da 27,99€. Clicca qui per saperne di più: https://www.lavazza.it/it/caffe/grani/pasqua_22_grani.html Buona giornata!\n",
            "\n",
            "Data: 2021-08-30\n",
            "Domanda: 50 euro al mese\n",
            "Risposta:  sottoscrivendo l'abbonamento Lavazza da Te potrai avere la macchina Lavazza A Modo Mio Voicy al prezzo riservato di € 49,90 a cui aggiungere come spesa iniziale l'acquisto di almeno 10 confezioni di capsule Lavazza A Modo Mio; il prezzo finale dipenderà dal formato e dalle miscele che sceglierai, tutti i tuoi ordini saranno consegnati gratuitamente. Se hai bisogno di ulteriori informazioni ti invitiamo a contattarci al Numero Verde 800124535. Buona giornata!\n",
            "\n",
            "Data: 2021-12-16\n",
            "Domanda: prezzo a capsula\n",
            "Risposta:  con la Promo Natale potrai acquistare almeno 10 confezioni da 12 o 16 capsule con uno sconto speciale del 30% a partire da 0,27€ a capsula. E la consegna è gratuita! Sono escluse le miscele Orzo, Ginseng e Suerte Nero. Visita il nostro sito per scoprire di più: https://www.lavazza.it/it/promo-natale-2021.html Buona Giornata!\n",
            "\n",
            "Data: 2021-08-20\n",
            "Domanda: quanto bisogna pagare per la macchinetta\n",
            "Risposta:  con l'abbonamento Lavazza da Te la macchina A Modo Mio Voicy può essere tua con un contributo minimo di soli 49,90€ anziché 249€ impegnandoti a ricevere almeno 8 consegne da 10 confezioni di capsule Lavazza A Modo Mio. Per maggiori informazioni ti invitiamo a contattarci al Numero Verde: 800124535, saremo lieti di rispondere a tutte le tue domande. Buona giornata!\n",
            "\n",
            "Data: 2021-06-29\n",
            "Domanda: 10 confezioni quante capsule sono e quanto costano\n",
            "Risposta:  non c'è un prezzo fisso dell'abbonamento, dipenderà dalla miscela che sceglierai. \n",
            "Con il servizio Lavazza da Te con macchina A Modo Mio Voicy potrai acquistare le capsule Lavazza A Modo Mio a partire da 0,33€ per capsula e potrai ordinare confezioni da 12, 16 o 36 capsule. Per ulteriori informazioni contatta il nostro Servizio Consumatori al Numero Verde 800124535 o all’indirizzo info@lavazza.it\n",
            "\n",
            "Data: 2022-05-02\n",
            "Domanda: cerco capsule lavazza a modo mio delizioso e capsule orzo mi dite quanto costano ordinando almeno 500 capsule e il trasporto e gratis grazie\n",
            "Risposta:  il prezzo di una confezione di Lavazza A Modo Mio Delizioso nel formato da 16 capsule è di 6,49 €, mentre il formato da 36 capsule costa 12,79 €. Una confezione di Lavazza A Modo Mio Orzo, invece, ha un costo di 5,49 €. Per info e prezzi sulle nostre capsule A Modo Mio, visita la seguente pagina: https://www.lavazza.it/it/caffe/capsule.html Conosci il nostro abbonamento Capsule Lavazza Da Te? Ti permette di acquistare almeno 12 confezioni di capsule usufruendo di uno sconto del 40% su ogni ordine. La consegna è gratuita. Al seguente link potrai trovare maggiori dettagli sull'abbonamento: https://www.lavazza.it/it/lavazza-da-te/abbonamento-capsule/capsule-a-modo-mio.html Buona giornata :)\n",
            "\n",
            "Data: 2021-09-26\n",
            "Domanda: quanto costano le capsule e ogni quanto mi arrivano e quante capsule ci sono nella confezione\n",
            "Risposta:   il prezzo in questo tipo di abbonamento parte da 0.33 centesimi a capsula,  a seconda della miscela che sceglierai, e ogni confezione può contenere 12, 16 o 36 capsule. Inoltre potrai scegliere di ricevere i tuoi ordini con una frequenza di consegna di 2, 4, 8, 12 settimane. Potrai modificare la frequenza delle tue consegne direttamente dalla tua area personale in base alle tue esigenze di consumo e una volta raggiunto il numero minimo di consegne previste, potrai richiedere gratuitamente la disdetta e la macchina sarà per sempre tua. Scopri di più su: https://www.lavazza.it/it/lavazza-da-te/abbonamento-macchina-e-capsule.html Per ricevere maggiori informazioni ti consigliamo di contattarci al Numero Verde 800/124535, buona giornata!\n",
            "\n",
            "Data: 2021-11-20\n",
            "Domanda: quanto vengono a costare le capsule\n",
            "Risposta:  il prezzo con l'abbonamento Lavazza da Te parte da 0,33€ per capsula. Clicca qui per scoprire di più: www.lavazza.it/it/lavazza-da-te/abbonamento-macchina-e-capsule.html Per ricevere maggiori informazioni ti consigliamo di contattare il nostro Servizio Consumatori al numero verde 800/124535 o all'indirizzo info@lavazza.\n",
            "\n",
            "\n",
            "\n",
            "Question: quanto costa divino?\n"
          ]
        },
        {
          "output_type": "execute_result",
          "data": {
            "text/plain": [
              "'Il prezzo di ogni confezione di Lavazza A Modo Mio Divino è di 5,29 €. Puoi trovare ulteriori informazioni sul prodotto e acquistarlo qui: [link al prodotto Divino](https://www.lavazza.it/it/caffe/capsule/a-modo-mio/divino.html). Buona giornata!'"
            ],
            "application/vnd.google.colaboratory.intrinsic+json": {
              "type": "string"
            }
          },
          "metadata": {},
          "execution_count": 222
        }
      ]
    },
    {
      "cell_type": "code",
      "source": [
        "response = openai.FineTuningJob.retrieve(job_id)\n",
        "fine_tuned_model_id = response[\"fine_tuned_model\"]\n",
        "\n",
        "model1 = \"ft:gpt-3.5-turbo-0613:stip:lavazza-ft:8G9cCh9V\"\n",
        "model2 = \"ft:gpt-3.5-turbo-0613:stip:lavazza-ft-2:8GAqmpJf\"\n",
        "\n",
        "test_messages = []\n",
        "test_messages.append({\"role\": \"system\", \"content\": \"Sei un chatbot gentile che risponde ai clienti di Lavazza per assisterli sui suoi prodotti.\"})\n",
        "test_messages.append({\"role\": \"user\", \"content\": system_message + \"\\n\" + t4})\n",
        "\n",
        "response = openai.ChatCompletion.create(\n",
        "    model=model1,\n",
        "    messages=test_messages,\n",
        "    temperature=0,\n",
        "    max_tokens=500\n",
        ")\n",
        "\n",
        "print(response[\"choices\"][0][\"message\"][\"content\"])"
      ],
      "metadata": {
        "colab": {
          "base_uri": "https://localhost:8080/"
        },
        "id": "My48MCypJByi",
        "outputId": "d9d70dab-a67b-4ef5-8b49-f68f744abb81"
      },
      "execution_count": 221,
      "outputs": [
        {
          "output_type": "stream",
          "name": "stdout",
          "text": [
            "Ciao per ricevere maggiori informazioni su Lavazza A Modo Divino ti suggeriamo di contattare il numero verde 800124535 o di scriverci all’indirizzo info@lavazza.it. Buona giornata!\n"
          ]
        }
      ]
    },
    {
      "cell_type": "code",
      "source": [
        "# List 10 fine-tuning jobs\n",
        "openai.FineTuningJob.list(limit=10)"
      ],
      "metadata": {
        "id": "5jmdCygr25Tp"
      },
      "execution_count": null,
      "outputs": []
    }
  ]
}